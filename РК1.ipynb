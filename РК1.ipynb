{
  "nbformat": 4,
  "nbformat_minor": 0,
  "metadata": {
    "colab": {
      "name": "РК1.ipynb",
      "provenance": [],
      "collapsed_sections": [],
      "include_colab_link": true
    },
    "kernelspec": {
      "name": "python3",
      "display_name": "Python 3"
    },
    "language_info": {
      "name": "python"
    }
  },
  "cells": [
    {
      "cell_type": "markdown",
      "metadata": {
        "id": "view-in-github",
        "colab_type": "text"
      },
      "source": [
        "<a href=\"https://colab.research.google.com/github/nikbizkit/MMO/blob/main/%D0%A0%D0%9A1.ipynb\" target=\"_parent\"><img src=\"https://colab.research.google.com/assets/colab-badge.svg\" alt=\"Open In Colab\"/></a>"
      ]
    },
    {
      "cell_type": "markdown",
      "source": [
        "# Бакланов Никита\n",
        "# ИУ5-23м\n",
        "# РК1"
      ],
      "metadata": {
        "id": "hcjatBMgYkD8"
      }
    },
    {
      "cell_type": "code",
      "execution_count": null,
      "metadata": {
        "id": "evFFnpmZOkD3"
      },
      "outputs": [],
      "source": [
        "import sklearn\n",
        "import numpy as np\n",
        "import pandas as pd\n",
        "import seaborn as sns\n",
        "import matplotlib.pyplot as plt\n",
        "%matplotlib inline "
      ]
    },
    {
      "cell_type": "code",
      "source": [
        "!unzip /content/drive/MyDrive/Colab_data/MMO/archive.zip"
      ],
      "metadata": {
        "colab": {
          "base_uri": "https://localhost:8080/"
        },
        "id": "uQ1pTSRSRf-H",
        "outputId": "70c94584-b0f8-4fd9-88c4-2537e3939c7c"
      },
      "execution_count": null,
      "outputs": [
        {
          "output_type": "stream",
          "name": "stdout",
          "text": [
            "Archive:  /content/drive/MyDrive/Colab_data/MMO/archive.zip\n",
            "  inflating: autoru_total.csv        \n"
          ]
        }
      ]
    },
    {
      "cell_type": "code",
      "source": [
        "data = pd.read_csv('/content/autoru_total.csv', sep=',')"
      ],
      "metadata": {
        "id": "QKMWlBPsQ7NC"
      },
      "execution_count": null,
      "outputs": []
    },
    {
      "cell_type": "code",
      "source": [
        "data.head()"
      ],
      "metadata": {
        "colab": {
          "base_uri": "https://localhost:8080/",
          "height": 424
        },
        "id": "KVlWVDjoSpho",
        "outputId": "cd3f42e0-445a-4d79-ba5f-14777a72dd18"
      },
      "execution_count": null,
      "outputs": [
        {
          "output_type": "execute_result",
          "data": {
            "text/plain": [
              "                              Model  Year   Mileage  V_engine EngineType  \\\n",
              "0                Subaru Forester IV  2013   83800.0       2.5     Бензин   \n",
              "1          Opel Zafira B Рестайлинг  2014   97265.0       1.8     Бензин   \n",
              "2                        Kia Rio IV  2017   48000.0       1.6     Бензин   \n",
              "3  Skoda Octavia II (A5) Рестайлинг  2011  292000.0       1.4     Бензин   \n",
              "4        Audi A6 IV (C7) Рестайлинг  2015  106205.0       1.8     Бензин   \n",
              "\n",
              "   HorsePower     Tax               State       Owners  Passport     Customs  \\\n",
              "0       171.0  8379.0  Не требует ремонта  2 владельца  Оригинал  Растаможен   \n",
              "1       140.0  4900.0  Не требует ремонта   1 владелец  Оригинал  Растаможен   \n",
              "2       123.0  3075.0  Не требует ремонта  2 владельца  Оригинал  Растаможен   \n",
              "3       122.0  4148.0  Не требует ремонта  2 владельца  Оригинал  Растаможен   \n",
              "4       190.0  9500.0  Не требует ремонта  2 владельца  Оригинал  Растаможен   \n",
              "\n",
              "           Selector        Color        CarBodyType      Accidents     Drive  \\\n",
              "0          вариатор  серебристый  внедорожник 5 дв.  ДТП ненайдены    полный   \n",
              "1      механическая       чёрный         компактвэн            NaN  передний   \n",
              "2    автоматическая        синий              седан            NaN  передний   \n",
              "3  роботизированная  серебристый            лифтбек            NaN  передний   \n",
              "4  роботизированная       чёрный              седан            NaN  передний   \n",
              "\n",
              "       Price  \n",
              "0  1499999.0  \n",
              "1  1000000.0  \n",
              "2   945000.0  \n",
              "3   535000.0  \n",
              "4  1764000.0  "
            ],
            "text/html": [
              "\n",
              "  <div id=\"df-f6a048ee-fc06-4830-a625-6c2347e368d6\">\n",
              "    <div class=\"colab-df-container\">\n",
              "      <div>\n",
              "<style scoped>\n",
              "    .dataframe tbody tr th:only-of-type {\n",
              "        vertical-align: middle;\n",
              "    }\n",
              "\n",
              "    .dataframe tbody tr th {\n",
              "        vertical-align: top;\n",
              "    }\n",
              "\n",
              "    .dataframe thead th {\n",
              "        text-align: right;\n",
              "    }\n",
              "</style>\n",
              "<table border=\"1\" class=\"dataframe\">\n",
              "  <thead>\n",
              "    <tr style=\"text-align: right;\">\n",
              "      <th></th>\n",
              "      <th>Model</th>\n",
              "      <th>Year</th>\n",
              "      <th>Mileage</th>\n",
              "      <th>V_engine</th>\n",
              "      <th>EngineType</th>\n",
              "      <th>HorsePower</th>\n",
              "      <th>Tax</th>\n",
              "      <th>State</th>\n",
              "      <th>Owners</th>\n",
              "      <th>Passport</th>\n",
              "      <th>Customs</th>\n",
              "      <th>Selector</th>\n",
              "      <th>Color</th>\n",
              "      <th>CarBodyType</th>\n",
              "      <th>Accidents</th>\n",
              "      <th>Drive</th>\n",
              "      <th>Price</th>\n",
              "    </tr>\n",
              "  </thead>\n",
              "  <tbody>\n",
              "    <tr>\n",
              "      <th>0</th>\n",
              "      <td>Subaru Forester IV</td>\n",
              "      <td>2013</td>\n",
              "      <td>83800.0</td>\n",
              "      <td>2.5</td>\n",
              "      <td>Бензин</td>\n",
              "      <td>171.0</td>\n",
              "      <td>8379.0</td>\n",
              "      <td>Не требует ремонта</td>\n",
              "      <td>2 владельца</td>\n",
              "      <td>Оригинал</td>\n",
              "      <td>Растаможен</td>\n",
              "      <td>вариатор</td>\n",
              "      <td>серебристый</td>\n",
              "      <td>внедорожник 5 дв.</td>\n",
              "      <td>ДТП ненайдены</td>\n",
              "      <td>полный</td>\n",
              "      <td>1499999.0</td>\n",
              "    </tr>\n",
              "    <tr>\n",
              "      <th>1</th>\n",
              "      <td>Opel Zafira B Рестайлинг</td>\n",
              "      <td>2014</td>\n",
              "      <td>97265.0</td>\n",
              "      <td>1.8</td>\n",
              "      <td>Бензин</td>\n",
              "      <td>140.0</td>\n",
              "      <td>4900.0</td>\n",
              "      <td>Не требует ремонта</td>\n",
              "      <td>1 владелец</td>\n",
              "      <td>Оригинал</td>\n",
              "      <td>Растаможен</td>\n",
              "      <td>механическая</td>\n",
              "      <td>чёрный</td>\n",
              "      <td>компактвэн</td>\n",
              "      <td>NaN</td>\n",
              "      <td>передний</td>\n",
              "      <td>1000000.0</td>\n",
              "    </tr>\n",
              "    <tr>\n",
              "      <th>2</th>\n",
              "      <td>Kia Rio IV</td>\n",
              "      <td>2017</td>\n",
              "      <td>48000.0</td>\n",
              "      <td>1.6</td>\n",
              "      <td>Бензин</td>\n",
              "      <td>123.0</td>\n",
              "      <td>3075.0</td>\n",
              "      <td>Не требует ремонта</td>\n",
              "      <td>2 владельца</td>\n",
              "      <td>Оригинал</td>\n",
              "      <td>Растаможен</td>\n",
              "      <td>автоматическая</td>\n",
              "      <td>синий</td>\n",
              "      <td>седан</td>\n",
              "      <td>NaN</td>\n",
              "      <td>передний</td>\n",
              "      <td>945000.0</td>\n",
              "    </tr>\n",
              "    <tr>\n",
              "      <th>3</th>\n",
              "      <td>Skoda Octavia II (A5) Рестайлинг</td>\n",
              "      <td>2011</td>\n",
              "      <td>292000.0</td>\n",
              "      <td>1.4</td>\n",
              "      <td>Бензин</td>\n",
              "      <td>122.0</td>\n",
              "      <td>4148.0</td>\n",
              "      <td>Не требует ремонта</td>\n",
              "      <td>2 владельца</td>\n",
              "      <td>Оригинал</td>\n",
              "      <td>Растаможен</td>\n",
              "      <td>роботизированная</td>\n",
              "      <td>серебристый</td>\n",
              "      <td>лифтбек</td>\n",
              "      <td>NaN</td>\n",
              "      <td>передний</td>\n",
              "      <td>535000.0</td>\n",
              "    </tr>\n",
              "    <tr>\n",
              "      <th>4</th>\n",
              "      <td>Audi A6 IV (C7) Рестайлинг</td>\n",
              "      <td>2015</td>\n",
              "      <td>106205.0</td>\n",
              "      <td>1.8</td>\n",
              "      <td>Бензин</td>\n",
              "      <td>190.0</td>\n",
              "      <td>9500.0</td>\n",
              "      <td>Не требует ремонта</td>\n",
              "      <td>2 владельца</td>\n",
              "      <td>Оригинал</td>\n",
              "      <td>Растаможен</td>\n",
              "      <td>роботизированная</td>\n",
              "      <td>чёрный</td>\n",
              "      <td>седан</td>\n",
              "      <td>NaN</td>\n",
              "      <td>передний</td>\n",
              "      <td>1764000.0</td>\n",
              "    </tr>\n",
              "  </tbody>\n",
              "</table>\n",
              "</div>\n",
              "      <button class=\"colab-df-convert\" onclick=\"convertToInteractive('df-f6a048ee-fc06-4830-a625-6c2347e368d6')\"\n",
              "              title=\"Convert this dataframe to an interactive table.\"\n",
              "              style=\"display:none;\">\n",
              "        \n",
              "  <svg xmlns=\"http://www.w3.org/2000/svg\" height=\"24px\"viewBox=\"0 0 24 24\"\n",
              "       width=\"24px\">\n",
              "    <path d=\"M0 0h24v24H0V0z\" fill=\"none\"/>\n",
              "    <path d=\"M18.56 5.44l.94 2.06.94-2.06 2.06-.94-2.06-.94-.94-2.06-.94 2.06-2.06.94zm-11 1L8.5 8.5l.94-2.06 2.06-.94-2.06-.94L8.5 2.5l-.94 2.06-2.06.94zm10 10l.94 2.06.94-2.06 2.06-.94-2.06-.94-.94-2.06-.94 2.06-2.06.94z\"/><path d=\"M17.41 7.96l-1.37-1.37c-.4-.4-.92-.59-1.43-.59-.52 0-1.04.2-1.43.59L10.3 9.45l-7.72 7.72c-.78.78-.78 2.05 0 2.83L4 21.41c.39.39.9.59 1.41.59.51 0 1.02-.2 1.41-.59l7.78-7.78 2.81-2.81c.8-.78.8-2.07 0-2.86zM5.41 20L4 18.59l7.72-7.72 1.47 1.35L5.41 20z\"/>\n",
              "  </svg>\n",
              "      </button>\n",
              "      \n",
              "  <style>\n",
              "    .colab-df-container {\n",
              "      display:flex;\n",
              "      flex-wrap:wrap;\n",
              "      gap: 12px;\n",
              "    }\n",
              "\n",
              "    .colab-df-convert {\n",
              "      background-color: #E8F0FE;\n",
              "      border: none;\n",
              "      border-radius: 50%;\n",
              "      cursor: pointer;\n",
              "      display: none;\n",
              "      fill: #1967D2;\n",
              "      height: 32px;\n",
              "      padding: 0 0 0 0;\n",
              "      width: 32px;\n",
              "    }\n",
              "\n",
              "    .colab-df-convert:hover {\n",
              "      background-color: #E2EBFA;\n",
              "      box-shadow: 0px 1px 2px rgba(60, 64, 67, 0.3), 0px 1px 3px 1px rgba(60, 64, 67, 0.15);\n",
              "      fill: #174EA6;\n",
              "    }\n",
              "\n",
              "    [theme=dark] .colab-df-convert {\n",
              "      background-color: #3B4455;\n",
              "      fill: #D2E3FC;\n",
              "    }\n",
              "\n",
              "    [theme=dark] .colab-df-convert:hover {\n",
              "      background-color: #434B5C;\n",
              "      box-shadow: 0px 1px 3px 1px rgba(0, 0, 0, 0.15);\n",
              "      filter: drop-shadow(0px 1px 2px rgba(0, 0, 0, 0.3));\n",
              "      fill: #FFFFFF;\n",
              "    }\n",
              "  </style>\n",
              "\n",
              "      <script>\n",
              "        const buttonEl =\n",
              "          document.querySelector('#df-f6a048ee-fc06-4830-a625-6c2347e368d6 button.colab-df-convert');\n",
              "        buttonEl.style.display =\n",
              "          google.colab.kernel.accessAllowed ? 'block' : 'none';\n",
              "\n",
              "        async function convertToInteractive(key) {\n",
              "          const element = document.querySelector('#df-f6a048ee-fc06-4830-a625-6c2347e368d6');\n",
              "          const dataTable =\n",
              "            await google.colab.kernel.invokeFunction('convertToInteractive',\n",
              "                                                     [key], {});\n",
              "          if (!dataTable) return;\n",
              "\n",
              "          const docLinkHtml = 'Like what you see? Visit the ' +\n",
              "            '<a target=\"_blank\" href=https://colab.research.google.com/notebooks/data_table.ipynb>data table notebook</a>'\n",
              "            + ' to learn more about interactive tables.';\n",
              "          element.innerHTML = '';\n",
              "          dataTable['output_type'] = 'display_data';\n",
              "          await google.colab.output.renderOutput(dataTable, element);\n",
              "          const docLink = document.createElement('div');\n",
              "          docLink.innerHTML = docLinkHtml;\n",
              "          element.appendChild(docLink);\n",
              "        }\n",
              "      </script>\n",
              "    </div>\n",
              "  </div>\n",
              "  "
            ]
          },
          "metadata": {},
          "execution_count": 10
        }
      ]
    },
    {
      "cell_type": "markdown",
      "source": [
        "## Задача №4"
      ],
      "metadata": {
        "id": "RHh5VwgeQdzM"
      }
    },
    {
      "cell_type": "markdown",
      "source": [
        "Для набора данных проведите кодирование одного (произвольного) категориального признака с использованием метода \"label encoding\"."
      ],
      "metadata": {
        "id": "7qQJbv-DXi8X"
      }
    },
    {
      "cell_type": "code",
      "source": [
        "from sklearn.preprocessing import LabelEncoder"
      ],
      "metadata": {
        "id": "sTfwvrYcQhtU"
      },
      "execution_count": null,
      "outputs": []
    },
    {
      "cell_type": "code",
      "source": [
        "data['Selector'].unique()"
      ],
      "metadata": {
        "colab": {
          "base_uri": "https://localhost:8080/"
        },
        "id": "QYn3hS0nTI9E",
        "outputId": "f585b924-edae-4e85-f646-d18a34294064"
      },
      "execution_count": null,
      "outputs": [
        {
          "output_type": "execute_result",
          "data": {
            "text/plain": [
              "array(['вариатор', 'механическая', 'автоматическая', 'роботизированная'],\n",
              "      dtype=object)"
            ]
          },
          "metadata": {},
          "execution_count": 12
        }
      ]
    },
    {
      "cell_type": "code",
      "source": [
        "le = LabelEncoder()\n",
        "cat_le = le.fit_transform(data['Selector'])\n",
        "np.unique(cat_le)"
      ],
      "metadata": {
        "colab": {
          "base_uri": "https://localhost:8080/"
        },
        "id": "5OWCK-r5TYKc",
        "outputId": "7f4aa335-427c-474d-ce75-7154d54b7870"
      },
      "execution_count": null,
      "outputs": [
        {
          "output_type": "execute_result",
          "data": {
            "text/plain": [
              "array([0, 1, 2, 3])"
            ]
          },
          "metadata": {},
          "execution_count": 13
        }
      ]
    },
    {
      "cell_type": "code",
      "source": [
        "data['Selector_le'] = cat_le\n",
        "data.head()"
      ],
      "metadata": {
        "colab": {
          "base_uri": "https://localhost:8080/",
          "height": 461
        },
        "id": "_tXU28NTUIT5",
        "outputId": "82b239d8-ba0e-4122-9a9c-e8c859c8b055"
      },
      "execution_count": null,
      "outputs": [
        {
          "output_type": "execute_result",
          "data": {
            "text/plain": [
              "                              Model  Year   Mileage  V_engine EngineType  \\\n",
              "0                Subaru Forester IV  2013   83800.0       2.5     Бензин   \n",
              "1          Opel Zafira B Рестайлинг  2014   97265.0       1.8     Бензин   \n",
              "2                        Kia Rio IV  2017   48000.0       1.6     Бензин   \n",
              "3  Skoda Octavia II (A5) Рестайлинг  2011  292000.0       1.4     Бензин   \n",
              "4        Audi A6 IV (C7) Рестайлинг  2015  106205.0       1.8     Бензин   \n",
              "\n",
              "   HorsePower     Tax               State       Owners  Passport     Customs  \\\n",
              "0       171.0  8379.0  Не требует ремонта  2 владельца  Оригинал  Растаможен   \n",
              "1       140.0  4900.0  Не требует ремонта   1 владелец  Оригинал  Растаможен   \n",
              "2       123.0  3075.0  Не требует ремонта  2 владельца  Оригинал  Растаможен   \n",
              "3       122.0  4148.0  Не требует ремонта  2 владельца  Оригинал  Растаможен   \n",
              "4       190.0  9500.0  Не требует ремонта  2 владельца  Оригинал  Растаможен   \n",
              "\n",
              "           Selector        Color        CarBodyType      Accidents     Drive  \\\n",
              "0          вариатор  серебристый  внедорожник 5 дв.  ДТП ненайдены    полный   \n",
              "1      механическая       чёрный         компактвэн            NaN  передний   \n",
              "2    автоматическая        синий              седан            NaN  передний   \n",
              "3  роботизированная  серебристый            лифтбек            NaN  передний   \n",
              "4  роботизированная       чёрный              седан            NaN  передний   \n",
              "\n",
              "       Price  Selector_le  \n",
              "0  1499999.0            1  \n",
              "1  1000000.0            2  \n",
              "2   945000.0            0  \n",
              "3   535000.0            3  \n",
              "4  1764000.0            3  "
            ],
            "text/html": [
              "\n",
              "  <div id=\"df-75fdbb5a-15ae-494c-ab34-c3e8463041cf\">\n",
              "    <div class=\"colab-df-container\">\n",
              "      <div>\n",
              "<style scoped>\n",
              "    .dataframe tbody tr th:only-of-type {\n",
              "        vertical-align: middle;\n",
              "    }\n",
              "\n",
              "    .dataframe tbody tr th {\n",
              "        vertical-align: top;\n",
              "    }\n",
              "\n",
              "    .dataframe thead th {\n",
              "        text-align: right;\n",
              "    }\n",
              "</style>\n",
              "<table border=\"1\" class=\"dataframe\">\n",
              "  <thead>\n",
              "    <tr style=\"text-align: right;\">\n",
              "      <th></th>\n",
              "      <th>Model</th>\n",
              "      <th>Year</th>\n",
              "      <th>Mileage</th>\n",
              "      <th>V_engine</th>\n",
              "      <th>EngineType</th>\n",
              "      <th>HorsePower</th>\n",
              "      <th>Tax</th>\n",
              "      <th>State</th>\n",
              "      <th>Owners</th>\n",
              "      <th>Passport</th>\n",
              "      <th>Customs</th>\n",
              "      <th>Selector</th>\n",
              "      <th>Color</th>\n",
              "      <th>CarBodyType</th>\n",
              "      <th>Accidents</th>\n",
              "      <th>Drive</th>\n",
              "      <th>Price</th>\n",
              "      <th>Selector_le</th>\n",
              "    </tr>\n",
              "  </thead>\n",
              "  <tbody>\n",
              "    <tr>\n",
              "      <th>0</th>\n",
              "      <td>Subaru Forester IV</td>\n",
              "      <td>2013</td>\n",
              "      <td>83800.0</td>\n",
              "      <td>2.5</td>\n",
              "      <td>Бензин</td>\n",
              "      <td>171.0</td>\n",
              "      <td>8379.0</td>\n",
              "      <td>Не требует ремонта</td>\n",
              "      <td>2 владельца</td>\n",
              "      <td>Оригинал</td>\n",
              "      <td>Растаможен</td>\n",
              "      <td>вариатор</td>\n",
              "      <td>серебристый</td>\n",
              "      <td>внедорожник 5 дв.</td>\n",
              "      <td>ДТП ненайдены</td>\n",
              "      <td>полный</td>\n",
              "      <td>1499999.0</td>\n",
              "      <td>1</td>\n",
              "    </tr>\n",
              "    <tr>\n",
              "      <th>1</th>\n",
              "      <td>Opel Zafira B Рестайлинг</td>\n",
              "      <td>2014</td>\n",
              "      <td>97265.0</td>\n",
              "      <td>1.8</td>\n",
              "      <td>Бензин</td>\n",
              "      <td>140.0</td>\n",
              "      <td>4900.0</td>\n",
              "      <td>Не требует ремонта</td>\n",
              "      <td>1 владелец</td>\n",
              "      <td>Оригинал</td>\n",
              "      <td>Растаможен</td>\n",
              "      <td>механическая</td>\n",
              "      <td>чёрный</td>\n",
              "      <td>компактвэн</td>\n",
              "      <td>NaN</td>\n",
              "      <td>передний</td>\n",
              "      <td>1000000.0</td>\n",
              "      <td>2</td>\n",
              "    </tr>\n",
              "    <tr>\n",
              "      <th>2</th>\n",
              "      <td>Kia Rio IV</td>\n",
              "      <td>2017</td>\n",
              "      <td>48000.0</td>\n",
              "      <td>1.6</td>\n",
              "      <td>Бензин</td>\n",
              "      <td>123.0</td>\n",
              "      <td>3075.0</td>\n",
              "      <td>Не требует ремонта</td>\n",
              "      <td>2 владельца</td>\n",
              "      <td>Оригинал</td>\n",
              "      <td>Растаможен</td>\n",
              "      <td>автоматическая</td>\n",
              "      <td>синий</td>\n",
              "      <td>седан</td>\n",
              "      <td>NaN</td>\n",
              "      <td>передний</td>\n",
              "      <td>945000.0</td>\n",
              "      <td>0</td>\n",
              "    </tr>\n",
              "    <tr>\n",
              "      <th>3</th>\n",
              "      <td>Skoda Octavia II (A5) Рестайлинг</td>\n",
              "      <td>2011</td>\n",
              "      <td>292000.0</td>\n",
              "      <td>1.4</td>\n",
              "      <td>Бензин</td>\n",
              "      <td>122.0</td>\n",
              "      <td>4148.0</td>\n",
              "      <td>Не требует ремонта</td>\n",
              "      <td>2 владельца</td>\n",
              "      <td>Оригинал</td>\n",
              "      <td>Растаможен</td>\n",
              "      <td>роботизированная</td>\n",
              "      <td>серебристый</td>\n",
              "      <td>лифтбек</td>\n",
              "      <td>NaN</td>\n",
              "      <td>передний</td>\n",
              "      <td>535000.0</td>\n",
              "      <td>3</td>\n",
              "    </tr>\n",
              "    <tr>\n",
              "      <th>4</th>\n",
              "      <td>Audi A6 IV (C7) Рестайлинг</td>\n",
              "      <td>2015</td>\n",
              "      <td>106205.0</td>\n",
              "      <td>1.8</td>\n",
              "      <td>Бензин</td>\n",
              "      <td>190.0</td>\n",
              "      <td>9500.0</td>\n",
              "      <td>Не требует ремонта</td>\n",
              "      <td>2 владельца</td>\n",
              "      <td>Оригинал</td>\n",
              "      <td>Растаможен</td>\n",
              "      <td>роботизированная</td>\n",
              "      <td>чёрный</td>\n",
              "      <td>седан</td>\n",
              "      <td>NaN</td>\n",
              "      <td>передний</td>\n",
              "      <td>1764000.0</td>\n",
              "      <td>3</td>\n",
              "    </tr>\n",
              "  </tbody>\n",
              "</table>\n",
              "</div>\n",
              "      <button class=\"colab-df-convert\" onclick=\"convertToInteractive('df-75fdbb5a-15ae-494c-ab34-c3e8463041cf')\"\n",
              "              title=\"Convert this dataframe to an interactive table.\"\n",
              "              style=\"display:none;\">\n",
              "        \n",
              "  <svg xmlns=\"http://www.w3.org/2000/svg\" height=\"24px\"viewBox=\"0 0 24 24\"\n",
              "       width=\"24px\">\n",
              "    <path d=\"M0 0h24v24H0V0z\" fill=\"none\"/>\n",
              "    <path d=\"M18.56 5.44l.94 2.06.94-2.06 2.06-.94-2.06-.94-.94-2.06-.94 2.06-2.06.94zm-11 1L8.5 8.5l.94-2.06 2.06-.94-2.06-.94L8.5 2.5l-.94 2.06-2.06.94zm10 10l.94 2.06.94-2.06 2.06-.94-2.06-.94-.94-2.06-.94 2.06-2.06.94z\"/><path d=\"M17.41 7.96l-1.37-1.37c-.4-.4-.92-.59-1.43-.59-.52 0-1.04.2-1.43.59L10.3 9.45l-7.72 7.72c-.78.78-.78 2.05 0 2.83L4 21.41c.39.39.9.59 1.41.59.51 0 1.02-.2 1.41-.59l7.78-7.78 2.81-2.81c.8-.78.8-2.07 0-2.86zM5.41 20L4 18.59l7.72-7.72 1.47 1.35L5.41 20z\"/>\n",
              "  </svg>\n",
              "      </button>\n",
              "      \n",
              "  <style>\n",
              "    .colab-df-container {\n",
              "      display:flex;\n",
              "      flex-wrap:wrap;\n",
              "      gap: 12px;\n",
              "    }\n",
              "\n",
              "    .colab-df-convert {\n",
              "      background-color: #E8F0FE;\n",
              "      border: none;\n",
              "      border-radius: 50%;\n",
              "      cursor: pointer;\n",
              "      display: none;\n",
              "      fill: #1967D2;\n",
              "      height: 32px;\n",
              "      padding: 0 0 0 0;\n",
              "      width: 32px;\n",
              "    }\n",
              "\n",
              "    .colab-df-convert:hover {\n",
              "      background-color: #E2EBFA;\n",
              "      box-shadow: 0px 1px 2px rgba(60, 64, 67, 0.3), 0px 1px 3px 1px rgba(60, 64, 67, 0.15);\n",
              "      fill: #174EA6;\n",
              "    }\n",
              "\n",
              "    [theme=dark] .colab-df-convert {\n",
              "      background-color: #3B4455;\n",
              "      fill: #D2E3FC;\n",
              "    }\n",
              "\n",
              "    [theme=dark] .colab-df-convert:hover {\n",
              "      background-color: #434B5C;\n",
              "      box-shadow: 0px 1px 3px 1px rgba(0, 0, 0, 0.15);\n",
              "      filter: drop-shadow(0px 1px 2px rgba(0, 0, 0, 0.3));\n",
              "      fill: #FFFFFF;\n",
              "    }\n",
              "  </style>\n",
              "\n",
              "      <script>\n",
              "        const buttonEl =\n",
              "          document.querySelector('#df-75fdbb5a-15ae-494c-ab34-c3e8463041cf button.colab-df-convert');\n",
              "        buttonEl.style.display =\n",
              "          google.colab.kernel.accessAllowed ? 'block' : 'none';\n",
              "\n",
              "        async function convertToInteractive(key) {\n",
              "          const element = document.querySelector('#df-75fdbb5a-15ae-494c-ab34-c3e8463041cf');\n",
              "          const dataTable =\n",
              "            await google.colab.kernel.invokeFunction('convertToInteractive',\n",
              "                                                     [key], {});\n",
              "          if (!dataTable) return;\n",
              "\n",
              "          const docLinkHtml = 'Like what you see? Visit the ' +\n",
              "            '<a target=\"_blank\" href=https://colab.research.google.com/notebooks/data_table.ipynb>data table notebook</a>'\n",
              "            + ' to learn more about interactive tables.';\n",
              "          element.innerHTML = '';\n",
              "          dataTable['output_type'] = 'display_data';\n",
              "          await google.colab.output.renderOutput(dataTable, element);\n",
              "          const docLink = document.createElement('div');\n",
              "          docLink.innerHTML = docLinkHtml;\n",
              "          element.appendChild(docLink);\n",
              "        }\n",
              "      </script>\n",
              "    </div>\n",
              "  </div>\n",
              "  "
            ]
          },
          "metadata": {},
          "execution_count": 15
        }
      ]
    },
    {
      "cell_type": "code",
      "source": [
        "le.inverse_transform([0, 1, 2, 3])"
      ],
      "metadata": {
        "colab": {
          "base_uri": "https://localhost:8080/"
        },
        "id": "QnUYu2mMTwoK",
        "outputId": "2423c59f-ab90-43a3-fbf9-7ddcffc91376"
      },
      "execution_count": null,
      "outputs": [
        {
          "output_type": "execute_result",
          "data": {
            "text/plain": [
              "array(['автоматическая', 'вариатор', 'механическая', 'роботизированная'],\n",
              "      dtype=object)"
            ]
          },
          "metadata": {},
          "execution_count": 14
        }
      ]
    },
    {
      "cell_type": "markdown",
      "source": [
        "## Задача 24"
      ],
      "metadata": {
        "id": "_c4OQcJ5UY-h"
      }
    },
    {
      "cell_type": "markdown",
      "source": [
        "Для набора данных для одного (произвольного) числового признака проведите обнаружение и удаление выбросов на основе 5% и 95% квантилей.\n"
      ],
      "metadata": {
        "id": "2EC7dT9XXc2T"
      }
    },
    {
      "cell_type": "code",
      "source": [
        "data.shape"
      ],
      "metadata": {
        "colab": {
          "base_uri": "https://localhost:8080/"
        },
        "id": "cRzIpvEAV2r7",
        "outputId": "7770134c-c1dc-4562-b215-8364dba39d1a"
      },
      "execution_count": null,
      "outputs": [
        {
          "output_type": "execute_result",
          "data": {
            "text/plain": [
              "(36906, 18)"
            ]
          },
          "metadata": {},
          "execution_count": 16
        }
      ]
    },
    {
      "cell_type": "code",
      "source": [
        "lower_boundary = data['Price'].quantile(0.05)\n",
        "upper_boundary = data['Price'].quantile(0.95)\n",
        "\n",
        "outliers_temp = np.where(data['Price'] > upper_boundary, True, \n",
        "                                 np.where(data['Price'] < lower_boundary, True, False))\n",
        "data_trimmed = data.loc[~(outliers_temp), ]  \n",
        "data_trimmed.shape"
      ],
      "metadata": {
        "colab": {
          "base_uri": "https://localhost:8080/"
        },
        "id": "plsC4q4JUcb_",
        "outputId": "6d36edee-ebdf-43ba-eaea-3a3d7907fed4"
      },
      "execution_count": null,
      "outputs": [
        {
          "output_type": "execute_result",
          "data": {
            "text/plain": [
              "(33226, 18)"
            ]
          },
          "metadata": {},
          "execution_count": 17
        }
      ]
    },
    {
      "cell_type": "markdown",
      "source": [
        "Для студентов групп ИУ5-23М, ИУ5И-23М - для произвольной колонки данных построить график \"Ящик с усами (boxplot)\"."
      ],
      "metadata": {
        "id": "USY9DiooXZml"
      }
    },
    {
      "cell_type": "code",
      "source": [
        "fig, ax = plt.subplots(figsize=(10,7))\n",
        "sns.boxplot(x=data['Price'])  \n",
        "fig.suptitle('Ящик с усами для Price')\n",
        "plt.show()"
      ],
      "metadata": {
        "colab": {
          "base_uri": "https://localhost:8080/",
          "height": 493
        },
        "id": "Me_V7IwjXXkx",
        "outputId": "d17a5c28-a0ea-4783-e46f-f3c789d164d1"
      },
      "execution_count": null,
      "outputs": [
        {
          "output_type": "display_data",
          "data": {
            "text/plain": [
              "<Figure size 720x504 with 1 Axes>"
            ],
            "image/png": "[encoded data removed]"
          },
          "metadata": {
            "needs_background": "light"
          }
        }
      ]
    },
    {
      "cell_type": "code",
      "source": [
        "fig, ax = plt.subplots(figsize=(10,7))\n",
        "sns.boxplot(x=data_trimmed['Price'])  \n",
        "fig.suptitle('Ящик с усами после удаления выбросов для Price')\n",
        "plt.show()"
      ],
      "metadata": {
        "colab": {
          "base_uri": "https://localhost:8080/",
          "height": 493
        },
        "id": "UZ8IGBBcYLqR",
        "outputId": "d41312a3-d5d7-4448-819e-7bb04aaa185f"
      },
      "execution_count": null,
      "outputs": [
        {
          "output_type": "display_data",
          "data": {
            "text/plain": [
              "<Figure size 720x504 with 1 Axes>"
            ],
            "image/png": "[encoded data removed]"
          },
          "metadata": {
            "needs_background": "light"
          }
        }
      ]
    }
  ]
}