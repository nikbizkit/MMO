{
  "cells": [
    {
      "cell_type": "markdown",
      "metadata": {
        "id": "view-in-github",
        "colab_type": "text"
      },
      "source": [
        "<a href=\"https://colab.research.google.com/github/nikbizkit/MMO/blob/main/LR2.ipynb\" target=\"_parent\"><img src=\"https://colab.research.google.com/assets/colab-badge.svg\" alt=\"Open In Colab\"/></a>"
      ]
    },
    {
      "cell_type": "markdown",
      "id": "637f98c0",
      "metadata": {
        "id": "637f98c0"
      },
      "source": [
        "# Выполнил: Бакланов Н.В. ИУ5-23М"
      ]
    },
    {
      "cell_type": "code",
      "execution_count": 66,
      "id": "ea13bc43",
      "metadata": {
        "id": "ea13bc43"
      },
      "outputs": [],
      "source": [
        "import numpy as np\n",
        "import pandas as pd\n",
        "import seaborn as sns\n",
        "import matplotlib.pyplot as plt\n",
        "from sklearn.impute import SimpleImputer\n",
        "from sklearn.impute import MissingIndicator\n",
        "from sklearn.impute import KNNImputer\n",
        "from sklearn.preprocessing import StandardScaler\n",
        "from sklearn.preprocessing import LabelEncoder\n",
        "from sklearn.preprocessing import OneHotEncoder\n",
        "from sklearn.pipeline import Pipeline\n",
        "from sklearn.model_selection import GridSearchCV\n",
        "from sklearn.experimental import enable_iterative_imputer\n",
        "from sklearn.impute import IterativeImputer\n",
        "from IPython.display import Image\n",
        "import matplotlib.pyplot as plt\n",
        "import scipy.stats as stats\n",
        "%matplotlib inline \n",
        "sns.set(style=\"ticks\")"
      ]
    },
    {
      "cell_type": "code",
      "execution_count": 67,
      "id": "ee1ad40e",
      "metadata": {
        "colab": {
          "base_uri": "https://localhost:8080/",
          "height": 560
        },
        "id": "ee1ad40e",
        "outputId": "c7f1f999-6aec-40a4-d2ff-fc41d3ea2960"
      },
      "outputs": [
        {
          "output_type": "execute_result",
          "data": {
            "text/plain": [
              "       R_fighter          B_fighter        Referee        date  \\\n",
              "0   Adrian Yanez      Gustavo Lopez  Chris Tognoni  2021-03-20   \n",
              "1   Trevin Giles      Roman Dolidze      Herb Dean  2021-03-20   \n",
              "2    Tai Tuivasa    Harry Hunsucker      Herb Dean  2021-03-20   \n",
              "3  Cheyanne Buys  Montserrat Conejo     Mark Smith  2021-03-20   \n",
              "4  Marion Reneau      Macy Chiasson     Mark Smith  2021-03-20   \n",
              "\n",
              "                 location Winner  title_bout       weight_class  B_avg_KD  \\\n",
              "0  Las Vegas, Nevada, USA    Red       False       Bantamweight     0.000   \n",
              "1  Las Vegas, Nevada, USA    Red       False       Middleweight     0.500   \n",
              "2  Las Vegas, Nevada, USA    Red       False        Heavyweight       NaN   \n",
              "3  Las Vegas, Nevada, USA   Blue       False   WomenStrawweight       NaN   \n",
              "4  Las Vegas, Nevada, USA   Blue       False  WomenBantamweight     0.125   \n",
              "\n",
              "   B_avg_opp_KD  ...  R_win_by_Decision_Unanimous  R_win_by_KO/TKO  \\\n",
              "0           0.0  ...                            0                1   \n",
              "1           0.0  ...                            0                3   \n",
              "2           NaN  ...                            1                3   \n",
              "3           NaN  ...                            0                0   \n",
              "4           0.0  ...                            1                2   \n",
              "\n",
              "   R_win_by_Submission  R_win_by_TKO_Doctor_Stoppage  R_Stance  R_Height_cms  \\\n",
              "0                    0                             0  Orthodox        170.18   \n",
              "1                    0                             0  Orthodox        182.88   \n",
              "2                    0                             0  Southpaw        187.96   \n",
              "3                    0                             0    Switch        160.02   \n",
              "4                    2                             0  Orthodox        167.64   \n",
              "\n",
              "   R_Reach_cms  R_Weight_lbs  B_age  R_age  \n",
              "0       177.80         135.0   31.0   27.0  \n",
              "1       187.96         185.0   32.0   28.0  \n",
              "2       190.50         264.0   32.0   28.0  \n",
              "3       160.02         115.0   28.0   25.0  \n",
              "4       172.72         135.0   29.0   43.0  \n",
              "\n",
              "[5 rows x 144 columns]"
            ],
            "text/html": [
              "\n",
              "  <div id=\"df-1a93bed2-9769-46bc-8127-3702dd1b7d6d\">\n",
              "    <div class=\"colab-df-container\">\n",
              "      <div>\n",
              "<style scoped>\n",
              "    .dataframe tbody tr th:only-of-type {\n",
              "        vertical-align: middle;\n",
              "    }\n",
              "\n",
              "    .dataframe tbody tr th {\n",
              "        vertical-align: top;\n",
              "    }\n",
              "\n",
              "    .dataframe thead th {\n",
              "        text-align: right;\n",
              "    }\n",
              "</style>\n",
              "<table border=\"1\" class=\"dataframe\">\n",
              "  <thead>\n",
              "    <tr style=\"text-align: right;\">\n",
              "      <th></th>\n",
              "      <th>R_fighter</th>\n",
              "      <th>B_fighter</th>\n",
              "      <th>Referee</th>\n",
              "      <th>date</th>\n",
              "      <th>location</th>\n",
              "      <th>Winner</th>\n",
              "      <th>title_bout</th>\n",
              "      <th>weight_class</th>\n",
              "      <th>B_avg_KD</th>\n",
              "      <th>B_avg_opp_KD</th>\n",
              "      <th>...</th>\n",
              "      <th>R_win_by_Decision_Unanimous</th>\n",
              "      <th>R_win_by_KO/TKO</th>\n",
              "      <th>R_win_by_Submission</th>\n",
              "      <th>R_win_by_TKO_Doctor_Stoppage</th>\n",
              "      <th>R_Stance</th>\n",
              "      <th>R_Height_cms</th>\n",
              "      <th>R_Reach_cms</th>\n",
              "      <th>R_Weight_lbs</th>\n",
              "      <th>B_age</th>\n",
              "      <th>R_age</th>\n",
              "    </tr>\n",
              "  </thead>\n",
              "  <tbody>\n",
              "    <tr>\n",
              "      <th>0</th>\n",
              "      <td>Adrian Yanez</td>\n",
              "      <td>Gustavo Lopez</td>\n",
              "      <td>Chris Tognoni</td>\n",
              "      <td>2021-03-20</td>\n",
              "      <td>Las Vegas, Nevada, USA</td>\n",
              "      <td>Red</td>\n",
              "      <td>False</td>\n",
              "      <td>Bantamweight</td>\n",
              "      <td>0.000</td>\n",
              "      <td>0.0</td>\n",
              "      <td>...</td>\n",
              "      <td>0</td>\n",
              "      <td>1</td>\n",
              "      <td>0</td>\n",
              "      <td>0</td>\n",
              "      <td>Orthodox</td>\n",
              "      <td>170.18</td>\n",
              "      <td>177.80</td>\n",
              "      <td>135.0</td>\n",
              "      <td>31.0</td>\n",
              "      <td>27.0</td>\n",
              "    </tr>\n",
              "    <tr>\n",
              "      <th>1</th>\n",
              "      <td>Trevin Giles</td>\n",
              "      <td>Roman Dolidze</td>\n",
              "      <td>Herb Dean</td>\n",
              "      <td>2021-03-20</td>\n",
              "      <td>Las Vegas, Nevada, USA</td>\n",
              "      <td>Red</td>\n",
              "      <td>False</td>\n",
              "      <td>Middleweight</td>\n",
              "      <td>0.500</td>\n",
              "      <td>0.0</td>\n",
              "      <td>...</td>\n",
              "      <td>0</td>\n",
              "      <td>3</td>\n",
              "      <td>0</td>\n",
              "      <td>0</td>\n",
              "      <td>Orthodox</td>\n",
              "      <td>182.88</td>\n",
              "      <td>187.96</td>\n",
              "      <td>185.0</td>\n",
              "      <td>32.0</td>\n",
              "      <td>28.0</td>\n",
              "    </tr>\n",
              "    <tr>\n",
              "      <th>2</th>\n",
              "      <td>Tai Tuivasa</td>\n",
              "      <td>Harry Hunsucker</td>\n",
              "      <td>Herb Dean</td>\n",
              "      <td>2021-03-20</td>\n",
              "      <td>Las Vegas, Nevada, USA</td>\n",
              "      <td>Red</td>\n",
              "      <td>False</td>\n",
              "      <td>Heavyweight</td>\n",
              "      <td>NaN</td>\n",
              "      <td>NaN</td>\n",
              "      <td>...</td>\n",
              "      <td>1</td>\n",
              "      <td>3</td>\n",
              "      <td>0</td>\n",
              "      <td>0</td>\n",
              "      <td>Southpaw</td>\n",
              "      <td>187.96</td>\n",
              "      <td>190.50</td>\n",
              "      <td>264.0</td>\n",
              "      <td>32.0</td>\n",
              "      <td>28.0</td>\n",
              "    </tr>\n",
              "    <tr>\n",
              "      <th>3</th>\n",
              "      <td>Cheyanne Buys</td>\n",
              "      <td>Montserrat Conejo</td>\n",
              "      <td>Mark Smith</td>\n",
              "      <td>2021-03-20</td>\n",
              "      <td>Las Vegas, Nevada, USA</td>\n",
              "      <td>Blue</td>\n",
              "      <td>False</td>\n",
              "      <td>WomenStrawweight</td>\n",
              "      <td>NaN</td>\n",
              "      <td>NaN</td>\n",
              "      <td>...</td>\n",
              "      <td>0</td>\n",
              "      <td>0</td>\n",
              "      <td>0</td>\n",
              "      <td>0</td>\n",
              "      <td>Switch</td>\n",
              "      <td>160.02</td>\n",
              "      <td>160.02</td>\n",
              "      <td>115.0</td>\n",
              "      <td>28.0</td>\n",
              "      <td>25.0</td>\n",
              "    </tr>\n",
              "    <tr>\n",
              "      <th>4</th>\n",
              "      <td>Marion Reneau</td>\n",
              "      <td>Macy Chiasson</td>\n",
              "      <td>Mark Smith</td>\n",
              "      <td>2021-03-20</td>\n",
              "      <td>Las Vegas, Nevada, USA</td>\n",
              "      <td>Blue</td>\n",
              "      <td>False</td>\n",
              "      <td>WomenBantamweight</td>\n",
              "      <td>0.125</td>\n",
              "      <td>0.0</td>\n",
              "      <td>...</td>\n",
              "      <td>1</td>\n",
              "      <td>2</td>\n",
              "      <td>2</td>\n",
              "      <td>0</td>\n",
              "      <td>Orthodox</td>\n",
              "      <td>167.64</td>\n",
              "      <td>172.72</td>\n",
              "      <td>135.0</td>\n",
              "      <td>29.0</td>\n",
              "      <td>43.0</td>\n",
              "    </tr>\n",
              "  </tbody>\n",
              "</table>\n",
              "<p>5 rows × 144 columns</p>\n",
              "</div>\n",
              "      <button class=\"colab-df-convert\" onclick=\"convertToInteractive('df-1a93bed2-9769-46bc-8127-3702dd1b7d6d')\"\n",
              "              title=\"Convert this dataframe to an interactive table.\"\n",
              "              style=\"display:none;\">\n",
              "        \n",
              "  <svg xmlns=\"http://www.w3.org/2000/svg\" height=\"24px\"viewBox=\"0 0 24 24\"\n",
              "       width=\"24px\">\n",
              "    <path d=\"M0 0h24v24H0V0z\" fill=\"none\"/>\n",
              "    <path d=\"M18.56 5.44l.94 2.06.94-2.06 2.06-.94-2.06-.94-.94-2.06-.94 2.06-2.06.94zm-11 1L8.5 8.5l.94-2.06 2.06-.94-2.06-.94L8.5 2.5l-.94 2.06-2.06.94zm10 10l.94 2.06.94-2.06 2.06-.94-2.06-.94-.94-2.06-.94 2.06-2.06.94z\"/><path d=\"M17.41 7.96l-1.37-1.37c-.4-.4-.92-.59-1.43-.59-.52 0-1.04.2-1.43.59L10.3 9.45l-7.72 7.72c-.78.78-.78 2.05 0 2.83L4 21.41c.39.39.9.59 1.41.59.51 0 1.02-.2 1.41-.59l7.78-7.78 2.81-2.81c.8-.78.8-2.07 0-2.86zM5.41 20L4 18.59l7.72-7.72 1.47 1.35L5.41 20z\"/>\n",
              "  </svg>\n",
              "      </button>\n",
              "      \n",
              "  <style>\n",
              "    .colab-df-container {\n",
              "      display:flex;\n",
              "      flex-wrap:wrap;\n",
              "      gap: 12px;\n",
              "    }\n",
              "\n",
              "    .colab-df-convert {\n",
              "      background-color: #E8F0FE;\n",
              "      border: none;\n",
              "      border-radius: 50%;\n",
              "      cursor: pointer;\n",
              "      display: none;\n",
              "      fill: #1967D2;\n",
              "      height: 32px;\n",
              "      padding: 0 0 0 0;\n",
              "      width: 32px;\n",
              "    }\n",
              "\n",
              "    .colab-df-convert:hover {\n",
              "      background-color: #E2EBFA;\n",
              "      box-shadow: 0px 1px 2px rgba(60, 64, 67, 0.3), 0px 1px 3px 1px rgba(60, 64, 67, 0.15);\n",
              "      fill: #174EA6;\n",
              "    }\n",
              "\n",
              "    [theme=dark] .colab-df-convert {\n",
              "      background-color: #3B4455;\n",
              "      fill: #D2E3FC;\n",
              "    }\n",
              "\n",
              "    [theme=dark] .colab-df-convert:hover {\n",
              "      background-color: #434B5C;\n",
              "      box-shadow: 0px 1px 3px 1px rgba(0, 0, 0, 0.15);\n",
              "      filter: drop-shadow(0px 1px 2px rgba(0, 0, 0, 0.3));\n",
              "      fill: #FFFFFF;\n",
              "    }\n",
              "  </style>\n",
              "\n",
              "      <script>\n",
              "        const buttonEl =\n",
              "          document.querySelector('#df-1a93bed2-9769-46bc-8127-3702dd1b7d6d button.colab-df-convert');\n",
              "        buttonEl.style.display =\n",
              "          google.colab.kernel.accessAllowed ? 'block' : 'none';\n",
              "\n",
              "        async function convertToInteractive(key) {\n",
              "          const element = document.querySelector('#df-1a93bed2-9769-46bc-8127-3702dd1b7d6d');\n",
              "          const dataTable =\n",
              "            await google.colab.kernel.invokeFunction('convertToInteractive',\n",
              "                                                     [key], {});\n",
              "          if (!dataTable) return;\n",
              "\n",
              "          const docLinkHtml = 'Like what you see? Visit the ' +\n",
              "            '<a target=\"_blank\" href=https://colab.research.google.com/notebooks/data_table.ipynb>data table notebook</a>'\n",
              "            + ' to learn more about interactive tables.';\n",
              "          element.innerHTML = '';\n",
              "          dataTable['output_type'] = 'display_data';\n",
              "          await google.colab.output.renderOutput(dataTable, element);\n",
              "          const docLink = document.createElement('div');\n",
              "          docLink.innerHTML = docLinkHtml;\n",
              "          element.appendChild(docLink);\n",
              "        }\n",
              "      </script>\n",
              "    </div>\n",
              "  </div>\n",
              "  "
            ]
          },
          "metadata": {},
          "execution_count": 67
        }
      ],
      "source": [
        "data = pd.read_csv('data.csv')\n",
        "data.head()"
      ]
    },
    {
      "cell_type": "code",
      "execution_count": 68,
      "id": "0d3dd635",
      "metadata": {
        "colab": {
          "base_uri": "https://localhost:8080/"
        },
        "id": "0d3dd635",
        "outputId": "1b24a3dc-580c-4224-9d6a-ba6450370bdd"
      },
      "outputs": [
        {
          "output_type": "execute_result",
          "data": {
            "text/plain": [
              "R_fighter        object\n",
              "B_fighter        object\n",
              "Referee          object\n",
              "date             object\n",
              "location         object\n",
              "                 ...   \n",
              "R_Height_cms    float64\n",
              "R_Reach_cms     float64\n",
              "R_Weight_lbs    float64\n",
              "B_age           float64\n",
              "R_age           float64\n",
              "Length: 144, dtype: object"
            ]
          },
          "metadata": {},
          "execution_count": 68
        }
      ],
      "source": [
        "data.dtypes"
      ]
    },
    {
      "cell_type": "code",
      "execution_count": 69,
      "id": "ae577618",
      "metadata": {
        "colab": {
          "base_uri": "https://localhost:8080/"
        },
        "id": "ae577618",
        "outputId": "1ae8542c-3336-4e82-9b55-121a75b95f20"
      },
      "outputs": [
        {
          "output_type": "execute_result",
          "data": {
            "text/plain": [
              "R_fighter         0\n",
              "B_fighter         0\n",
              "Referee          32\n",
              "date              0\n",
              "location          0\n",
              "               ... \n",
              "R_Height_cms      4\n",
              "R_Reach_cms     406\n",
              "R_Weight_lbs      2\n",
              "B_age           172\n",
              "R_age            63\n",
              "Length: 144, dtype: int64"
            ]
          },
          "metadata": {},
          "execution_count": 69
        }
      ],
      "source": [
        "data.isnull().sum()"
      ]
    },
    {
      "cell_type": "code",
      "execution_count": 70,
      "id": "832e76cd",
      "metadata": {
        "colab": {
          "base_uri": "https://localhost:8080/"
        },
        "id": "832e76cd",
        "outputId": "917f62b1-fd36-40eb-9679-1ebce13887ac"
      },
      "outputs": [
        {
          "output_type": "execute_result",
          "data": {
            "text/plain": [
              "R_fighter       0\n",
              "B_fighter       0\n",
              "Referee         0\n",
              "date            0\n",
              "location        0\n",
              "               ..\n",
              "R_Height_cms    0\n",
              "R_Reach_cms     0\n",
              "R_Weight_lbs    0\n",
              "B_age           0\n",
              "R_age           0\n",
              "Length: 144, dtype: int64"
            ]
          },
          "metadata": {},
          "execution_count": 70
        }
      ],
      "source": [
        "data = data.dropna(axis=0, how='any')\n",
        "data.isnull().sum()"
      ]
    },
    {
      "cell_type": "code",
      "execution_count": 71,
      "id": "91f6999a",
      "metadata": {
        "id": "91f6999a"
      },
      "outputs": [],
      "source": [
        "date = LabelEncoder()\n",
        "date_transform = date.fit_transform(data['R_fighter'])"
      ]
    },
    {
      "cell_type": "code",
      "source": [
        "data['R_fighter'].unique()"
      ],
      "metadata": {
        "colab": {
          "base_uri": "https://localhost:8080/"
        },
        "id": "pShdeWMzsrQX",
        "outputId": "c0e4ebfe-675e-480f-b8c1-70386f4d8be3"
      },
      "id": "pShdeWMzsrQX",
      "execution_count": 72,
      "outputs": [
        {
          "output_type": "execute_result",
          "data": {
            "text/plain": [
              "array(['Adrian Yanez', 'Trevin Giles', 'Marion Reneau', ...,\n",
              "       'Evan Tanner', 'Frank Trigg', 'Jens Pulver'], dtype=object)"
            ]
          },
          "metadata": {},
          "execution_count": 72
        }
      ]
    },
    {
      "cell_type": "code",
      "source": [
        "np.unique(date_transform)"
      ],
      "metadata": {
        "colab": {
          "base_uri": "https://localhost:8080/"
        },
        "id": "VUvax1_Wsukj",
        "outputId": "9b17ffb9-11ca-49f2-ef6a-15ffc90ddcee"
      },
      "id": "VUvax1_Wsukj",
      "execution_count": 73,
      "outputs": [
        {
          "output_type": "execute_result",
          "data": {
            "text/plain": [
              "array([   0,    1,    2, ..., 1026, 1027, 1028])"
            ]
          },
          "metadata": {},
          "execution_count": 73
        }
      ]
    },
    {
      "cell_type": "code",
      "execution_count": 77,
      "id": "e27f4e71",
      "metadata": {
        "colab": {
          "base_uri": "https://localhost:8080/",
          "height": 410
        },
        "id": "e27f4e71",
        "outputId": "8596a19d-2eb4-4fd5-994e-7c42b1ace40b"
      },
      "outputs": [
        {
          "output_type": "display_data",
          "data": {
            "text/plain": [
              "<Figure size 1080x432 with 2 Axes>"
            ],
            "image/png": "[encoded data removed]"
          },
          "metadata": {}
        }
      ],
      "source": [
        "diagnostic_plots(data, 'R_Height_cms')"
      ]
    },
    {
      "cell_type": "code",
      "execution_count": 78,
      "id": "bf3c2ce5",
      "metadata": {
        "colab": {
          "base_uri": "https://localhost:8080/",
          "height": 410
        },
        "id": "bf3c2ce5",
        "outputId": "34df34a6-899b-4cce-8964-fc80174febac"
      },
      "outputs": [
        {
          "output_type": "display_data",
          "data": {
            "text/plain": [
              "<Figure size 1080x432 with 2 Axes>"
            ],
            "image/png": "[encoded data removed]"
          },
          "metadata": {}
        }
      ],
      "source": [
        "data['R_Height_cms_sqr'] = data['R_Height_cms']**(1/2)\n",
        "diagnostic_plots(data, 'R_Height_cms_sqr')"
      ]
    },
    {
      "cell_type": "code",
      "execution_count": 79,
      "id": "c65567f9",
      "metadata": {
        "colab": {
          "base_uri": "https://localhost:8080/",
          "height": 427
        },
        "id": "c65567f9",
        "outputId": "14866125-c0f0-4209-a9df-70dfadaeff76"
      },
      "outputs": [
        {
          "output_type": "stream",
          "name": "stdout",
          "text": [
            "Оптимальное значение λ = 1.4820380361237178\n"
          ]
        },
        {
          "output_type": "display_data",
          "data": {
            "text/plain": [
              "<Figure size 1080x432 with 2 Axes>"
            ],
            "image/png": "[encoded data removed]"
          },
          "metadata": {}
        }
      ],
      "source": [
        "data['R_Height_cms_boxcox'], param = stats.boxcox(data['R_Height_cms'])\n",
        "print('Оптимальное значение λ = {}'.format(param))\n",
        "diagnostic_plots(data, 'R_Height_cms_boxcox')"
      ]
    },
    {
      "cell_type": "code",
      "execution_count": null,
      "id": "7032b2dd",
      "metadata": {
        "id": "7032b2dd"
      },
      "outputs": [],
      "source": [
        ""
      ]
    }
  ],
  "metadata": {
    "kernelspec": {
      "display_name": "Python 3 (ipykernel)",
      "language": "python",
      "name": "python3"
    },
    "language_info": {
      "codemirror_mode": {
        "name": "ipython",
        "version": 3
      },
      "file_extension": ".py",
      "mimetype": "text/x-python",
      "name": "python",
      "nbconvert_exporter": "python",
      "pygments_lexer": "ipython3",
      "version": "3.9.7"
    },
    "colab": {
      "name": "LR2.ipynb",
      "provenance": [],
      "include_colab_link": true
    }
  },
  "nbformat": 4,
  "nbformat_minor": 5
}