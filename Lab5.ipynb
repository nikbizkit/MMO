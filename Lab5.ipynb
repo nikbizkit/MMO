{
  "cells": [
    {
      "cell_type": "markdown",
      "metadata": {
        "id": "view-in-github",
        "colab_type": "text"
      },
      "source": [
        "<a href=\"https://colab.research.google.com/github/nikbizkit/MMO/blob/main/Lab5.ipynb\" target=\"_parent\"><img src=\"https://colab.research.google.com/assets/colab-badge.svg\" alt=\"Open In Colab\"/></a>"
      ]
    },
    {
      "cell_type": "code",
      "execution_count": 4,
      "id": "de6cc5c7",
      "metadata": {
        "id": "de6cc5c7"
      },
      "outputs": [],
      "source": [
        "import pandas as pd\n",
        "from nltk import tokenize"
      ]
    },
    {
      "cell_type": "markdown",
      "id": "000edc01",
      "metadata": {
        "id": "000edc01"
      },
      "source": [
        "Загрузим датасет с классификацией записей в сети Твиттер и предполагемой тональностью их содержимого:"
      ]
    },
    {
      "cell_type": "code",
      "execution_count": 5,
      "id": "b4981929",
      "metadata": {
        "scrolled": true,
        "colab": {
          "base_uri": "https://localhost:8080/",
          "height": 206
        },
        "id": "b4981929",
        "outputId": "5ee7be5a-2e95-4338-b2f8-d14c33537124"
      },
      "outputs": [
        {
          "output_type": "execute_result",
          "data": {
            "text/plain": [
              "     id     entity   sentiment  \\\n",
              "0  3364   Facebook  Irrelevant   \n",
              "1   352     Amazon     Neutral   \n",
              "2  8312  Microsoft    Negative   \n",
              "3  4371      CS-GO    Negative   \n",
              "4  4433     Google     Neutral   \n",
              "\n",
              "                                             comment  \n",
              "0  I mentioned on Facebook that I was struggling ...  \n",
              "1  BBC News - Amazon boss Jeff Bezos rejects clai...  \n",
              "2  @Microsoft Why do I pay for WORD when it funct...  \n",
              "3  CSGO matchmaking is so full of closet hacking,...  \n",
              "4  Now the President is slapping Americans in the...  "
            ],
            "text/html": [
              "\n",
              "  <div id=\"df-c3769d2a-e344-4cec-8c46-ecad189d12d7\">\n",
              "    <div class=\"colab-df-container\">\n",
              "      <div>\n",
              "<style scoped>\n",
              "    .dataframe tbody tr th:only-of-type {\n",
              "        vertical-align: middle;\n",
              "    }\n",
              "\n",
              "    .dataframe tbody tr th {\n",
              "        vertical-align: top;\n",
              "    }\n",
              "\n",
              "    .dataframe thead th {\n",
              "        text-align: right;\n",
              "    }\n",
              "</style>\n",
              "<table border=\"1\" class=\"dataframe\">\n",
              "  <thead>\n",
              "    <tr style=\"text-align: right;\">\n",
              "      <th></th>\n",
              "      <th>id</th>\n",
              "      <th>entity</th>\n",
              "      <th>sentiment</th>\n",
              "      <th>comment</th>\n",
              "    </tr>\n",
              "  </thead>\n",
              "  <tbody>\n",
              "    <tr>\n",
              "      <th>0</th>\n",
              "      <td>3364</td>\n",
              "      <td>Facebook</td>\n",
              "      <td>Irrelevant</td>\n",
              "      <td>I mentioned on Facebook that I was struggling ...</td>\n",
              "    </tr>\n",
              "    <tr>\n",
              "      <th>1</th>\n",
              "      <td>352</td>\n",
              "      <td>Amazon</td>\n",
              "      <td>Neutral</td>\n",
              "      <td>BBC News - Amazon boss Jeff Bezos rejects clai...</td>\n",
              "    </tr>\n",
              "    <tr>\n",
              "      <th>2</th>\n",
              "      <td>8312</td>\n",
              "      <td>Microsoft</td>\n",
              "      <td>Negative</td>\n",
              "      <td>@Microsoft Why do I pay for WORD when it funct...</td>\n",
              "    </tr>\n",
              "    <tr>\n",
              "      <th>3</th>\n",
              "      <td>4371</td>\n",
              "      <td>CS-GO</td>\n",
              "      <td>Negative</td>\n",
              "      <td>CSGO matchmaking is so full of closet hacking,...</td>\n",
              "    </tr>\n",
              "    <tr>\n",
              "      <th>4</th>\n",
              "      <td>4433</td>\n",
              "      <td>Google</td>\n",
              "      <td>Neutral</td>\n",
              "      <td>Now the President is slapping Americans in the...</td>\n",
              "    </tr>\n",
              "  </tbody>\n",
              "</table>\n",
              "</div>\n",
              "      <button class=\"colab-df-convert\" onclick=\"convertToInteractive('df-c3769d2a-e344-4cec-8c46-ecad189d12d7')\"\n",
              "              title=\"Convert this dataframe to an interactive table.\"\n",
              "              style=\"display:none;\">\n",
              "        \n",
              "  <svg xmlns=\"http://www.w3.org/2000/svg\" height=\"24px\"viewBox=\"0 0 24 24\"\n",
              "       width=\"24px\">\n",
              "    <path d=\"M0 0h24v24H0V0z\" fill=\"none\"/>\n",
              "    <path d=\"M18.56 5.44l.94 2.06.94-2.06 2.06-.94-2.06-.94-.94-2.06-.94 2.06-2.06.94zm-11 1L8.5 8.5l.94-2.06 2.06-.94-2.06-.94L8.5 2.5l-.94 2.06-2.06.94zm10 10l.94 2.06.94-2.06 2.06-.94-2.06-.94-.94-2.06-.94 2.06-2.06.94z\"/><path d=\"M17.41 7.96l-1.37-1.37c-.4-.4-.92-.59-1.43-.59-.52 0-1.04.2-1.43.59L10.3 9.45l-7.72 7.72c-.78.78-.78 2.05 0 2.83L4 21.41c.39.39.9.59 1.41.59.51 0 1.02-.2 1.41-.59l7.78-7.78 2.81-2.81c.8-.78.8-2.07 0-2.86zM5.41 20L4 18.59l7.72-7.72 1.47 1.35L5.41 20z\"/>\n",
              "  </svg>\n",
              "      </button>\n",
              "      \n",
              "  <style>\n",
              "    .colab-df-container {\n",
              "      display:flex;\n",
              "      flex-wrap:wrap;\n",
              "      gap: 12px;\n",
              "    }\n",
              "\n",
              "    .colab-df-convert {\n",
              "      background-color: #E8F0FE;\n",
              "      border: none;\n",
              "      border-radius: 50%;\n",
              "      cursor: pointer;\n",
              "      display: none;\n",
              "      fill: #1967D2;\n",
              "      height: 32px;\n",
              "      padding: 0 0 0 0;\n",
              "      width: 32px;\n",
              "    }\n",
              "\n",
              "    .colab-df-convert:hover {\n",
              "      background-color: #E2EBFA;\n",
              "      box-shadow: 0px 1px 2px rgba(60, 64, 67, 0.3), 0px 1px 3px 1px rgba(60, 64, 67, 0.15);\n",
              "      fill: #174EA6;\n",
              "    }\n",
              "\n",
              "    [theme=dark] .colab-df-convert {\n",
              "      background-color: #3B4455;\n",
              "      fill: #D2E3FC;\n",
              "    }\n",
              "\n",
              "    [theme=dark] .colab-df-convert:hover {\n",
              "      background-color: #434B5C;\n",
              "      box-shadow: 0px 1px 3px 1px rgba(0, 0, 0, 0.15);\n",
              "      filter: drop-shadow(0px 1px 2px rgba(0, 0, 0, 0.3));\n",
              "      fill: #FFFFFF;\n",
              "    }\n",
              "  </style>\n",
              "\n",
              "      <script>\n",
              "        const buttonEl =\n",
              "          document.querySelector('#df-c3769d2a-e344-4cec-8c46-ecad189d12d7 button.colab-df-convert');\n",
              "        buttonEl.style.display =\n",
              "          google.colab.kernel.accessAllowed ? 'block' : 'none';\n",
              "\n",
              "        async function convertToInteractive(key) {\n",
              "          const element = document.querySelector('#df-c3769d2a-e344-4cec-8c46-ecad189d12d7');\n",
              "          const dataTable =\n",
              "            await google.colab.kernel.invokeFunction('convertToInteractive',\n",
              "                                                     [key], {});\n",
              "          if (!dataTable) return;\n",
              "\n",
              "          const docLinkHtml = 'Like what you see? Visit the ' +\n",
              "            '<a target=\"_blank\" href=https://colab.research.google.com/notebooks/data_table.ipynb>data table notebook</a>'\n",
              "            + ' to learn more about interactive tables.';\n",
              "          element.innerHTML = '';\n",
              "          dataTable['output_type'] = 'display_data';\n",
              "          await google.colab.output.renderOutput(dataTable, element);\n",
              "          const docLink = document.createElement('div');\n",
              "          docLink.innerHTML = docLinkHtml;\n",
              "          element.appendChild(docLink);\n",
              "        }\n",
              "      </script>\n",
              "    </div>\n",
              "  </div>\n",
              "  "
            ]
          },
          "metadata": {},
          "execution_count": 5
        }
      ],
      "source": [
        "df_class = pd.read_csv('comments_twit.csv', sep=\",\")\n",
        "df_class.head()"
      ]
    },
    {
      "cell_type": "code",
      "execution_count": 10,
      "id": "144fe4fb",
      "metadata": {
        "colab": {
          "base_uri": "https://localhost:8080/",
          "height": 53
        },
        "id": "144fe4fb",
        "outputId": "8b3d54bd-0b8c-4b10-f93a-5a2a99ffbe34"
      },
      "outputs": [
        {
          "output_type": "execute_result",
          "data": {
            "text/plain": [
              "'FIX IT JESUS ! Please FIX IT ! What In the world is going on here.  @PlayStation @AskPlayStation @Playstationsup @Treyarch @CallofDuty negative 345 silver wolf error code pic.twitter.com/ziRyhrf59Q'"
            ],
            "application/vnd.google.colaboratory.intrinsic+json": {
              "type": "string"
            }
          },
          "metadata": {},
          "execution_count": 10
        }
      ],
      "source": [
        "# выделим тестовое сообщение, с которым затем будем выполнять задачи предобработки текста\n",
        "test_val = 9\n",
        "texts = df_class['comment']\n",
        "test_text = texts.iloc[test_val]\n",
        "test_text"
      ]
    },
    {
      "cell_type": "markdown",
      "id": "efa0fb64",
      "metadata": {
        "id": "efa0fb64"
      },
      "source": [
        "# Предобработка текста"
      ]
    },
    {
      "cell_type": "markdown",
      "id": "563d085d",
      "metadata": {
        "id": "563d085d"
      },
      "source": [
        "## Токенизация"
      ]
    },
    {
      "cell_type": "code",
      "execution_count": 11,
      "id": "3167454b",
      "metadata": {
        "colab": {
          "base_uri": "https://localhost:8080/"
        },
        "id": "3167454b",
        "outputId": "25cf14b7-81a3-4a6e-d1a5-04056cb9a556"
      },
      "outputs": [
        {
          "output_type": "stream",
          "name": "stdout",
          "text": [
            "[nltk_data] Downloading package punkt to /root/nltk_data...\n",
            "[nltk_data]   Unzipping tokenizers/punkt.zip.\n"
          ]
        },
        {
          "output_type": "execute_result",
          "data": {
            "text/plain": [
              "True"
            ]
          },
          "metadata": {},
          "execution_count": 11
        }
      ],
      "source": [
        "import nltk\n",
        "nltk.download('punkt')"
      ]
    },
    {
      "cell_type": "code",
      "source": [
        ""
      ],
      "metadata": {
        "id": "_T0vdh13Vkrn"
      },
      "id": "_T0vdh13Vkrn",
      "execution_count": null,
      "outputs": []
    },
    {
      "cell_type": "markdown",
      "id": "2abd2933",
      "metadata": {
        "id": "2abd2933"
      },
      "source": [
        "Токенизация по предложениям:"
      ]
    },
    {
      "cell_type": "code",
      "execution_count": 12,
      "id": "7b1e93b9",
      "metadata": {
        "colab": {
          "base_uri": "https://localhost:8080/"
        },
        "id": "7b1e93b9",
        "outputId": "366243ce-578b-4c3e-9b3c-02ab685fecbf"
      },
      "outputs": [
        {
          "output_type": "stream",
          "name": "stdout",
          "text": [
            "4\n"
          ]
        },
        {
          "output_type": "execute_result",
          "data": {
            "text/plain": [
              "['FIX IT JESUS !',\n",
              " 'Please FIX IT !',\n",
              " 'What In the world is going on here.',\n",
              " '@PlayStation @AskPlayStation @Playstationsup @Treyarch @CallofDuty negative 345 silver wolf error code pic.twitter.com/ziRyhrf59Q']"
            ]
          },
          "metadata": {},
          "execution_count": 12
        }
      ],
      "source": [
        "nltk_tk_sents = nltk.tokenize.sent_tokenize(test_text)\n",
        "print(len(nltk_tk_sents))\n",
        "nltk_tk_sents"
      ]
    },
    {
      "cell_type": "markdown",
      "id": "5f054040",
      "metadata": {
        "id": "5f054040"
      },
      "source": [
        "Токенизация по словам: "
      ]
    },
    {
      "cell_type": "code",
      "execution_count": 13,
      "id": "1f00fa30",
      "metadata": {
        "colab": {
          "base_uri": "https://localhost:8080/"
        },
        "id": "1f00fa30",
        "outputId": "2a1d111f-4f2d-4fd2-8e90-288f84c2b0bb"
      },
      "outputs": [
        {
          "output_type": "execute_result",
          "data": {
            "text/plain": [
              "['FIX',\n",
              " 'IT',\n",
              " 'JESUS',\n",
              " '!',\n",
              " 'Please',\n",
              " 'FIX',\n",
              " 'IT',\n",
              " '!',\n",
              " 'What',\n",
              " 'In',\n",
              " 'the',\n",
              " 'world',\n",
              " 'is',\n",
              " 'going',\n",
              " 'on',\n",
              " 'here',\n",
              " '.',\n",
              " '@',\n",
              " 'PlayStation',\n",
              " '@',\n",
              " 'AskPlayStation',\n",
              " '@',\n",
              " 'Playstationsup',\n",
              " '@',\n",
              " 'Treyarch',\n",
              " '@',\n",
              " 'CallofDuty',\n",
              " 'negative',\n",
              " '345',\n",
              " 'silver',\n",
              " 'wolf',\n",
              " 'error',\n",
              " 'code',\n",
              " 'pic',\n",
              " '.',\n",
              " 'twitter',\n",
              " '.',\n",
              " 'com',\n",
              " '/',\n",
              " 'ziRyhrf59Q']"
            ]
          },
          "metadata": {},
          "execution_count": 13
        }
      ],
      "source": [
        "nltk_tk_1 = nltk.WordPunctTokenizer()\n",
        "nltk_tk_1.tokenize(test_text)"
      ]
    },
    {
      "cell_type": "markdown",
      "id": "acf199a3",
      "metadata": {
        "id": "acf199a3"
      },
      "source": [
        "## Частеречная разметка"
      ]
    },
    {
      "cell_type": "code",
      "execution_count": 14,
      "id": "5ba1a53c",
      "metadata": {
        "id": "5ba1a53c"
      },
      "outputs": [],
      "source": [
        "from spacy.lang.en import English\n",
        "import spacy\n",
        "nlp = spacy.load('en_core_web_sm')\n",
        "spacy_test = nlp(test_text)"
      ]
    },
    {
      "cell_type": "markdown",
      "id": "573d7790",
      "metadata": {
        "id": "573d7790"
      },
      "source": [
        "Просмотрим какие части речи присутсвуют в тестовом твите:"
      ]
    },
    {
      "cell_type": "code",
      "execution_count": 15,
      "id": "60805bff",
      "metadata": {
        "colab": {
          "base_uri": "https://localhost:8080/"
        },
        "id": "60805bff",
        "outputId": "eaa909c9-1898-44d0-ae20-013d93f37e20"
      },
      "outputs": [
        {
          "output_type": "stream",
          "name": "stdout",
          "text": [
            "FIX - PROPN - compound\n",
            "IT - PROPN - compound\n",
            "JESUS - PROPN - ROOT\n",
            "! - PUNCT - punct\n",
            "Please - INTJ - intj\n",
            "FIX - VERB - compound\n",
            "IT - PRON - ROOT\n",
            "! - PUNCT - punct\n",
            "What - PRON - pobj\n",
            "In - ADP - prep\n",
            "the - DET - det\n",
            "world - NOUN - pobj\n",
            "is - AUX - aux\n",
            "going - VERB - ROOT\n",
            "on - ADP - prt\n",
            "here - ADV - advmod\n",
            ". - PUNCT - punct\n",
            "  - SPACE - \n",
            "@PlayStation - NOUN - dep\n",
            "@AskPlayStation - PROPN - punct\n",
            "@Playstationsup - PROPN - compound\n",
            "@Treyarch - PROPN - ROOT\n",
            "@CallofDuty - PROPN - punct\n",
            "negative - ADJ - amod\n",
            "345 - NUM - nummod\n",
            "silver - NOUN - compound\n",
            "wolf - PROPN - compound\n",
            "error - NOUN - nsubj\n",
            "code - PROPN - ROOT\n",
            "pic.twitter.com/ziRyhrf59Q - PUNCT - nummod\n"
          ]
        }
      ],
      "source": [
        "for token in spacy_test:\n",
        "    print('{} - {} - {}'.format(token.text, token.pos_, token.dep_))"
      ]
    },
    {
      "cell_type": "markdown",
      "id": "44bdccf3",
      "metadata": {
        "id": "44bdccf3"
      },
      "source": [
        "## Лемматизация"
      ]
    },
    {
      "cell_type": "code",
      "execution_count": 16,
      "id": "b33c8214",
      "metadata": {
        "colab": {
          "base_uri": "https://localhost:8080/"
        },
        "id": "b33c8214",
        "outputId": "374cb093-df27-4439-99f3-d18f1ad6f347"
      },
      "outputs": [
        {
          "output_type": "stream",
          "name": "stdout",
          "text": [
            "FIX 1140408261210526700 FIX\n",
            "IT 15566906646452856019 IT\n",
            "JESUS 8268588004424603548 JESUS\n",
            "! 17494803046312582752 !\n",
            "Please 99974891130002844 please\n",
            "FIX 8299253805695106811 fix\n",
            "IT 10239237003504588839 it\n",
            "! 17494803046312582752 !\n",
            "What 5865838185239622912 what\n",
            "In 3002984154512732771 in\n",
            "the 7425985699627899538 the\n",
            "world 1703489418272052182 world\n",
            "is 10382539506755952630 be\n",
            "going 8004577259940138793 go\n",
            "on 5640369432778651323 on\n",
            "here 411390626470654571 here\n",
            ". 12646065887601541794 .\n",
            "  8532415787641010193  \n",
            "@PlayStation 4547409949370785885 @playstation\n",
            "@AskPlayStation 12911826782968708242 @AskPlayStation\n",
            "@Playstationsup 13814048047829131175 @Playstationsup\n",
            "@Treyarch 6332745069223603402 @Treyarch\n",
            "@CallofDuty 3756903042465218067 @CallofDuty\n",
            "negative 11803922482410560765 negative\n",
            "345 11235905871042597582 345\n",
            "silver 4845213853445749913 silver\n",
            "wolf 3947241998546424405 wolf\n",
            "error 5141748423479617815 error\n",
            "code 3084953006211575075 code\n",
            "pic.twitter.com/ziRyhrf59Q 11188791247425435159 pic.twitter.com/ziRyhrf59Q\n"
          ]
        }
      ],
      "source": [
        "for token in spacy_test:\n",
        "      print(token, token.lemma, token.lemma_)"
      ]
    },
    {
      "cell_type": "markdown",
      "id": "dff226dd",
      "metadata": {
        "id": "dff226dd"
      },
      "source": [
        "## Выделение (распознавание) именованных сущностей"
      ]
    },
    {
      "cell_type": "code",
      "execution_count": 17,
      "id": "124221c7",
      "metadata": {
        "colab": {
          "base_uri": "https://localhost:8080/"
        },
        "id": "124221c7",
        "outputId": "2f9ec2c5-782b-4978-c9ae-fb8ed27c3cca"
      },
      "outputs": [
        {
          "output_type": "stream",
          "name": "stdout",
          "text": [
            "345 CARDINAL\n"
          ]
        }
      ],
      "source": [
        "for ent in spacy_test.ents:\n",
        "    print(ent.text, ent.label_)"
      ]
    },
    {
      "cell_type": "code",
      "execution_count": 18,
      "id": "4814986e",
      "metadata": {
        "colab": {
          "base_uri": "https://localhost:8080/"
        },
        "id": "4814986e",
        "outputId": "f1345fc5-1f93-4d03-cefe-cfc3cbf2ccc1"
      },
      "outputs": [
        {
          "output_type": "stream",
          "name": "stdout",
          "text": [
            "\"first\", \"second\", etc.\n"
          ]
        }
      ],
      "source": [
        "print(spacy.explain(\"ORDINAL\"))"
      ]
    },
    {
      "cell_type": "code",
      "execution_count": 19,
      "id": "2a85dc1f",
      "metadata": {
        "colab": {
          "base_uri": "https://localhost:8080/"
        },
        "id": "2a85dc1f",
        "outputId": "d8877b75-3ee7-482e-c097-f742cd4c09d0"
      },
      "outputs": [
        {
          "output_type": "stream",
          "name": "stdout",
          "text": [
            "Objects, vehicles, foods, etc. (not services)\n"
          ]
        }
      ],
      "source": [
        "print(spacy.explain(\"PRODUCT\"))"
      ]
    },
    {
      "cell_type": "code",
      "execution_count": 20,
      "id": "0dde5ded",
      "metadata": {
        "colab": {
          "base_uri": "https://localhost:8080/",
          "height": 87
        },
        "id": "0dde5ded",
        "outputId": "ddf737af-0393-4cb7-deff-6edc5bf39b62"
      },
      "outputs": [
        {
          "output_type": "display_data",
          "data": {
            "text/plain": [
              "<IPython.core.display.HTML object>"
            ],
            "text/html": [
              "<span class=\"tex2jax_ignore\"><div class=\"entities\" style=\"line-height: 2.5; direction: ltr\">FIX IT JESUS ! Please FIX IT ! What In the world is going on here.  @PlayStation @AskPlayStation @Playstationsup @Treyarch @CallofDuty negative \n",
              "<mark class=\"entity\" style=\"background: #e4e7d2; padding: 0.45em 0.6em; margin: 0 0.25em; line-height: 1; border-radius: 0.35em;\">\n",
              "    345\n",
              "    <span style=\"font-size: 0.8em; font-weight: bold; line-height: 1; border-radius: 0.35em; text-transform: uppercase; vertical-align: middle; margin-left: 0.5rem\">CARDINAL</span>\n",
              "</mark>\n",
              " silver wolf error code pic.twitter.com/ziRyhrf59Q</div></span>"
            ]
          },
          "metadata": {}
        }
      ],
      "source": [
        "from spacy import displacy\n",
        "displacy.render(spacy_test, style='ent', jupyter=True)"
      ]
    },
    {
      "cell_type": "markdown",
      "id": "6051492f",
      "metadata": {
        "id": "6051492f"
      },
      "source": [
        "## Разбор предложения"
      ]
    },
    {
      "cell_type": "code",
      "execution_count": 21,
      "id": "f1f32f08",
      "metadata": {
        "colab": {
          "base_uri": "https://localhost:8080/",
          "height": 529
        },
        "id": "f1f32f08",
        "outputId": "49ecd6e0-38d8-44ce-b01f-5b6397761540"
      },
      "outputs": [
        {
          "output_type": "display_data",
          "data": {
            "text/plain": [
              "<IPython.core.display.HTML object>"
            ],
            "text/html": [
              "<span class=\"tex2jax_ignore\"><svg xmlns=\"http://www.w3.org/2000/svg\" xmlns:xlink=\"http://www.w3.org/1999/xlink\" xml:lang=\"en\" id=\"d4590957936744f89247cf6b929ac3d4-0\" class=\"displacy\" width=\"4775\" height=\"487.0\" direction=\"ltr\" style=\"max-width: none; height: 487.0px; color: #000000; background: #ffffff; font-family: Arial; direction: ltr\">\n",
              "<text class=\"displacy-token\" fill=\"currentColor\" text-anchor=\"middle\" y=\"397.0\">\n",
              "    <tspan class=\"displacy-word\" fill=\"currentColor\" x=\"50\">FIX</tspan>\n",
              "    <tspan class=\"displacy-tag\" dy=\"2em\" fill=\"currentColor\" x=\"50\">PROPN</tspan>\n",
              "</text>\n",
              "\n",
              "<text class=\"displacy-token\" fill=\"currentColor\" text-anchor=\"middle\" y=\"397.0\">\n",
              "    <tspan class=\"displacy-word\" fill=\"currentColor\" x=\"225\">IT</tspan>\n",
              "    <tspan class=\"displacy-tag\" dy=\"2em\" fill=\"currentColor\" x=\"225\">PROPN</tspan>\n",
              "</text>\n",
              "\n",
              "<text class=\"displacy-token\" fill=\"currentColor\" text-anchor=\"middle\" y=\"397.0\">\n",
              "    <tspan class=\"displacy-word\" fill=\"currentColor\" x=\"400\">JESUS !</tspan>\n",
              "    <tspan class=\"displacy-tag\" dy=\"2em\" fill=\"currentColor\" x=\"400\">PROPN</tspan>\n",
              "</text>\n",
              "\n",
              "<text class=\"displacy-token\" fill=\"currentColor\" text-anchor=\"middle\" y=\"397.0\">\n",
              "    <tspan class=\"displacy-word\" fill=\"currentColor\" x=\"575\">Please</tspan>\n",
              "    <tspan class=\"displacy-tag\" dy=\"2em\" fill=\"currentColor\" x=\"575\">INTJ</tspan>\n",
              "</text>\n",
              "\n",
              "<text class=\"displacy-token\" fill=\"currentColor\" text-anchor=\"middle\" y=\"397.0\">\n",
              "    <tspan class=\"displacy-word\" fill=\"currentColor\" x=\"750\">FIX</tspan>\n",
              "    <tspan class=\"displacy-tag\" dy=\"2em\" fill=\"currentColor\" x=\"750\">VERB</tspan>\n",
              "</text>\n",
              "\n",
              "<text class=\"displacy-token\" fill=\"currentColor\" text-anchor=\"middle\" y=\"397.0\">\n",
              "    <tspan class=\"displacy-word\" fill=\"currentColor\" x=\"925\">IT !</tspan>\n",
              "    <tspan class=\"displacy-tag\" dy=\"2em\" fill=\"currentColor\" x=\"925\">PRON</tspan>\n",
              "</text>\n",
              "\n",
              "<text class=\"displacy-token\" fill=\"currentColor\" text-anchor=\"middle\" y=\"397.0\">\n",
              "    <tspan class=\"displacy-word\" fill=\"currentColor\" x=\"1100\">What</tspan>\n",
              "    <tspan class=\"displacy-tag\" dy=\"2em\" fill=\"currentColor\" x=\"1100\">PRON</tspan>\n",
              "</text>\n",
              "\n",
              "<text class=\"displacy-token\" fill=\"currentColor\" text-anchor=\"middle\" y=\"397.0\">\n",
              "    <tspan class=\"displacy-word\" fill=\"currentColor\" x=\"1275\">In</tspan>\n",
              "    <tspan class=\"displacy-tag\" dy=\"2em\" fill=\"currentColor\" x=\"1275\">ADP</tspan>\n",
              "</text>\n",
              "\n",
              "<text class=\"displacy-token\" fill=\"currentColor\" text-anchor=\"middle\" y=\"397.0\">\n",
              "    <tspan class=\"displacy-word\" fill=\"currentColor\" x=\"1450\">the</tspan>\n",
              "    <tspan class=\"displacy-tag\" dy=\"2em\" fill=\"currentColor\" x=\"1450\">DET</tspan>\n",
              "</text>\n",
              "\n",
              "<text class=\"displacy-token\" fill=\"currentColor\" text-anchor=\"middle\" y=\"397.0\">\n",
              "    <tspan class=\"displacy-word\" fill=\"currentColor\" x=\"1625\">world</tspan>\n",
              "    <tspan class=\"displacy-tag\" dy=\"2em\" fill=\"currentColor\" x=\"1625\">NOUN</tspan>\n",
              "</text>\n",
              "\n",
              "<text class=\"displacy-token\" fill=\"currentColor\" text-anchor=\"middle\" y=\"397.0\">\n",
              "    <tspan class=\"displacy-word\" fill=\"currentColor\" x=\"1800\">is</tspan>\n",
              "    <tspan class=\"displacy-tag\" dy=\"2em\" fill=\"currentColor\" x=\"1800\">AUX</tspan>\n",
              "</text>\n",
              "\n",
              "<text class=\"displacy-token\" fill=\"currentColor\" text-anchor=\"middle\" y=\"397.0\">\n",
              "    <tspan class=\"displacy-word\" fill=\"currentColor\" x=\"1975\">going</tspan>\n",
              "    <tspan class=\"displacy-tag\" dy=\"2em\" fill=\"currentColor\" x=\"1975\">VERB</tspan>\n",
              "</text>\n",
              "\n",
              "<text class=\"displacy-token\" fill=\"currentColor\" text-anchor=\"middle\" y=\"397.0\">\n",
              "    <tspan class=\"displacy-word\" fill=\"currentColor\" x=\"2150\">on</tspan>\n",
              "    <tspan class=\"displacy-tag\" dy=\"2em\" fill=\"currentColor\" x=\"2150\">ADP</tspan>\n",
              "</text>\n",
              "\n",
              "<text class=\"displacy-token\" fill=\"currentColor\" text-anchor=\"middle\" y=\"397.0\">\n",
              "    <tspan class=\"displacy-word\" fill=\"currentColor\" x=\"2325\">here.</tspan>\n",
              "    <tspan class=\"displacy-tag\" dy=\"2em\" fill=\"currentColor\" x=\"2325\">ADV</tspan>\n",
              "</text>\n",
              "\n",
              "<text class=\"displacy-token\" fill=\"currentColor\" text-anchor=\"middle\" y=\"397.0\">\n",
              "    <tspan class=\"displacy-word\" fill=\"currentColor\" x=\"2500\"> </tspan>\n",
              "    <tspan class=\"displacy-tag\" dy=\"2em\" fill=\"currentColor\" x=\"2500\">SPACE</tspan>\n",
              "</text>\n",
              "\n",
              "<text class=\"displacy-token\" fill=\"currentColor\" text-anchor=\"middle\" y=\"397.0\">\n",
              "    <tspan class=\"displacy-word\" fill=\"currentColor\" x=\"2675\">@PlayStation</tspan>\n",
              "    <tspan class=\"displacy-tag\" dy=\"2em\" fill=\"currentColor\" x=\"2675\">NOUN</tspan>\n",
              "</text>\n",
              "\n",
              "<text class=\"displacy-token\" fill=\"currentColor\" text-anchor=\"middle\" y=\"397.0\">\n",
              "    <tspan class=\"displacy-word\" fill=\"currentColor\" x=\"2850\">@AskPlayStation</tspan>\n",
              "    <tspan class=\"displacy-tag\" dy=\"2em\" fill=\"currentColor\" x=\"2850\">PROPN</tspan>\n",
              "</text>\n",
              "\n",
              "<text class=\"displacy-token\" fill=\"currentColor\" text-anchor=\"middle\" y=\"397.0\">\n",
              "    <tspan class=\"displacy-word\" fill=\"currentColor\" x=\"3025\">@Playstationsup</tspan>\n",
              "    <tspan class=\"displacy-tag\" dy=\"2em\" fill=\"currentColor\" x=\"3025\">PROPN</tspan>\n",
              "</text>\n",
              "\n",
              "<text class=\"displacy-token\" fill=\"currentColor\" text-anchor=\"middle\" y=\"397.0\">\n",
              "    <tspan class=\"displacy-word\" fill=\"currentColor\" x=\"3200\">@Treyarch</tspan>\n",
              "    <tspan class=\"displacy-tag\" dy=\"2em\" fill=\"currentColor\" x=\"3200\">PROPN</tspan>\n",
              "</text>\n",
              "\n",
              "<text class=\"displacy-token\" fill=\"currentColor\" text-anchor=\"middle\" y=\"397.0\">\n",
              "    <tspan class=\"displacy-word\" fill=\"currentColor\" x=\"3375\">@CallofDuty</tspan>\n",
              "    <tspan class=\"displacy-tag\" dy=\"2em\" fill=\"currentColor\" x=\"3375\">PROPN</tspan>\n",
              "</text>\n",
              "\n",
              "<text class=\"displacy-token\" fill=\"currentColor\" text-anchor=\"middle\" y=\"397.0\">\n",
              "    <tspan class=\"displacy-word\" fill=\"currentColor\" x=\"3550\">negative</tspan>\n",
              "    <tspan class=\"displacy-tag\" dy=\"2em\" fill=\"currentColor\" x=\"3550\">ADJ</tspan>\n",
              "</text>\n",
              "\n",
              "<text class=\"displacy-token\" fill=\"currentColor\" text-anchor=\"middle\" y=\"397.0\">\n",
              "    <tspan class=\"displacy-word\" fill=\"currentColor\" x=\"3725\">345</tspan>\n",
              "    <tspan class=\"displacy-tag\" dy=\"2em\" fill=\"currentColor\" x=\"3725\">NUM</tspan>\n",
              "</text>\n",
              "\n",
              "<text class=\"displacy-token\" fill=\"currentColor\" text-anchor=\"middle\" y=\"397.0\">\n",
              "    <tspan class=\"displacy-word\" fill=\"currentColor\" x=\"3900\">silver</tspan>\n",
              "    <tspan class=\"displacy-tag\" dy=\"2em\" fill=\"currentColor\" x=\"3900\">NOUN</tspan>\n",
              "</text>\n",
              "\n",
              "<text class=\"displacy-token\" fill=\"currentColor\" text-anchor=\"middle\" y=\"397.0\">\n",
              "    <tspan class=\"displacy-word\" fill=\"currentColor\" x=\"4075\">wolf</tspan>\n",
              "    <tspan class=\"displacy-tag\" dy=\"2em\" fill=\"currentColor\" x=\"4075\">PROPN</tspan>\n",
              "</text>\n",
              "\n",
              "<text class=\"displacy-token\" fill=\"currentColor\" text-anchor=\"middle\" y=\"397.0\">\n",
              "    <tspan class=\"displacy-word\" fill=\"currentColor\" x=\"4250\">error</tspan>\n",
              "    <tspan class=\"displacy-tag\" dy=\"2em\" fill=\"currentColor\" x=\"4250\">NOUN</tspan>\n",
              "</text>\n",
              "\n",
              "<text class=\"displacy-token\" fill=\"currentColor\" text-anchor=\"middle\" y=\"397.0\">\n",
              "    <tspan class=\"displacy-word\" fill=\"currentColor\" x=\"4425\">code</tspan>\n",
              "    <tspan class=\"displacy-tag\" dy=\"2em\" fill=\"currentColor\" x=\"4425\">PROPN</tspan>\n",
              "</text>\n",
              "\n",
              "<text class=\"displacy-token\" fill=\"currentColor\" text-anchor=\"middle\" y=\"397.0\">\n",
              "    <tspan class=\"displacy-word\" fill=\"currentColor\" x=\"4600\">pic.twitter.com/ziRyhrf59Q</tspan>\n",
              "    <tspan class=\"displacy-tag\" dy=\"2em\" fill=\"currentColor\" x=\"4600\">PUNCT</tspan>\n",
              "</text>\n",
              "\n",
              "<g class=\"displacy-arrow\">\n",
              "    <path class=\"displacy-arc\" id=\"arrow-d4590957936744f89247cf6b929ac3d4-0-0\" stroke-width=\"2px\" d=\"M70,352.0 C70,177.0 390.0,177.0 390.0,352.0\" fill=\"none\" stroke=\"currentColor\"/>\n",
              "    <text dy=\"1.25em\" style=\"font-size: 0.8em; letter-spacing: 1px\">\n",
              "        <textPath xlink:href=\"#arrow-d4590957936744f89247cf6b929ac3d4-0-0\" class=\"displacy-label\" startOffset=\"50%\" side=\"left\" fill=\"currentColor\" text-anchor=\"middle\">compound</textPath>\n",
              "    </text>\n",
              "    <path class=\"displacy-arrowhead\" d=\"M70,354.0 L62,342.0 78,342.0\" fill=\"currentColor\"/>\n",
              "</g>\n",
              "\n",
              "<g class=\"displacy-arrow\">\n",
              "    <path class=\"displacy-arc\" id=\"arrow-d4590957936744f89247cf6b929ac3d4-0-1\" stroke-width=\"2px\" d=\"M245,352.0 C245,264.5 385.0,264.5 385.0,352.0\" fill=\"none\" stroke=\"currentColor\"/>\n",
              "    <text dy=\"1.25em\" style=\"font-size: 0.8em; letter-spacing: 1px\">\n",
              "        <textPath xlink:href=\"#arrow-d4590957936744f89247cf6b929ac3d4-0-1\" class=\"displacy-label\" startOffset=\"50%\" side=\"left\" fill=\"currentColor\" text-anchor=\"middle\">compound</textPath>\n",
              "    </text>\n",
              "    <path class=\"displacy-arrowhead\" d=\"M245,354.0 L237,342.0 253,342.0\" fill=\"currentColor\"/>\n",
              "</g>\n",
              "\n",
              "<g class=\"displacy-arrow\">\n",
              "    <path class=\"displacy-arc\" id=\"arrow-d4590957936744f89247cf6b929ac3d4-0-2\" stroke-width=\"2px\" d=\"M595,352.0 C595,264.5 735.0,264.5 735.0,352.0\" fill=\"none\" stroke=\"currentColor\"/>\n",
              "    <text dy=\"1.25em\" style=\"font-size: 0.8em; letter-spacing: 1px\">\n",
              "        <textPath xlink:href=\"#arrow-d4590957936744f89247cf6b929ac3d4-0-2\" class=\"displacy-label\" startOffset=\"50%\" side=\"left\" fill=\"currentColor\" text-anchor=\"middle\">intj</textPath>\n",
              "    </text>\n",
              "    <path class=\"displacy-arrowhead\" d=\"M595,354.0 L587,342.0 603,342.0\" fill=\"currentColor\"/>\n",
              "</g>\n",
              "\n",
              "<g class=\"displacy-arrow\">\n",
              "    <path class=\"displacy-arc\" id=\"arrow-d4590957936744f89247cf6b929ac3d4-0-3\" stroke-width=\"2px\" d=\"M770,352.0 C770,264.5 910.0,264.5 910.0,352.0\" fill=\"none\" stroke=\"currentColor\"/>\n",
              "    <text dy=\"1.25em\" style=\"font-size: 0.8em; letter-spacing: 1px\">\n",
              "        <textPath xlink:href=\"#arrow-d4590957936744f89247cf6b929ac3d4-0-3\" class=\"displacy-label\" startOffset=\"50%\" side=\"left\" fill=\"currentColor\" text-anchor=\"middle\">compound</textPath>\n",
              "    </text>\n",
              "    <path class=\"displacy-arrowhead\" d=\"M770,354.0 L762,342.0 778,342.0\" fill=\"currentColor\"/>\n",
              "</g>\n",
              "\n",
              "<g class=\"displacy-arrow\">\n",
              "    <path class=\"displacy-arc\" id=\"arrow-d4590957936744f89247cf6b929ac3d4-0-4\" stroke-width=\"2px\" d=\"M1120,352.0 C1120,264.5 1260.0,264.5 1260.0,352.0\" fill=\"none\" stroke=\"currentColor\"/>\n",
              "    <text dy=\"1.25em\" style=\"font-size: 0.8em; letter-spacing: 1px\">\n",
              "        <textPath xlink:href=\"#arrow-d4590957936744f89247cf6b929ac3d4-0-4\" class=\"displacy-label\" startOffset=\"50%\" side=\"left\" fill=\"currentColor\" text-anchor=\"middle\">pobj</textPath>\n",
              "    </text>\n",
              "    <path class=\"displacy-arrowhead\" d=\"M1120,354.0 L1112,342.0 1128,342.0\" fill=\"currentColor\"/>\n",
              "</g>\n",
              "\n",
              "<g class=\"displacy-arrow\">\n",
              "    <path class=\"displacy-arc\" id=\"arrow-d4590957936744f89247cf6b929ac3d4-0-5\" stroke-width=\"2px\" d=\"M1295,352.0 C1295,2.0 1975.0,2.0 1975.0,352.0\" fill=\"none\" stroke=\"currentColor\"/>\n",
              "    <text dy=\"1.25em\" style=\"font-size: 0.8em; letter-spacing: 1px\">\n",
              "        <textPath xlink:href=\"#arrow-d4590957936744f89247cf6b929ac3d4-0-5\" class=\"displacy-label\" startOffset=\"50%\" side=\"left\" fill=\"currentColor\" text-anchor=\"middle\">prep</textPath>\n",
              "    </text>\n",
              "    <path class=\"displacy-arrowhead\" d=\"M1295,354.0 L1287,342.0 1303,342.0\" fill=\"currentColor\"/>\n",
              "</g>\n",
              "\n",
              "<g class=\"displacy-arrow\">\n",
              "    <path class=\"displacy-arc\" id=\"arrow-d4590957936744f89247cf6b929ac3d4-0-6\" stroke-width=\"2px\" d=\"M1470,352.0 C1470,264.5 1610.0,264.5 1610.0,352.0\" fill=\"none\" stroke=\"currentColor\"/>\n",
              "    <text dy=\"1.25em\" style=\"font-size: 0.8em; letter-spacing: 1px\">\n",
              "        <textPath xlink:href=\"#arrow-d4590957936744f89247cf6b929ac3d4-0-6\" class=\"displacy-label\" startOffset=\"50%\" side=\"left\" fill=\"currentColor\" text-anchor=\"middle\">det</textPath>\n",
              "    </text>\n",
              "    <path class=\"displacy-arrowhead\" d=\"M1470,354.0 L1462,342.0 1478,342.0\" fill=\"currentColor\"/>\n",
              "</g>\n",
              "\n",
              "<g class=\"displacy-arrow\">\n",
              "    <path class=\"displacy-arc\" id=\"arrow-d4590957936744f89247cf6b929ac3d4-0-7\" stroke-width=\"2px\" d=\"M1295,352.0 C1295,177.0 1615.0,177.0 1615.0,352.0\" fill=\"none\" stroke=\"currentColor\"/>\n",
              "    <text dy=\"1.25em\" style=\"font-size: 0.8em; letter-spacing: 1px\">\n",
              "        <textPath xlink:href=\"#arrow-d4590957936744f89247cf6b929ac3d4-0-7\" class=\"displacy-label\" startOffset=\"50%\" side=\"left\" fill=\"currentColor\" text-anchor=\"middle\">pobj</textPath>\n",
              "    </text>\n",
              "    <path class=\"displacy-arrowhead\" d=\"M1615.0,354.0 L1623.0,342.0 1607.0,342.0\" fill=\"currentColor\"/>\n",
              "</g>\n",
              "\n",
              "<g class=\"displacy-arrow\">\n",
              "    <path class=\"displacy-arc\" id=\"arrow-d4590957936744f89247cf6b929ac3d4-0-8\" stroke-width=\"2px\" d=\"M1820,352.0 C1820,264.5 1960.0,264.5 1960.0,352.0\" fill=\"none\" stroke=\"currentColor\"/>\n",
              "    <text dy=\"1.25em\" style=\"font-size: 0.8em; letter-spacing: 1px\">\n",
              "        <textPath xlink:href=\"#arrow-d4590957936744f89247cf6b929ac3d4-0-8\" class=\"displacy-label\" startOffset=\"50%\" side=\"left\" fill=\"currentColor\" text-anchor=\"middle\">aux</textPath>\n",
              "    </text>\n",
              "    <path class=\"displacy-arrowhead\" d=\"M1820,354.0 L1812,342.0 1828,342.0\" fill=\"currentColor\"/>\n",
              "</g>\n",
              "\n",
              "<g class=\"displacy-arrow\">\n",
              "    <path class=\"displacy-arc\" id=\"arrow-d4590957936744f89247cf6b929ac3d4-0-9\" stroke-width=\"2px\" d=\"M1995,352.0 C1995,264.5 2135.0,264.5 2135.0,352.0\" fill=\"none\" stroke=\"currentColor\"/>\n",
              "    <text dy=\"1.25em\" style=\"font-size: 0.8em; letter-spacing: 1px\">\n",
              "        <textPath xlink:href=\"#arrow-d4590957936744f89247cf6b929ac3d4-0-9\" class=\"displacy-label\" startOffset=\"50%\" side=\"left\" fill=\"currentColor\" text-anchor=\"middle\">prt</textPath>\n",
              "    </text>\n",
              "    <path class=\"displacy-arrowhead\" d=\"M2135.0,354.0 L2143.0,342.0 2127.0,342.0\" fill=\"currentColor\"/>\n",
              "</g>\n",
              "\n",
              "<g class=\"displacy-arrow\">\n",
              "    <path class=\"displacy-arc\" id=\"arrow-d4590957936744f89247cf6b929ac3d4-0-10\" stroke-width=\"2px\" d=\"M1995,352.0 C1995,177.0 2315.0,177.0 2315.0,352.0\" fill=\"none\" stroke=\"currentColor\"/>\n",
              "    <text dy=\"1.25em\" style=\"font-size: 0.8em; letter-spacing: 1px\">\n",
              "        <textPath xlink:href=\"#arrow-d4590957936744f89247cf6b929ac3d4-0-10\" class=\"displacy-label\" startOffset=\"50%\" side=\"left\" fill=\"currentColor\" text-anchor=\"middle\">advmod</textPath>\n",
              "    </text>\n",
              "    <path class=\"displacy-arrowhead\" d=\"M2315.0,354.0 L2323.0,342.0 2307.0,342.0\" fill=\"currentColor\"/>\n",
              "</g>\n",
              "\n",
              "<g class=\"displacy-arrow\">\n",
              "    <path class=\"displacy-arc\" id=\"arrow-d4590957936744f89247cf6b929ac3d4-0-11\" stroke-width=\"2px\" d=\"M2345,352.0 C2345,264.5 2485.0,264.5 2485.0,352.0\" fill=\"none\" stroke=\"currentColor\"/>\n",
              "    <text dy=\"1.25em\" style=\"font-size: 0.8em; letter-spacing: 1px\">\n",
              "        <textPath xlink:href=\"#arrow-d4590957936744f89247cf6b929ac3d4-0-11\" class=\"displacy-label\" startOffset=\"50%\" side=\"left\" fill=\"currentColor\" text-anchor=\"middle\"></textPath>\n",
              "    </text>\n",
              "    <path class=\"displacy-arrowhead\" d=\"M2485.0,354.0 L2493.0,342.0 2477.0,342.0\" fill=\"currentColor\"/>\n",
              "</g>\n",
              "\n",
              "<g class=\"displacy-arrow\">\n",
              "    <path class=\"displacy-arc\" id=\"arrow-d4590957936744f89247cf6b929ac3d4-0-12\" stroke-width=\"2px\" d=\"M2695,352.0 C2695,264.5 2835.0,264.5 2835.0,352.0\" fill=\"none\" stroke=\"currentColor\"/>\n",
              "    <text dy=\"1.25em\" style=\"font-size: 0.8em; letter-spacing: 1px\">\n",
              "        <textPath xlink:href=\"#arrow-d4590957936744f89247cf6b929ac3d4-0-12\" class=\"displacy-label\" startOffset=\"50%\" side=\"left\" fill=\"currentColor\" text-anchor=\"middle\">dep</textPath>\n",
              "    </text>\n",
              "    <path class=\"displacy-arrowhead\" d=\"M2695,354.0 L2687,342.0 2703,342.0\" fill=\"currentColor\"/>\n",
              "</g>\n",
              "\n",
              "<g class=\"displacy-arrow\">\n",
              "    <path class=\"displacy-arc\" id=\"arrow-d4590957936744f89247cf6b929ac3d4-0-13\" stroke-width=\"2px\" d=\"M2870,352.0 C2870,177.0 3190.0,177.0 3190.0,352.0\" fill=\"none\" stroke=\"currentColor\"/>\n",
              "    <text dy=\"1.25em\" style=\"font-size: 0.8em; letter-spacing: 1px\">\n",
              "        <textPath xlink:href=\"#arrow-d4590957936744f89247cf6b929ac3d4-0-13\" class=\"displacy-label\" startOffset=\"50%\" side=\"left\" fill=\"currentColor\" text-anchor=\"middle\">punct</textPath>\n",
              "    </text>\n",
              "    <path class=\"displacy-arrowhead\" d=\"M2870,354.0 L2862,342.0 2878,342.0\" fill=\"currentColor\"/>\n",
              "</g>\n",
              "\n",
              "<g class=\"displacy-arrow\">\n",
              "    <path class=\"displacy-arc\" id=\"arrow-d4590957936744f89247cf6b929ac3d4-0-14\" stroke-width=\"2px\" d=\"M3045,352.0 C3045,264.5 3185.0,264.5 3185.0,352.0\" fill=\"none\" stroke=\"currentColor\"/>\n",
              "    <text dy=\"1.25em\" style=\"font-size: 0.8em; letter-spacing: 1px\">\n",
              "        <textPath xlink:href=\"#arrow-d4590957936744f89247cf6b929ac3d4-0-14\" class=\"displacy-label\" startOffset=\"50%\" side=\"left\" fill=\"currentColor\" text-anchor=\"middle\">compound</textPath>\n",
              "    </text>\n",
              "    <path class=\"displacy-arrowhead\" d=\"M3045,354.0 L3037,342.0 3053,342.0\" fill=\"currentColor\"/>\n",
              "</g>\n",
              "\n",
              "<g class=\"displacy-arrow\">\n",
              "    <path class=\"displacy-arc\" id=\"arrow-d4590957936744f89247cf6b929ac3d4-0-15\" stroke-width=\"2px\" d=\"M3220,352.0 C3220,264.5 3360.0,264.5 3360.0,352.0\" fill=\"none\" stroke=\"currentColor\"/>\n",
              "    <text dy=\"1.25em\" style=\"font-size: 0.8em; letter-spacing: 1px\">\n",
              "        <textPath xlink:href=\"#arrow-d4590957936744f89247cf6b929ac3d4-0-15\" class=\"displacy-label\" startOffset=\"50%\" side=\"left\" fill=\"currentColor\" text-anchor=\"middle\">punct</textPath>\n",
              "    </text>\n",
              "    <path class=\"displacy-arrowhead\" d=\"M3360.0,354.0 L3368.0,342.0 3352.0,342.0\" fill=\"currentColor\"/>\n",
              "</g>\n",
              "\n",
              "<g class=\"displacy-arrow\">\n",
              "    <path class=\"displacy-arc\" id=\"arrow-d4590957936744f89247cf6b929ac3d4-0-16\" stroke-width=\"2px\" d=\"M3570,352.0 C3570,2.0 4250.0,2.0 4250.0,352.0\" fill=\"none\" stroke=\"currentColor\"/>\n",
              "    <text dy=\"1.25em\" style=\"font-size: 0.8em; letter-spacing: 1px\">\n",
              "        <textPath xlink:href=\"#arrow-d4590957936744f89247cf6b929ac3d4-0-16\" class=\"displacy-label\" startOffset=\"50%\" side=\"left\" fill=\"currentColor\" text-anchor=\"middle\">amod</textPath>\n",
              "    </text>\n",
              "    <path class=\"displacy-arrowhead\" d=\"M3570,354.0 L3562,342.0 3578,342.0\" fill=\"currentColor\"/>\n",
              "</g>\n",
              "\n",
              "<g class=\"displacy-arrow\">\n",
              "    <path class=\"displacy-arc\" id=\"arrow-d4590957936744f89247cf6b929ac3d4-0-17\" stroke-width=\"2px\" d=\"M3745,352.0 C3745,89.5 4245.0,89.5 4245.0,352.0\" fill=\"none\" stroke=\"currentColor\"/>\n",
              "    <text dy=\"1.25em\" style=\"font-size: 0.8em; letter-spacing: 1px\">\n",
              "        <textPath xlink:href=\"#arrow-d4590957936744f89247cf6b929ac3d4-0-17\" class=\"displacy-label\" startOffset=\"50%\" side=\"left\" fill=\"currentColor\" text-anchor=\"middle\">nummod</textPath>\n",
              "    </text>\n",
              "    <path class=\"displacy-arrowhead\" d=\"M3745,354.0 L3737,342.0 3753,342.0\" fill=\"currentColor\"/>\n",
              "</g>\n",
              "\n",
              "<g class=\"displacy-arrow\">\n",
              "    <path class=\"displacy-arc\" id=\"arrow-d4590957936744f89247cf6b929ac3d4-0-18\" stroke-width=\"2px\" d=\"M3920,352.0 C3920,264.5 4060.0,264.5 4060.0,352.0\" fill=\"none\" stroke=\"currentColor\"/>\n",
              "    <text dy=\"1.25em\" style=\"font-size: 0.8em; letter-spacing: 1px\">\n",
              "        <textPath xlink:href=\"#arrow-d4590957936744f89247cf6b929ac3d4-0-18\" class=\"displacy-label\" startOffset=\"50%\" side=\"left\" fill=\"currentColor\" text-anchor=\"middle\">compound</textPath>\n",
              "    </text>\n",
              "    <path class=\"displacy-arrowhead\" d=\"M3920,354.0 L3912,342.0 3928,342.0\" fill=\"currentColor\"/>\n",
              "</g>\n",
              "\n",
              "<g class=\"displacy-arrow\">\n",
              "    <path class=\"displacy-arc\" id=\"arrow-d4590957936744f89247cf6b929ac3d4-0-19\" stroke-width=\"2px\" d=\"M4095,352.0 C4095,264.5 4235.0,264.5 4235.0,352.0\" fill=\"none\" stroke=\"currentColor\"/>\n",
              "    <text dy=\"1.25em\" style=\"font-size: 0.8em; letter-spacing: 1px\">\n",
              "        <textPath xlink:href=\"#arrow-d4590957936744f89247cf6b929ac3d4-0-19\" class=\"displacy-label\" startOffset=\"50%\" side=\"left\" fill=\"currentColor\" text-anchor=\"middle\">compound</textPath>\n",
              "    </text>\n",
              "    <path class=\"displacy-arrowhead\" d=\"M4095,354.0 L4087,342.0 4103,342.0\" fill=\"currentColor\"/>\n",
              "</g>\n",
              "\n",
              "<g class=\"displacy-arrow\">\n",
              "    <path class=\"displacy-arc\" id=\"arrow-d4590957936744f89247cf6b929ac3d4-0-20\" stroke-width=\"2px\" d=\"M4270,352.0 C4270,264.5 4410.0,264.5 4410.0,352.0\" fill=\"none\" stroke=\"currentColor\"/>\n",
              "    <text dy=\"1.25em\" style=\"font-size: 0.8em; letter-spacing: 1px\">\n",
              "        <textPath xlink:href=\"#arrow-d4590957936744f89247cf6b929ac3d4-0-20\" class=\"displacy-label\" startOffset=\"50%\" side=\"left\" fill=\"currentColor\" text-anchor=\"middle\">nsubj</textPath>\n",
              "    </text>\n",
              "    <path class=\"displacy-arrowhead\" d=\"M4270,354.0 L4262,342.0 4278,342.0\" fill=\"currentColor\"/>\n",
              "</g>\n",
              "\n",
              "<g class=\"displacy-arrow\">\n",
              "    <path class=\"displacy-arc\" id=\"arrow-d4590957936744f89247cf6b929ac3d4-0-21\" stroke-width=\"2px\" d=\"M4445,352.0 C4445,264.5 4585.0,264.5 4585.0,352.0\" fill=\"none\" stroke=\"currentColor\"/>\n",
              "    <text dy=\"1.25em\" style=\"font-size: 0.8em; letter-spacing: 1px\">\n",
              "        <textPath xlink:href=\"#arrow-d4590957936744f89247cf6b929ac3d4-0-21\" class=\"displacy-label\" startOffset=\"50%\" side=\"left\" fill=\"currentColor\" text-anchor=\"middle\">nummod</textPath>\n",
              "    </text>\n",
              "    <path class=\"displacy-arrowhead\" d=\"M4585.0,354.0 L4593.0,342.0 4577.0,342.0\" fill=\"currentColor\"/>\n",
              "</g>\n",
              "</svg></span>"
            ]
          },
          "metadata": {}
        }
      ],
      "source": [
        "displacy.render(spacy_test, style='dep', jupyter=True)"
      ]
    },
    {
      "cell_type": "markdown",
      "id": "628f7327",
      "metadata": {
        "id": "628f7327"
      },
      "source": [
        "# Решение задачи классификации текста"
      ]
    },
    {
      "cell_type": "code",
      "execution_count": 22,
      "id": "273dccfc",
      "metadata": {
        "id": "273dccfc"
      },
      "outputs": [],
      "source": [
        "from sklearn.feature_extraction.text import CountVectorizer, TfidfVectorizer\n",
        "from sklearn.svm import LinearSVC\n",
        "from sklearn.naive_bayes import MultinomialNB\n",
        "from sklearn.model_selection import cross_val_score"
      ]
    },
    {
      "cell_type": "markdown",
      "id": "a02208e1",
      "metadata": {
        "id": "a02208e1"
      },
      "source": [
        "Зададим целевую переменную -- тональность текста:"
      ]
    },
    {
      "cell_type": "code",
      "execution_count": 23,
      "id": "339ff945",
      "metadata": {
        "colab": {
          "base_uri": "https://localhost:8080/"
        },
        "id": "339ff945",
        "outputId": "422d67ef-a845-40ed-9ae8-03aed6c3d08e"
      },
      "outputs": [
        {
          "output_type": "execute_result",
          "data": {
            "text/plain": [
              "array(['Irrelevant', 'Neutral', 'Negative', 'Negative', 'Neutral',\n",
              "       'Negative', 'Positive', 'Positive', 'Positive', 'Negative',\n",
              "       'Positive', 'Positive', 'Negative', 'Neutral', 'Negative',\n",
              "       'Positive', 'Positive', 'Negative', 'Positive', 'Negative',\n",
              "       'Negative', 'Neutral', 'Irrelevant', 'Negative', 'Neutral',\n",
              "       'Neutral', 'Negative', 'Irrelevant', 'Irrelevant', 'Negative',\n",
              "       'Positive', 'Positive', 'Negative', 'Positive', 'Negative',\n",
              "       'Neutral', 'Neutral', 'Irrelevant', 'Positive', 'Neutral',\n",
              "       'Positive', 'Neutral', 'Neutral', 'Neutral', 'Positive', 'Neutral',\n",
              "       'Negative', 'Negative', 'Negative', 'Neutral', 'Positive',\n",
              "       'Negative', 'Negative', 'Positive', 'Positive', 'Positive',\n",
              "       'Positive', 'Positive', 'Negative', 'Irrelevant', 'Negative',\n",
              "       'Positive', 'Positive', 'Irrelevant', 'Negative', 'Neutral',\n",
              "       'Negative', 'Irrelevant', 'Neutral', 'Negative', 'Positive',\n",
              "       'Negative', 'Negative', 'Positive', 'Positive', 'Irrelevant',\n",
              "       'Positive', 'Irrelevant', 'Neutral', 'Neutral', 'Neutral',\n",
              "       'Positive', 'Positive', 'Neutral', 'Positive', 'Neutral',\n",
              "       'Negative', 'Irrelevant', 'Negative', 'Neutral', 'Neutral',\n",
              "       'Negative', 'Positive', 'Irrelevant', 'Irrelevant', 'Negative',\n",
              "       'Negative', 'Negative', 'Neutral', 'Positive', 'Neutral',\n",
              "       'Negative', 'Positive', 'Positive', 'Neutral', 'Positive',\n",
              "       'Neutral', 'Positive', 'Negative', 'Neutral', 'Neutral', 'Neutral',\n",
              "       'Negative', 'Neutral', 'Negative', 'Neutral', 'Neutral',\n",
              "       'Positive', 'Positive', 'Neutral', 'Negative', 'Negative',\n",
              "       'Positive', 'Negative', 'Neutral', 'Negative', 'Positive',\n",
              "       'Neutral', 'Negative', 'Neutral', 'Irrelevant', 'Positive',\n",
              "       'Neutral', 'Positive', 'Positive', 'Irrelevant', 'Neutral',\n",
              "       'Neutral', 'Irrelevant', 'Irrelevant', 'Irrelevant', 'Neutral',\n",
              "       'Neutral', 'Irrelevant', 'Irrelevant', 'Irrelevant', 'Positive',\n",
              "       'Neutral', 'Positive', 'Irrelevant', 'Positive', 'Negative',\n",
              "       'Neutral', 'Neutral', 'Neutral', 'Irrelevant', 'Neutral',\n",
              "       'Negative', 'Neutral', 'Positive', 'Negative', 'Neutral',\n",
              "       'Negative', 'Irrelevant', 'Irrelevant', 'Irrelevant', 'Neutral',\n",
              "       'Negative', 'Negative', 'Negative', 'Positive', 'Positive',\n",
              "       'Positive', 'Neutral', 'Neutral', 'Positive', 'Irrelevant',\n",
              "       'Neutral', 'Neutral', 'Neutral', 'Positive', 'Neutral', 'Negative',\n",
              "       'Negative', 'Neutral', 'Positive', 'Positive', 'Irrelevant',\n",
              "       'Irrelevant', 'Neutral', 'Positive', 'Positive', 'Neutral',\n",
              "       'Irrelevant', 'Neutral', 'Negative', 'Negative', 'Negative',\n",
              "       'Negative', 'Positive', 'Neutral', 'Neutral', 'Positive',\n",
              "       'Positive', 'Positive', 'Positive', 'Negative', 'Positive',\n",
              "       'Positive', 'Irrelevant', 'Neutral', 'Irrelevant', 'Negative',\n",
              "       'Negative', 'Irrelevant', 'Irrelevant', 'Negative', 'Positive',\n",
              "       'Positive', 'Negative', 'Irrelevant', 'Negative', 'Positive',\n",
              "       'Positive', 'Negative', 'Irrelevant', 'Irrelevant', 'Positive',\n",
              "       'Positive', 'Negative', 'Positive', 'Irrelevant', 'Neutral',\n",
              "       'Irrelevant', 'Irrelevant', 'Negative', 'Neutral', 'Neutral',\n",
              "       'Positive', 'Negative', 'Irrelevant', 'Irrelevant', 'Positive',\n",
              "       'Positive', 'Irrelevant', 'Irrelevant', 'Neutral', 'Positive',\n",
              "       'Negative', 'Negative', 'Positive', 'Positive', 'Positive',\n",
              "       'Positive', 'Neutral', 'Neutral', 'Positive', 'Negative',\n",
              "       'Neutral', 'Positive', 'Neutral', 'Negative', 'Neutral', 'Neutral',\n",
              "       'Negative', 'Positive', 'Positive', 'Irrelevant', 'Negative',\n",
              "       'Neutral', 'Irrelevant', 'Positive', 'Neutral', 'Irrelevant',\n",
              "       'Negative', 'Neutral', 'Negative', 'Positive', 'Positive',\n",
              "       'Negative', 'Negative', 'Negative', 'Positive', 'Negative',\n",
              "       'Neutral', 'Positive', 'Neutral', 'Neutral', 'Negative',\n",
              "       'Positive', 'Negative', 'Positive', 'Negative', 'Irrelevant',\n",
              "       'Neutral', 'Neutral', 'Positive', 'Negative', 'Neutral',\n",
              "       'Negative', 'Irrelevant', 'Positive', 'Negative', 'Positive',\n",
              "       'Irrelevant', 'Positive', 'Positive', 'Positive', 'Positive',\n",
              "       'Positive', 'Negative', 'Negative', 'Positive', 'Negative',\n",
              "       'Neutral', 'Neutral', 'Neutral', 'Positive', 'Irrelevant',\n",
              "       'Neutral', 'Positive', 'Irrelevant', 'Negative', 'Neutral',\n",
              "       'Neutral', 'Irrelevant', 'Neutral', 'Neutral', 'Irrelevant',\n",
              "       'Negative', 'Positive', 'Negative', 'Negative', 'Irrelevant',\n",
              "       'Irrelevant', 'Positive', 'Irrelevant', 'Positive', 'Neutral',\n",
              "       'Neutral', 'Irrelevant', 'Irrelevant', 'Negative', 'Negative',\n",
              "       'Negative', 'Neutral', 'Positive', 'Irrelevant', 'Neutral',\n",
              "       'Negative', 'Positive', 'Irrelevant', 'Neutral', 'Negative',\n",
              "       'Negative', 'Negative', 'Positive', 'Neutral', 'Neutral',\n",
              "       'Irrelevant', 'Negative', 'Positive', 'Positive', 'Irrelevant',\n",
              "       'Neutral', 'Irrelevant', 'Positive', 'Neutral', 'Neutral',\n",
              "       'Positive', 'Positive', 'Negative', 'Neutral', 'Positive',\n",
              "       'Negative', 'Neutral', 'Negative', 'Irrelevant', 'Negative',\n",
              "       'Positive', 'Positive', 'Irrelevant', 'Positive', 'Positive',\n",
              "       'Neutral', 'Negative', 'Neutral', 'Irrelevant', 'Irrelevant',\n",
              "       'Positive', 'Neutral', 'Positive', 'Negative', 'Negative',\n",
              "       'Negative', 'Irrelevant', 'Positive', 'Neutral', 'Positive',\n",
              "       'Irrelevant', 'Negative', 'Neutral', 'Irrelevant', 'Negative',\n",
              "       'Positive', 'Positive', 'Positive', 'Positive', 'Neutral',\n",
              "       'Neutral', 'Irrelevant', 'Neutral', 'Negative', 'Positive',\n",
              "       'Positive', 'Neutral', 'Negative', 'Positive', 'Neutral',\n",
              "       'Negative', 'Negative', 'Negative', 'Negative', 'Negative',\n",
              "       'Neutral', 'Neutral', 'Neutral', 'Positive', 'Positive',\n",
              "       'Negative', 'Negative', 'Neutral', 'Negative', 'Neutral',\n",
              "       'Neutral', 'Negative', 'Irrelevant', 'Positive', 'Irrelevant',\n",
              "       'Irrelevant', 'Negative', 'Positive', 'Positive', 'Positive',\n",
              "       'Irrelevant', 'Neutral', 'Positive', 'Irrelevant', 'Neutral',\n",
              "       'Neutral', 'Negative', 'Positive', 'Neutral', 'Neutral', 'Neutral',\n",
              "       'Neutral', 'Irrelevant', 'Irrelevant', 'Irrelevant', 'Neutral',\n",
              "       'Neutral', 'Irrelevant', 'Neutral', 'Irrelevant', 'Neutral',\n",
              "       'Irrelevant', 'Negative', 'Negative', 'Positive', 'Irrelevant',\n",
              "       'Irrelevant', 'Positive', 'Irrelevant', 'Irrelevant', 'Neutral',\n",
              "       'Negative', 'Negative', 'Positive', 'Positive', 'Negative',\n",
              "       'Positive', 'Positive', 'Positive', 'Positive', 'Irrelevant',\n",
              "       'Positive', 'Irrelevant', 'Neutral', 'Negative', 'Positive',\n",
              "       'Neutral', 'Neutral', 'Positive', 'Positive', 'Irrelevant',\n",
              "       'Positive', 'Irrelevant', 'Positive', 'Irrelevant', 'Neutral',\n",
              "       'Negative', 'Negative', 'Negative', 'Negative', 'Neutral',\n",
              "       'Positive', 'Negative', 'Negative', 'Positive', 'Positive',\n",
              "       'Neutral', 'Neutral', 'Negative', 'Negative', 'Positive',\n",
              "       'Neutral', 'Negative', 'Negative', 'Negative', 'Neutral',\n",
              "       'Neutral', 'Positive', 'Negative', 'Negative', 'Negative',\n",
              "       'Neutral', 'Neutral', 'Irrelevant', 'Neutral', 'Negative',\n",
              "       'Negative', 'Positive', 'Irrelevant', 'Irrelevant', 'Negative',\n",
              "       'Neutral', 'Negative', 'Neutral', 'Positive', 'Negative',\n",
              "       'Neutral', 'Positive', 'Positive', 'Negative', 'Neutral',\n",
              "       'Neutral', 'Positive', 'Irrelevant', 'Negative', 'Negative',\n",
              "       'Neutral', 'Irrelevant', 'Neutral', 'Negative', 'Positive',\n",
              "       'Negative', 'Neutral', 'Negative', 'Negative', 'Negative',\n",
              "       'Positive', 'Negative', 'Positive', 'Negative', 'Positive',\n",
              "       'Negative', 'Negative', 'Neutral', 'Negative', 'Neutral',\n",
              "       'Negative', 'Positive', 'Negative', 'Irrelevant', 'Neutral',\n",
              "       'Negative', 'Negative', 'Neutral', 'Neutral', 'Positive',\n",
              "       'Negative', 'Positive', 'Neutral', 'Neutral', 'Neutral',\n",
              "       'Irrelevant', 'Irrelevant', 'Neutral', 'Irrelevant', 'Negative',\n",
              "       'Neutral', 'Neutral', 'Neutral', 'Irrelevant', 'Negative',\n",
              "       'Negative', 'Irrelevant', 'Neutral', 'Irrelevant', 'Positive',\n",
              "       'Neutral', 'Neutral', 'Negative', 'Neutral', 'Positive', 'Neutral',\n",
              "       'Neutral', 'Irrelevant', 'Neutral', 'Neutral', 'Irrelevant',\n",
              "       'Neutral', 'Positive', 'Neutral', 'Positive', 'Positive',\n",
              "       'Irrelevant', 'Positive', 'Neutral', 'Negative', 'Positive',\n",
              "       'Neutral', 'Irrelevant', 'Irrelevant', 'Neutral', 'Negative',\n",
              "       'Positive', 'Neutral', 'Neutral', 'Negative', 'Irrelevant',\n",
              "       'Neutral', 'Negative', 'Irrelevant', 'Neutral', 'Irrelevant',\n",
              "       'Irrelevant', 'Positive', 'Irrelevant', 'Negative', 'Positive',\n",
              "       'Negative', 'Negative', 'Neutral', 'Irrelevant', 'Neutral',\n",
              "       'Neutral', 'Neutral', 'Positive', 'Positive', 'Irrelevant',\n",
              "       'Positive', 'Irrelevant', 'Negative', 'Irrelevant', 'Negative',\n",
              "       'Neutral', 'Positive', 'Neutral', 'Irrelevant', 'Neutral',\n",
              "       'Negative', 'Positive', 'Irrelevant', 'Irrelevant', 'Positive',\n",
              "       'Neutral', 'Positive', 'Negative', 'Negative', 'Neutral',\n",
              "       'Positive', 'Negative', 'Positive', 'Negative', 'Neutral',\n",
              "       'Positive', 'Positive', 'Neutral', 'Neutral', 'Neutral',\n",
              "       'Irrelevant', 'Positive', 'Neutral', 'Negative', 'Neutral',\n",
              "       'Neutral', 'Negative', 'Positive', 'Negative', 'Irrelevant',\n",
              "       'Neutral', 'Positive', 'Positive', 'Positive', 'Irrelevant',\n",
              "       'Positive', 'Neutral', 'Negative', 'Neutral', 'Positive',\n",
              "       'Positive', 'Irrelevant', 'Positive', 'Positive', 'Positive',\n",
              "       'Negative', 'Neutral', 'Positive', 'Neutral', 'Neutral',\n",
              "       'Negative', 'Negative', 'Negative', 'Neutral', 'Positive',\n",
              "       'Neutral', 'Negative', 'Irrelevant', 'Positive', 'Positive',\n",
              "       'Positive', 'Irrelevant', 'Neutral', 'Positive', 'Irrelevant',\n",
              "       'Negative', 'Neutral', 'Negative', 'Neutral', 'Irrelevant',\n",
              "       'Negative', 'Neutral', 'Neutral', 'Positive', 'Negative',\n",
              "       'Positive', 'Positive', 'Neutral', 'Negative', 'Neutral',\n",
              "       'Negative', 'Negative', 'Negative', 'Irrelevant', 'Negative',\n",
              "       'Irrelevant', 'Positive', 'Positive', 'Positive', 'Positive',\n",
              "       'Neutral', 'Negative', 'Negative', 'Positive', 'Negative',\n",
              "       'Negative', 'Neutral', 'Irrelevant', 'Neutral', 'Positive',\n",
              "       'Neutral', 'Negative', 'Neutral', 'Positive', 'Negative',\n",
              "       'Neutral', 'Positive', 'Negative', 'Neutral', 'Neutral',\n",
              "       'Positive', 'Irrelevant', 'Negative', 'Neutral', 'Irrelevant',\n",
              "       'Negative', 'Irrelevant', 'Positive', 'Positive', 'Neutral',\n",
              "       'Positive', 'Neutral', 'Positive', 'Negative', 'Neutral',\n",
              "       'Neutral', 'Neutral', 'Positive', 'Neutral', 'Neutral',\n",
              "       'Irrelevant', 'Negative', 'Positive', 'Neutral', 'Negative',\n",
              "       'Negative', 'Neutral', 'Neutral', 'Positive', 'Negative',\n",
              "       'Negative', 'Negative', 'Irrelevant', 'Negative', 'Positive',\n",
              "       'Neutral', 'Neutral', 'Positive', 'Irrelevant', 'Neutral',\n",
              "       'Negative', 'Positive', 'Positive', 'Negative', 'Irrelevant',\n",
              "       'Positive', 'Positive', 'Neutral', 'Negative', 'Neutral',\n",
              "       'Positive', 'Positive', 'Negative', 'Negative', 'Negative',\n",
              "       'Irrelevant', 'Positive', 'Negative', 'Neutral', 'Negative',\n",
              "       'Neutral', 'Neutral', 'Irrelevant', 'Positive', 'Positive',\n",
              "       'Negative', 'Neutral', 'Positive', 'Negative', 'Negative',\n",
              "       'Negative', 'Negative', 'Negative', 'Negative', 'Negative',\n",
              "       'Irrelevant', 'Irrelevant', 'Negative', 'Neutral', 'Negative',\n",
              "       'Neutral', 'Neutral', 'Neutral', 'Positive', 'Neutral', 'Neutral',\n",
              "       'Neutral', 'Irrelevant', 'Irrelevant', 'Negative', 'Neutral',\n",
              "       'Positive', 'Neutral', 'Negative', 'Negative', 'Positive',\n",
              "       'Neutral', 'Irrelevant', 'Positive', 'Neutral', 'Positive',\n",
              "       'Irrelevant', 'Neutral', 'Negative', 'Irrelevant', 'Irrelevant',\n",
              "       'Irrelevant', 'Positive', 'Positive', 'Irrelevant', 'Positive',\n",
              "       'Positive', 'Irrelevant', 'Negative', 'Negative', 'Positive',\n",
              "       'Neutral', 'Neutral', 'Neutral', 'Neutral', 'Neutral', 'Neutral',\n",
              "       'Negative', 'Negative', 'Negative', 'Negative', 'Positive',\n",
              "       'Negative', 'Neutral', 'Positive', 'Irrelevant', 'Neutral',\n",
              "       'Negative', 'Positive', 'Positive', 'Negative', 'Positive',\n",
              "       'Neutral', 'Neutral', 'Irrelevant', 'Positive', 'Negative',\n",
              "       'Irrelevant', 'Neutral', 'Irrelevant', 'Negative', 'Neutral',\n",
              "       'Positive', 'Irrelevant', 'Irrelevant', 'Positive', 'Neutral',\n",
              "       'Negative', 'Positive', 'Negative', 'Negative', 'Neutral',\n",
              "       'Negative', 'Neutral', 'Irrelevant', 'Negative', 'Positive',\n",
              "       'Irrelevant', 'Neutral', 'Negative', 'Negative', 'Positive',\n",
              "       'Positive', 'Irrelevant', 'Irrelevant', 'Negative', 'Irrelevant',\n",
              "       'Neutral', 'Negative', 'Neutral', 'Neutral', 'Neutral', 'Neutral',\n",
              "       'Neutral', 'Neutral', 'Irrelevant', 'Positive', 'Neutral',\n",
              "       'Positive', 'Positive', 'Positive', 'Negative', 'Neutral',\n",
              "       'Positive', 'Neutral', 'Irrelevant', 'Irrelevant', 'Positive',\n",
              "       'Neutral', 'Positive', 'Neutral', 'Irrelevant', 'Positive',\n",
              "       'Neutral', 'Negative', 'Negative', 'Positive', 'Positive',\n",
              "       'Positive', 'Irrelevant', 'Positive', 'Neutral', 'Irrelevant',\n",
              "       'Negative', 'Positive', 'Positive', 'Negative', 'Negative',\n",
              "       'Negative', 'Neutral', 'Positive', 'Irrelevant', 'Neutral',\n",
              "       'Positive', 'Positive', 'Neutral', 'Positive', 'Negative',\n",
              "       'Positive', 'Irrelevant', 'Irrelevant', 'Positive', 'Positive',\n",
              "       'Neutral'], dtype=object)"
            ]
          },
          "metadata": {},
          "execution_count": 23
        }
      ],
      "source": [
        "target = df_class['sentiment'].values\n",
        "target"
      ]
    },
    {
      "cell_type": "markdown",
      "id": "4d50cd77",
      "metadata": {
        "id": "4d50cd77"
      },
      "source": [
        "## Способ 1. CountVectorizer"
      ]
    },
    {
      "cell_type": "code",
      "execution_count": 24,
      "id": "0cb242ae",
      "metadata": {
        "colab": {
          "base_uri": "https://localhost:8080/"
        },
        "id": "0cb242ae",
        "outputId": "5a7bcdc3-9dcc-471f-de8f-99413c806e45"
      },
      "outputs": [
        {
          "output_type": "execute_result",
          "data": {
            "text/plain": [
              "<1000x5440 sparse matrix of type '<class 'numpy.int64'>'\n",
              "\twith 19225 stored elements in Compressed Sparse Row format>"
            ]
          },
          "metadata": {},
          "execution_count": 24
        }
      ],
      "source": [
        "countv = CountVectorizer()\n",
        "countv_features = countv.fit_transform(df_class[\"comment\"])\n",
        "countv_features"
      ]
    },
    {
      "cell_type": "code",
      "execution_count": 25,
      "id": "8cf30a04",
      "metadata": {
        "colab": {
          "base_uri": "https://localhost:8080/"
        },
        "id": "8cf30a04",
        "outputId": "683be4d5-3aa5-40a2-9894-c416e5b15e34"
      },
      "outputs": [
        {
          "output_type": "stream",
          "name": "stdout",
          "text": [
            "Модель векторизации - Countvectorizer, \n",
            "Модель классификации - LinearSVC, \n",
            "Значение accuracy = 0.4589919260577943\n",
            "CPU times: user 71 ms, sys: 412 µs, total: 71.5 ms\n",
            "Wall time: 74.7 ms\n"
          ]
        }
      ],
      "source": [
        "%%time\n",
        "score_count_svc = cross_val_score(LinearSVC(), countv_features, target, scoring='accuracy', cv=3).mean()\n",
        "\n",
        "print('Модель векторизации - Countvectorizer, \\nМодель классификации - LinearSVC, \\nЗначение accuracy = {}'.format(score_count_svc))"
      ]
    },
    {
      "cell_type": "markdown",
      "id": "2e6f0553",
      "metadata": {
        "id": "2e6f0553"
      },
      "source": [
        "Получаем достаточно плохой результат. Возможно это следствие особенности текстов в твиттере с ограничением на количество символов, что приводит к сильным сокращениям и искажениям слов. Вообще лексика неформального общения не совсем совпадает со стандартной."
      ]
    },
    {
      "cell_type": "markdown",
      "id": "fa8cdc80",
      "metadata": {
        "id": "fa8cdc80"
      },
      "source": [
        "## Способ 2. word2vec"
      ]
    },
    {
      "cell_type": "code",
      "execution_count": 26,
      "id": "89611fdf",
      "metadata": {
        "id": "89611fdf"
      },
      "outputs": [],
      "source": [
        "import gensim\n",
        "from gensim.models import word2vec"
      ]
    },
    {
      "cell_type": "code",
      "execution_count": 27,
      "id": "b6cd6be3",
      "metadata": {
        "colab": {
          "base_uri": "https://localhost:8080/"
        },
        "id": "b6cd6be3",
        "outputId": "f397b894-71e0-49f0-db2b-df2c4c1ab825"
      },
      "outputs": [
        {
          "output_type": "stream",
          "name": "stdout",
          "text": [
            "[nltk_data] Downloading package stopwords to /root/nltk_data...\n",
            "[nltk_data]   Unzipping corpora/stopwords.zip.\n"
          ]
        },
        {
          "output_type": "execute_result",
          "data": {
            "text/plain": [
              "True"
            ]
          },
          "metadata": {},
          "execution_count": 27
        }
      ],
      "source": [
        "import re\n",
        "import pandas as pd\n",
        "import numpy as np\n",
        "from typing import Dict, Tuple\n",
        "from sklearn.metrics import accuracy_score, balanced_accuracy_score\n",
        "from sklearn.feature_extraction.text import CountVectorizer, TfidfVectorizer\n",
        "from sklearn.linear_model import LogisticRegression\n",
        "from sklearn.pipeline import Pipeline\n",
        "from nltk import WordPunctTokenizer\n",
        "from nltk.corpus import stopwords\n",
        "import nltk\n",
        "nltk.download('stopwords')"
      ]
    },
    {
      "cell_type": "code",
      "execution_count": 29,
      "id": "5c6e712b",
      "metadata": {
        "id": "5c6e712b"
      },
      "outputs": [],
      "source": [
        "# Подготовим корпус\n",
        "corpus = []\n",
        "stop_words = stopwords.words('english')\n",
        "tok = WordPunctTokenizer()\n",
        "for line in df_class['comment'].values:\n",
        "    line1 = line.strip().lower()\n",
        "    line1 = re.sub(\"[^a-zA-Z]\",\" \", line1)\n",
        "    text_tok = tok.tokenize(line1)\n",
        "    text_tok1 = [w for w in text_tok if not w in stop_words]\n",
        "    corpus.append(text_tok1)"
      ]
    },
    {
      "cell_type": "code",
      "execution_count": 30,
      "id": "355f71c4",
      "metadata": {
        "colab": {
          "base_uri": "https://localhost:8080/"
        },
        "id": "355f71c4",
        "outputId": "7d1034c6-ca70-4ff6-bee2-1b94d4549f58"
      },
      "outputs": [
        {
          "output_type": "execute_result",
          "data": {
            "text/plain": [
              "[['mentioned',\n",
              "  'facebook',\n",
              "  'struggling',\n",
              "  'motivation',\n",
              "  'go',\n",
              "  'run',\n",
              "  'day',\n",
              "  'translated',\n",
              "  'tom',\n",
              "  'great',\n",
              "  'auntie',\n",
              "  'hayley',\n",
              "  'get',\n",
              "  'bed',\n",
              "  'told',\n",
              "  'grandma',\n",
              "  'thinks',\n",
              "  'lazy',\n",
              "  'terrible',\n",
              "  'person'],\n",
              " ['bbc',\n",
              "  'news',\n",
              "  'amazon',\n",
              "  'boss',\n",
              "  'jeff',\n",
              "  'bezos',\n",
              "  'rejects',\n",
              "  'claims',\n",
              "  'company',\n",
              "  'acted',\n",
              "  'like',\n",
              "  'drug',\n",
              "  'dealer',\n",
              "  'bbc',\n",
              "  'co',\n",
              "  'uk',\n",
              "  'news',\n",
              "  'av',\n",
              "  'busine'],\n",
              " ['microsoft',\n",
              "  'pay',\n",
              "  'word',\n",
              "  'functions',\n",
              "  'poorly',\n",
              "  'samsungus',\n",
              "  'chromebook'],\n",
              " ['csgo',\n",
              "  'matchmaking',\n",
              "  'full',\n",
              "  'closet',\n",
              "  'hacking',\n",
              "  'truly',\n",
              "  'awful',\n",
              "  'game'],\n",
              " ['president',\n",
              "  'slapping',\n",
              "  'americans',\n",
              "  'face',\n",
              "  'really',\n",
              "  'commit',\n",
              "  'unlawful',\n",
              "  'act',\n",
              "  'acquittal',\n",
              "  'discover',\n",
              "  'google',\n",
              "  'vanityfair',\n",
              "  'com',\n",
              "  'news']]"
            ]
          },
          "metadata": {},
          "execution_count": 30
        }
      ],
      "source": [
        "corpus[:5]"
      ]
    },
    {
      "cell_type": "markdown",
      "id": "17249662",
      "metadata": {
        "id": "17249662"
      },
      "source": [
        "Обучаем модель word2vec на нашем корпусе"
      ]
    },
    {
      "cell_type": "code",
      "execution_count": 31,
      "id": "d72e9ff8",
      "metadata": {
        "colab": {
          "base_uri": "https://localhost:8080/"
        },
        "id": "d72e9ff8",
        "outputId": "c79c0748-4a87-43ac-d90b-72931d823a15"
      },
      "outputs": [
        {
          "output_type": "stream",
          "name": "stdout",
          "text": [
            "CPU times: user 135 ms, sys: 5.14 ms, total: 140 ms\n",
            "Wall time: 128 ms\n"
          ]
        }
      ],
      "source": [
        "%time model_dz = word2vec.Word2Vec(corpus, workers=4, min_count=10, window=10, sample=1e-3)"
      ]
    },
    {
      "cell_type": "code",
      "execution_count": 32,
      "id": "4541fcfd",
      "metadata": {
        "colab": {
          "base_uri": "https://localhost:8080/"
        },
        "id": "4541fcfd",
        "outputId": "4498a659-7f4a-4333-fc6c-5833766d05fd"
      },
      "outputs": [
        {
          "output_type": "stream",
          "name": "stdout",
          "text": [
            "[('https', 0.973280668258667), ('time', 0.9732412695884705), ('work', 0.9727075099945068), ('k', 0.9724386930465698), ('com', 0.9718908667564392)]\n"
          ]
        }
      ],
      "source": [
        "# Проверим, что модель обучилась\n",
        "print(model_dz.wv.most_similar(positive=['find'], topn=5))"
      ]
    },
    {
      "cell_type": "code",
      "execution_count": 33,
      "id": "d1c22e34",
      "metadata": {
        "id": "d1c22e34"
      },
      "outputs": [],
      "source": [
        "def sentiment(v, c):\n",
        "    model = Pipeline(\n",
        "        [(\"vectorizer\", v), \n",
        "         (\"classifier\", c)])\n",
        "    model.fit(X_train, y_train)\n",
        "    y_pred = model.predict(X_test)\n",
        "    print_accuracy_score_for_classes(y_test, y_pred)"
      ]
    },
    {
      "cell_type": "code",
      "execution_count": 34,
      "id": "6f7fe51e",
      "metadata": {
        "id": "6f7fe51e"
      },
      "outputs": [],
      "source": [
        "class EmbeddingVectorizer(object):\n",
        "    '''\n",
        "    Для текста усредним вектора входящих в него слов\n",
        "    '''\n",
        "    def __init__(self, model):\n",
        "        self.model = model\n",
        "        self.size = model.vector_size\n",
        "\n",
        "    def fit(self, X, y):\n",
        "        return self\n",
        "\n",
        "    def transform(self, X):\n",
        "        return np.array([np.mean(\n",
        "            [self.model[w] for w in words if w in self.model] \n",
        "            or [np.zeros(self.size)], axis=0)\n",
        "            for words in X])\n",
        "def accuracy_score_for_classes(\n",
        "    y_true: np.ndarray, \n",
        "    y_pred: np.ndarray) -> Dict[int, float]:\n",
        "    \"\"\"\n",
        "    Вычисление метрики accuracy для каждого класса\n",
        "    y_true - истинные значения классов\n",
        "    y_pred - предсказанные значения классов\n",
        "    Возвращает словарь: ключ - метка класса, \n",
        "    значение - Accuracy для данного класса\n",
        "    \"\"\"\n",
        "    # Для удобства фильтрации сформируем Pandas DataFrame \n",
        "    d = {'t': y_true, 'p': y_pred}\n",
        "    df = pd.DataFrame(data=d)\n",
        "    # Метки классов\n",
        "    classes = np.unique(y_true)\n",
        "    # Результирующий словарь\n",
        "    res = dict()\n",
        "    # Перебор меток классов\n",
        "    for c in classes:\n",
        "        # отфильтруем данные, которые соответствуют \n",
        "        # текущей метке класса в истинных значениях\n",
        "        temp_data_flt = df[df['t']==c]\n",
        "        # расчет accuracy для заданной метки класса\n",
        "        temp_acc = accuracy_score(\n",
        "            temp_data_flt['t'].values, \n",
        "            temp_data_flt['p'].values)\n",
        "        # сохранение результата в словарь\n",
        "        res[c] = temp_acc\n",
        "    return res\n",
        "\n",
        "def print_accuracy_score_for_classes(\n",
        "    y_true: np.ndarray, \n",
        "    y_pred: np.ndarray):\n",
        "    \"\"\"\n",
        "    Вывод метрики accuracy для каждого класса\n",
        "    \"\"\"\n",
        "    accs = accuracy_score_for_classes(y_true, y_pred)\n",
        "    if len(accs)>0:\n",
        "        print('Метка \\t Accuracy')\n",
        "    for i in accs:\n",
        "        print('{} \\t {}'.format(i, accs[i]))"
      ]
    },
    {
      "cell_type": "code",
      "execution_count": 35,
      "id": "49860b0a",
      "metadata": {
        "colab": {
          "base_uri": "https://localhost:8080/"
        },
        "id": "49860b0a",
        "outputId": "b11796ff-ab6f-4fcd-ebd4-cd86f8c12134"
      },
      "outputs": [
        {
          "output_type": "execute_result",
          "data": {
            "text/plain": [
              "(1000, 4)"
            ]
          },
          "metadata": {},
          "execution_count": 35
        }
      ],
      "source": [
        "df_class.shape\n"
      ]
    },
    {
      "cell_type": "code",
      "execution_count": 36,
      "id": "c0fd712b",
      "metadata": {
        "colab": {
          "base_uri": "https://localhost:8080/",
          "height": 206
        },
        "id": "c0fd712b",
        "outputId": "655edbb1-a512-41d0-8411-72adc8612654"
      },
      "outputs": [
        {
          "output_type": "execute_result",
          "data": {
            "text/plain": [
              "     id     entity   sentiment  \\\n",
              "0  3364   Facebook  Irrelevant   \n",
              "1   352     Amazon     Neutral   \n",
              "2  8312  Microsoft    Negative   \n",
              "3  4371      CS-GO    Negative   \n",
              "4  4433     Google     Neutral   \n",
              "\n",
              "                                             comment  \n",
              "0  I mentioned on Facebook that I was struggling ...  \n",
              "1  BBC News - Amazon boss Jeff Bezos rejects clai...  \n",
              "2  @Microsoft Why do I pay for WORD when it funct...  \n",
              "3  CSGO matchmaking is so full of closet hacking,...  \n",
              "4  Now the President is slapping Americans in the...  "
            ],
            "text/html": [
              "\n",
              "  <div id=\"df-b2745ca3-1e3d-4aff-9fa2-d236e00c073e\">\n",
              "    <div class=\"colab-df-container\">\n",
              "      <div>\n",
              "<style scoped>\n",
              "    .dataframe tbody tr th:only-of-type {\n",
              "        vertical-align: middle;\n",
              "    }\n",
              "\n",
              "    .dataframe tbody tr th {\n",
              "        vertical-align: top;\n",
              "    }\n",
              "\n",
              "    .dataframe thead th {\n",
              "        text-align: right;\n",
              "    }\n",
              "</style>\n",
              "<table border=\"1\" class=\"dataframe\">\n",
              "  <thead>\n",
              "    <tr style=\"text-align: right;\">\n",
              "      <th></th>\n",
              "      <th>id</th>\n",
              "      <th>entity</th>\n",
              "      <th>sentiment</th>\n",
              "      <th>comment</th>\n",
              "    </tr>\n",
              "  </thead>\n",
              "  <tbody>\n",
              "    <tr>\n",
              "      <th>0</th>\n",
              "      <td>3364</td>\n",
              "      <td>Facebook</td>\n",
              "      <td>Irrelevant</td>\n",
              "      <td>I mentioned on Facebook that I was struggling ...</td>\n",
              "    </tr>\n",
              "    <tr>\n",
              "      <th>1</th>\n",
              "      <td>352</td>\n",
              "      <td>Amazon</td>\n",
              "      <td>Neutral</td>\n",
              "      <td>BBC News - Amazon boss Jeff Bezos rejects clai...</td>\n",
              "    </tr>\n",
              "    <tr>\n",
              "      <th>2</th>\n",
              "      <td>8312</td>\n",
              "      <td>Microsoft</td>\n",
              "      <td>Negative</td>\n",
              "      <td>@Microsoft Why do I pay for WORD when it funct...</td>\n",
              "    </tr>\n",
              "    <tr>\n",
              "      <th>3</th>\n",
              "      <td>4371</td>\n",
              "      <td>CS-GO</td>\n",
              "      <td>Negative</td>\n",
              "      <td>CSGO matchmaking is so full of closet hacking,...</td>\n",
              "    </tr>\n",
              "    <tr>\n",
              "      <th>4</th>\n",
              "      <td>4433</td>\n",
              "      <td>Google</td>\n",
              "      <td>Neutral</td>\n",
              "      <td>Now the President is slapping Americans in the...</td>\n",
              "    </tr>\n",
              "  </tbody>\n",
              "</table>\n",
              "</div>\n",
              "      <button class=\"colab-df-convert\" onclick=\"convertToInteractive('df-b2745ca3-1e3d-4aff-9fa2-d236e00c073e')\"\n",
              "              title=\"Convert this dataframe to an interactive table.\"\n",
              "              style=\"display:none;\">\n",
              "        \n",
              "  <svg xmlns=\"http://www.w3.org/2000/svg\" height=\"24px\"viewBox=\"0 0 24 24\"\n",
              "       width=\"24px\">\n",
              "    <path d=\"M0 0h24v24H0V0z\" fill=\"none\"/>\n",
              "    <path d=\"M18.56 5.44l.94 2.06.94-2.06 2.06-.94-2.06-.94-.94-2.06-.94 2.06-2.06.94zm-11 1L8.5 8.5l.94-2.06 2.06-.94-2.06-.94L8.5 2.5l-.94 2.06-2.06.94zm10 10l.94 2.06.94-2.06 2.06-.94-2.06-.94-.94-2.06-.94 2.06-2.06.94z\"/><path d=\"M17.41 7.96l-1.37-1.37c-.4-.4-.92-.59-1.43-.59-.52 0-1.04.2-1.43.59L10.3 9.45l-7.72 7.72c-.78.78-.78 2.05 0 2.83L4 21.41c.39.39.9.59 1.41.59.51 0 1.02-.2 1.41-.59l7.78-7.78 2.81-2.81c.8-.78.8-2.07 0-2.86zM5.41 20L4 18.59l7.72-7.72 1.47 1.35L5.41 20z\"/>\n",
              "  </svg>\n",
              "      </button>\n",
              "      \n",
              "  <style>\n",
              "    .colab-df-container {\n",
              "      display:flex;\n",
              "      flex-wrap:wrap;\n",
              "      gap: 12px;\n",
              "    }\n",
              "\n",
              "    .colab-df-convert {\n",
              "      background-color: #E8F0FE;\n",
              "      border: none;\n",
              "      border-radius: 50%;\n",
              "      cursor: pointer;\n",
              "      display: none;\n",
              "      fill: #1967D2;\n",
              "      height: 32px;\n",
              "      padding: 0 0 0 0;\n",
              "      width: 32px;\n",
              "    }\n",
              "\n",
              "    .colab-df-convert:hover {\n",
              "      background-color: #E2EBFA;\n",
              "      box-shadow: 0px 1px 2px rgba(60, 64, 67, 0.3), 0px 1px 3px 1px rgba(60, 64, 67, 0.15);\n",
              "      fill: #174EA6;\n",
              "    }\n",
              "\n",
              "    [theme=dark] .colab-df-convert {\n",
              "      background-color: #3B4455;\n",
              "      fill: #D2E3FC;\n",
              "    }\n",
              "\n",
              "    [theme=dark] .colab-df-convert:hover {\n",
              "      background-color: #434B5C;\n",
              "      box-shadow: 0px 1px 3px 1px rgba(0, 0, 0, 0.15);\n",
              "      filter: drop-shadow(0px 1px 2px rgba(0, 0, 0, 0.3));\n",
              "      fill: #FFFFFF;\n",
              "    }\n",
              "  </style>\n",
              "\n",
              "      <script>\n",
              "        const buttonEl =\n",
              "          document.querySelector('#df-b2745ca3-1e3d-4aff-9fa2-d236e00c073e button.colab-df-convert');\n",
              "        buttonEl.style.display =\n",
              "          google.colab.kernel.accessAllowed ? 'block' : 'none';\n",
              "\n",
              "        async function convertToInteractive(key) {\n",
              "          const element = document.querySelector('#df-b2745ca3-1e3d-4aff-9fa2-d236e00c073e');\n",
              "          const dataTable =\n",
              "            await google.colab.kernel.invokeFunction('convertToInteractive',\n",
              "                                                     [key], {});\n",
              "          if (!dataTable) return;\n",
              "\n",
              "          const docLinkHtml = 'Like what you see? Visit the ' +\n",
              "            '<a target=\"_blank\" href=https://colab.research.google.com/notebooks/data_table.ipynb>data table notebook</a>'\n",
              "            + ' to learn more about interactive tables.';\n",
              "          element.innerHTML = '';\n",
              "          dataTable['output_type'] = 'display_data';\n",
              "          await google.colab.output.renderOutput(dataTable, element);\n",
              "          const docLink = document.createElement('div');\n",
              "          docLink.innerHTML = docLinkHtml;\n",
              "          element.appendChild(docLink);\n",
              "        }\n",
              "      </script>\n",
              "    </div>\n",
              "  </div>\n",
              "  "
            ]
          },
          "metadata": {},
          "execution_count": 36
        }
      ],
      "source": [
        "df_class.head()"
      ]
    },
    {
      "cell_type": "code",
      "execution_count": 38,
      "id": "7eb03537",
      "metadata": {
        "id": "7eb03537"
      },
      "outputs": [],
      "source": [
        "dz_df = pd.concat([df_class[\"comment\"], df_class[\"sentiment\"]], axis = 1)"
      ]
    },
    {
      "cell_type": "code",
      "execution_count": 39,
      "id": "fec9ced6",
      "metadata": {
        "colab": {
          "base_uri": "https://localhost:8080/",
          "height": 206
        },
        "id": "fec9ced6",
        "outputId": "6e6a7f90-b20e-427e-b0b6-4be830e05b62"
      },
      "outputs": [
        {
          "output_type": "execute_result",
          "data": {
            "text/plain": [
              "                                             comment   sentiment\n",
              "0  I mentioned on Facebook that I was struggling ...  Irrelevant\n",
              "1  BBC News - Amazon boss Jeff Bezos rejects clai...     Neutral\n",
              "2  @Microsoft Why do I pay for WORD when it funct...    Negative\n",
              "3  CSGO matchmaking is so full of closet hacking,...    Negative\n",
              "4  Now the President is slapping Americans in the...     Neutral"
            ],
            "text/html": [
              "\n",
              "  <div id=\"df-8e70b454-19b8-4d16-b87a-67604740ed15\">\n",
              "    <div class=\"colab-df-container\">\n",
              "      <div>\n",
              "<style scoped>\n",
              "    .dataframe tbody tr th:only-of-type {\n",
              "        vertical-align: middle;\n",
              "    }\n",
              "\n",
              "    .dataframe tbody tr th {\n",
              "        vertical-align: top;\n",
              "    }\n",
              "\n",
              "    .dataframe thead th {\n",
              "        text-align: right;\n",
              "    }\n",
              "</style>\n",
              "<table border=\"1\" class=\"dataframe\">\n",
              "  <thead>\n",
              "    <tr style=\"text-align: right;\">\n",
              "      <th></th>\n",
              "      <th>comment</th>\n",
              "      <th>sentiment</th>\n",
              "    </tr>\n",
              "  </thead>\n",
              "  <tbody>\n",
              "    <tr>\n",
              "      <th>0</th>\n",
              "      <td>I mentioned on Facebook that I was struggling ...</td>\n",
              "      <td>Irrelevant</td>\n",
              "    </tr>\n",
              "    <tr>\n",
              "      <th>1</th>\n",
              "      <td>BBC News - Amazon boss Jeff Bezos rejects clai...</td>\n",
              "      <td>Neutral</td>\n",
              "    </tr>\n",
              "    <tr>\n",
              "      <th>2</th>\n",
              "      <td>@Microsoft Why do I pay for WORD when it funct...</td>\n",
              "      <td>Negative</td>\n",
              "    </tr>\n",
              "    <tr>\n",
              "      <th>3</th>\n",
              "      <td>CSGO matchmaking is so full of closet hacking,...</td>\n",
              "      <td>Negative</td>\n",
              "    </tr>\n",
              "    <tr>\n",
              "      <th>4</th>\n",
              "      <td>Now the President is slapping Americans in the...</td>\n",
              "      <td>Neutral</td>\n",
              "    </tr>\n",
              "  </tbody>\n",
              "</table>\n",
              "</div>\n",
              "      <button class=\"colab-df-convert\" onclick=\"convertToInteractive('df-8e70b454-19b8-4d16-b87a-67604740ed15')\"\n",
              "              title=\"Convert this dataframe to an interactive table.\"\n",
              "              style=\"display:none;\">\n",
              "        \n",
              "  <svg xmlns=\"http://www.w3.org/2000/svg\" height=\"24px\"viewBox=\"0 0 24 24\"\n",
              "       width=\"24px\">\n",
              "    <path d=\"M0 0h24v24H0V0z\" fill=\"none\"/>\n",
              "    <path d=\"M18.56 5.44l.94 2.06.94-2.06 2.06-.94-2.06-.94-.94-2.06-.94 2.06-2.06.94zm-11 1L8.5 8.5l.94-2.06 2.06-.94-2.06-.94L8.5 2.5l-.94 2.06-2.06.94zm10 10l.94 2.06.94-2.06 2.06-.94-2.06-.94-.94-2.06-.94 2.06-2.06.94z\"/><path d=\"M17.41 7.96l-1.37-1.37c-.4-.4-.92-.59-1.43-.59-.52 0-1.04.2-1.43.59L10.3 9.45l-7.72 7.72c-.78.78-.78 2.05 0 2.83L4 21.41c.39.39.9.59 1.41.59.51 0 1.02-.2 1.41-.59l7.78-7.78 2.81-2.81c.8-.78.8-2.07 0-2.86zM5.41 20L4 18.59l7.72-7.72 1.47 1.35L5.41 20z\"/>\n",
              "  </svg>\n",
              "      </button>\n",
              "      \n",
              "  <style>\n",
              "    .colab-df-container {\n",
              "      display:flex;\n",
              "      flex-wrap:wrap;\n",
              "      gap: 12px;\n",
              "    }\n",
              "\n",
              "    .colab-df-convert {\n",
              "      background-color: #E8F0FE;\n",
              "      border: none;\n",
              "      border-radius: 50%;\n",
              "      cursor: pointer;\n",
              "      display: none;\n",
              "      fill: #1967D2;\n",
              "      height: 32px;\n",
              "      padding: 0 0 0 0;\n",
              "      width: 32px;\n",
              "    }\n",
              "\n",
              "    .colab-df-convert:hover {\n",
              "      background-color: #E2EBFA;\n",
              "      box-shadow: 0px 1px 2px rgba(60, 64, 67, 0.3), 0px 1px 3px 1px rgba(60, 64, 67, 0.15);\n",
              "      fill: #174EA6;\n",
              "    }\n",
              "\n",
              "    [theme=dark] .colab-df-convert {\n",
              "      background-color: #3B4455;\n",
              "      fill: #D2E3FC;\n",
              "    }\n",
              "\n",
              "    [theme=dark] .colab-df-convert:hover {\n",
              "      background-color: #434B5C;\n",
              "      box-shadow: 0px 1px 3px 1px rgba(0, 0, 0, 0.15);\n",
              "      filter: drop-shadow(0px 1px 2px rgba(0, 0, 0, 0.3));\n",
              "      fill: #FFFFFF;\n",
              "    }\n",
              "  </style>\n",
              "\n",
              "      <script>\n",
              "        const buttonEl =\n",
              "          document.querySelector('#df-8e70b454-19b8-4d16-b87a-67604740ed15 button.colab-df-convert');\n",
              "        buttonEl.style.display =\n",
              "          google.colab.kernel.accessAllowed ? 'block' : 'none';\n",
              "\n",
              "        async function convertToInteractive(key) {\n",
              "          const element = document.querySelector('#df-8e70b454-19b8-4d16-b87a-67604740ed15');\n",
              "          const dataTable =\n",
              "            await google.colab.kernel.invokeFunction('convertToInteractive',\n",
              "                                                     [key], {});\n",
              "          if (!dataTable) return;\n",
              "\n",
              "          const docLinkHtml = 'Like what you see? Visit the ' +\n",
              "            '<a target=\"_blank\" href=https://colab.research.google.com/notebooks/data_table.ipynb>data table notebook</a>'\n",
              "            + ' to learn more about interactive tables.';\n",
              "          element.innerHTML = '';\n",
              "          dataTable['output_type'] = 'display_data';\n",
              "          await google.colab.output.renderOutput(dataTable, element);\n",
              "          const docLink = document.createElement('div');\n",
              "          docLink.innerHTML = docLinkHtml;\n",
              "          element.appendChild(docLink);\n",
              "        }\n",
              "      </script>\n",
              "    </div>\n",
              "  </div>\n",
              "  "
            ]
          },
          "metadata": {},
          "execution_count": 39
        }
      ],
      "source": [
        "dz_df.head()"
      ]
    },
    {
      "cell_type": "code",
      "execution_count": 50,
      "id": "47796220",
      "metadata": {
        "id": "47796220"
      },
      "outputs": [],
      "source": [
        "# Обучающая и тестовая выборки\n",
        "boundary = 200\n",
        "X_train = corpus[:boundary] \n",
        "X_test = corpus[boundary:]\n",
        "y_train = dz_df.sentiment.values[:boundary]\n",
        "y_test = dz_df.sentiment.values[boundary:]"
      ]
    },
    {
      "cell_type": "code",
      "execution_count": 51,
      "id": "1c3251d8",
      "metadata": {
        "colab": {
          "base_uri": "https://localhost:8080/"
        },
        "id": "1c3251d8",
        "outputId": "46051c97-22dd-48ec-fb84-7fd845864cb2"
      },
      "outputs": [
        {
          "output_type": "stream",
          "name": "stdout",
          "text": [
            "Метка \t Accuracy\n",
            "Irrelevant \t 0.0\n",
            "Negative \t 0.33962264150943394\n",
            "Neutral \t 0.8755555555555555\n",
            "Positive \t 0.0\n",
            "CPU times: user 94.3 ms, sys: 11.7 ms, total: 106 ms\n",
            "Wall time: 103 ms\n"
          ]
        }
      ],
      "source": [
        "%%time\n",
        "sentiment(EmbeddingVectorizer(model_dz.wv), LogisticRegression(C=5.0))"
      ]
    },
    {
      "cell_type": "markdown",
      "id": "08cf189a",
      "metadata": {
        "id": "08cf189a"
      },
      "source": [
        "Результаты, полученные с помощью word2vec тоже не очень хоршие, скорее всего здесь нестандартность лексики ещё больше влияет на работу уже предобученной на более-менее формальных корпусах модели. Короткие неформальные сообщения скорее всего требуют немного других подходов.  "
      ]
    },
    {
      "cell_type": "code",
      "execution_count": null,
      "id": "61c23a2e",
      "metadata": {
        "id": "61c23a2e"
      },
      "outputs": [],
      "source": [
        ""
      ]
    }
  ],
  "metadata": {
    "kernelspec": {
      "display_name": "Python 3 (ipykernel)",
      "language": "python",
      "name": "python3"
    },
    "language_info": {
      "codemirror_mode": {
        "name": "ipython",
        "version": 3
      },
      "file_extension": ".py",
      "mimetype": "text/x-python",
      "name": "python",
      "nbconvert_exporter": "python",
      "pygments_lexer": "ipython3",
      "version": "3.9.10"
    },
    "colab": {
      "name": "Lab 5.ipynb",
      "provenance": [],
      "include_colab_link": true
    }
  },
  "nbformat": 4,
  "nbformat_minor": 5
}