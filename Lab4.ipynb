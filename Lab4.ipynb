{
  "cells": [
    {
      "cell_type": "markdown",
      "metadata": {
        "id": "view-in-github",
        "colab_type": "text"
      },
      "source": [
        "<a href=\"https://colab.research.google.com/github/nikbizkit/MMO/blob/main/Lab4.ipynb\" target=\"_parent\"><img src=\"https://colab.research.google.com/assets/colab-badge.svg\" alt=\"Open In Colab\"/></a>"
      ]
    },
    {
      "cell_type": "code",
      "execution_count": 1,
      "id": "ea66e6e9",
      "metadata": {
        "id": "ea66e6e9"
      },
      "outputs": [],
      "source": [
        "import pandas as pd\n",
        "from sklearn.feature_extraction.text import CountVectorizer, TfidfVectorizer\n",
        "from sklearn.metrics.pairwise import cosine_similarity, euclidean_distances, manhattan_distances"
      ]
    },
    {
      "cell_type": "markdown",
      "id": "7949f94a",
      "metadata": {
        "id": "7949f94a"
      },
      "source": [
        "Загрузим датасет:"
      ]
    },
    {
      "cell_type": "code",
      "execution_count": 6,
      "id": "e5a27114",
      "metadata": {
        "colab": {
          "base_uri": "https://localhost:8080/",
          "height": 302
        },
        "id": "e5a27114",
        "outputId": "7afa212a-7b0f-4670-fdf6-dcb7a2796c90"
      },
      "outputs": [
        {
          "output_type": "execute_result",
          "data": {
            "text/plain": [
              "    brand           laptop_name  display_size        processor_type  \\\n",
              "0      HP  Notebook 14-df0008nx          14.0   Intel Celeron N4000   \n",
              "1  Lenovo    IdeaPad 330S-14IKB          14.0   Intel Core i5-8250U   \n",
              "2  Huawei      MateBook D Volta          14.0   Intel Core i5-8250U   \n",
              "3    Dell      Inspiron 15 3567          15.6   Intel Core i3-7020U   \n",
              "4    Asus    VivoBook 15 X510UR          15.6   Intel Core i7-8550U   \n",
              "\n",
              "                  graphics_card     disk_space  discount_price  old_price  \\\n",
              "0         Intel HD Graphics 600   64 GB (eMMC)          1259.0     1259.0   \n",
              "1        Intel UHD Graphics 620       1 TB HDD          1849.0     2099.0   \n",
              "2   NVIDIA GeForce MX150 (2 GB)     256 GB SSD          2999.0     3799.0   \n",
              "3         Intel HD Graphics 620       1 TB HDD          1849.0     1849.0   \n",
              "4   NVIDIA GeForce 930MX (2 GB)       1 TB HDD          2499.0     3149.0   \n",
              "\n",
              "  ratings_5max  \n",
              "0        0 / 5  \n",
              "1      3.3 / 5  \n",
              "2        0 / 5  \n",
              "3        0 / 5  \n",
              "4        0 / 5  "
            ],
            "text/html": [
              "\n",
              "  <div id=\"df-f3ded842-a625-4119-a87e-e1f2a3c1c867\">\n",
              "    <div class=\"colab-df-container\">\n",
              "      <div>\n",
              "<style scoped>\n",
              "    .dataframe tbody tr th:only-of-type {\n",
              "        vertical-align: middle;\n",
              "    }\n",
              "\n",
              "    .dataframe tbody tr th {\n",
              "        vertical-align: top;\n",
              "    }\n",
              "\n",
              "    .dataframe thead th {\n",
              "        text-align: right;\n",
              "    }\n",
              "</style>\n",
              "<table border=\"1\" class=\"dataframe\">\n",
              "  <thead>\n",
              "    <tr style=\"text-align: right;\">\n",
              "      <th></th>\n",
              "      <th>brand</th>\n",
              "      <th>laptop_name</th>\n",
              "      <th>display_size</th>\n",
              "      <th>processor_type</th>\n",
              "      <th>graphics_card</th>\n",
              "      <th>disk_space</th>\n",
              "      <th>discount_price</th>\n",
              "      <th>old_price</th>\n",
              "      <th>ratings_5max</th>\n",
              "    </tr>\n",
              "  </thead>\n",
              "  <tbody>\n",
              "    <tr>\n",
              "      <th>0</th>\n",
              "      <td>HP</td>\n",
              "      <td>Notebook 14-df0008nx</td>\n",
              "      <td>14.0</td>\n",
              "      <td>Intel Celeron N4000</td>\n",
              "      <td>Intel HD Graphics 600</td>\n",
              "      <td>64 GB (eMMC)</td>\n",
              "      <td>1259.0</td>\n",
              "      <td>1259.0</td>\n",
              "      <td>0 / 5</td>\n",
              "    </tr>\n",
              "    <tr>\n",
              "      <th>1</th>\n",
              "      <td>Lenovo</td>\n",
              "      <td>IdeaPad 330S-14IKB</td>\n",
              "      <td>14.0</td>\n",
              "      <td>Intel Core i5-8250U</td>\n",
              "      <td>Intel UHD Graphics 620</td>\n",
              "      <td>1 TB HDD</td>\n",
              "      <td>1849.0</td>\n",
              "      <td>2099.0</td>\n",
              "      <td>3.3 / 5</td>\n",
              "    </tr>\n",
              "    <tr>\n",
              "      <th>2</th>\n",
              "      <td>Huawei</td>\n",
              "      <td>MateBook D Volta</td>\n",
              "      <td>14.0</td>\n",
              "      <td>Intel Core i5-8250U</td>\n",
              "      <td>NVIDIA GeForce MX150 (2 GB)</td>\n",
              "      <td>256 GB SSD</td>\n",
              "      <td>2999.0</td>\n",
              "      <td>3799.0</td>\n",
              "      <td>0 / 5</td>\n",
              "    </tr>\n",
              "    <tr>\n",
              "      <th>3</th>\n",
              "      <td>Dell</td>\n",
              "      <td>Inspiron 15 3567</td>\n",
              "      <td>15.6</td>\n",
              "      <td>Intel Core i3-7020U</td>\n",
              "      <td>Intel HD Graphics 620</td>\n",
              "      <td>1 TB HDD</td>\n",
              "      <td>1849.0</td>\n",
              "      <td>1849.0</td>\n",
              "      <td>0 / 5</td>\n",
              "    </tr>\n",
              "    <tr>\n",
              "      <th>4</th>\n",
              "      <td>Asus</td>\n",
              "      <td>VivoBook 15 X510UR</td>\n",
              "      <td>15.6</td>\n",
              "      <td>Intel Core i7-8550U</td>\n",
              "      <td>NVIDIA GeForce 930MX (2 GB)</td>\n",
              "      <td>1 TB HDD</td>\n",
              "      <td>2499.0</td>\n",
              "      <td>3149.0</td>\n",
              "      <td>0 / 5</td>\n",
              "    </tr>\n",
              "  </tbody>\n",
              "</table>\n",
              "</div>\n",
              "      <button class=\"colab-df-convert\" onclick=\"convertToInteractive('df-f3ded842-a625-4119-a87e-e1f2a3c1c867')\"\n",
              "              title=\"Convert this dataframe to an interactive table.\"\n",
              "              style=\"display:none;\">\n",
              "        \n",
              "  <svg xmlns=\"http://www.w3.org/2000/svg\" height=\"24px\"viewBox=\"0 0 24 24\"\n",
              "       width=\"24px\">\n",
              "    <path d=\"M0 0h24v24H0V0z\" fill=\"none\"/>\n",
              "    <path d=\"M18.56 5.44l.94 2.06.94-2.06 2.06-.94-2.06-.94-.94-2.06-.94 2.06-2.06.94zm-11 1L8.5 8.5l.94-2.06 2.06-.94-2.06-.94L8.5 2.5l-.94 2.06-2.06.94zm10 10l.94 2.06.94-2.06 2.06-.94-2.06-.94-.94-2.06-.94 2.06-2.06.94z\"/><path d=\"M17.41 7.96l-1.37-1.37c-.4-.4-.92-.59-1.43-.59-.52 0-1.04.2-1.43.59L10.3 9.45l-7.72 7.72c-.78.78-.78 2.05 0 2.83L4 21.41c.39.39.9.59 1.41.59.51 0 1.02-.2 1.41-.59l7.78-7.78 2.81-2.81c.8-.78.8-2.07 0-2.86zM5.41 20L4 18.59l7.72-7.72 1.47 1.35L5.41 20z\"/>\n",
              "  </svg>\n",
              "      </button>\n",
              "      \n",
              "  <style>\n",
              "    .colab-df-container {\n",
              "      display:flex;\n",
              "      flex-wrap:wrap;\n",
              "      gap: 12px;\n",
              "    }\n",
              "\n",
              "    .colab-df-convert {\n",
              "      background-color: #E8F0FE;\n",
              "      border: none;\n",
              "      border-radius: 50%;\n",
              "      cursor: pointer;\n",
              "      display: none;\n",
              "      fill: #1967D2;\n",
              "      height: 32px;\n",
              "      padding: 0 0 0 0;\n",
              "      width: 32px;\n",
              "    }\n",
              "\n",
              "    .colab-df-convert:hover {\n",
              "      background-color: #E2EBFA;\n",
              "      box-shadow: 0px 1px 2px rgba(60, 64, 67, 0.3), 0px 1px 3px 1px rgba(60, 64, 67, 0.15);\n",
              "      fill: #174EA6;\n",
              "    }\n",
              "\n",
              "    [theme=dark] .colab-df-convert {\n",
              "      background-color: #3B4455;\n",
              "      fill: #D2E3FC;\n",
              "    }\n",
              "\n",
              "    [theme=dark] .colab-df-convert:hover {\n",
              "      background-color: #434B5C;\n",
              "      box-shadow: 0px 1px 3px 1px rgba(0, 0, 0, 0.15);\n",
              "      filter: drop-shadow(0px 1px 2px rgba(0, 0, 0, 0.3));\n",
              "      fill: #FFFFFF;\n",
              "    }\n",
              "  </style>\n",
              "\n",
              "      <script>\n",
              "        const buttonEl =\n",
              "          document.querySelector('#df-f3ded842-a625-4119-a87e-e1f2a3c1c867 button.colab-df-convert');\n",
              "        buttonEl.style.display =\n",
              "          google.colab.kernel.accessAllowed ? 'block' : 'none';\n",
              "\n",
              "        async function convertToInteractive(key) {\n",
              "          const element = document.querySelector('#df-f3ded842-a625-4119-a87e-e1f2a3c1c867');\n",
              "          const dataTable =\n",
              "            await google.colab.kernel.invokeFunction('convertToInteractive',\n",
              "                                                     [key], {});\n",
              "          if (!dataTable) return;\n",
              "\n",
              "          const docLinkHtml = 'Like what you see? Visit the ' +\n",
              "            '<a target=\"_blank\" href=https://colab.research.google.com/notebooks/data_table.ipynb>data table notebook</a>'\n",
              "            + ' to learn more about interactive tables.';\n",
              "          element.innerHTML = '';\n",
              "          dataTable['output_type'] = 'display_data';\n",
              "          await google.colab.output.renderOutput(dataTable, element);\n",
              "          const docLink = document.createElement('div');\n",
              "          docLink.innerHTML = docLinkHtml;\n",
              "          element.appendChild(docLink);\n",
              "        }\n",
              "      </script>\n",
              "    </div>\n",
              "  </div>\n",
              "  "
            ]
          },
          "metadata": {},
          "execution_count": 6
        }
      ],
      "source": [
        "df_perf_all = pd.read_csv('laptop_data.csv', sep=\",\")\n",
        "df_perf_all.head()\n"
      ]
    },
    {
      "cell_type": "code",
      "execution_count": 7,
      "id": "639a8f37",
      "metadata": {
        "colab": {
          "base_uri": "https://localhost:8080/"
        },
        "id": "639a8f37",
        "outputId": "9d4740bf-7fc8-4891-87bb-c528a3d6f515"
      },
      "outputs": [
        {
          "output_type": "execute_result",
          "data": {
            "text/plain": [
              "(205, 9)"
            ]
          },
          "metadata": {},
          "execution_count": 7
        }
      ],
      "source": [
        "df_perf_all.shape"
      ]
    },
    {
      "cell_type": "markdown",
      "id": "e22c70bb",
      "metadata": {
        "id": "e22c70bb"
      },
      "source": [
        "Убедимся, что в нашем рабочем датафрейме не будет записей с отсутсвующей видеокартой: "
      ]
    },
    {
      "cell_type": "code",
      "execution_count": 12,
      "id": "5bc12b22",
      "metadata": {
        "id": "5bc12b22"
      },
      "outputs": [],
      "source": [
        "df_perf_with_graphics_card = df_perf_all[df_perf_all['graphics_card'].notnull()]\n",
        "df_perf_with_graphics_card = df_perf_with_graphics_card[~df_perf_with_graphics_card['graphics_card'].str.isspace()]"
      ]
    },
    {
      "cell_type": "code",
      "execution_count": 13,
      "id": "053188f4",
      "metadata": {
        "colab": {
          "base_uri": "https://localhost:8080/"
        },
        "id": "053188f4",
        "outputId": "c0369664-4ff5-4164-be8e-f469f3663774"
      },
      "outputs": [
        {
          "output_type": "execute_result",
          "data": {
            "text/plain": [
              "array(['HP', 'Lenovo', 'Huawei', 'Dell', 'Asus', 'Dell'], dtype=object)"
            ]
          },
          "metadata": {},
          "execution_count": 13
        }
      ],
      "source": [
        "brand = df_perf_with_graphics_card['brand'].values\n",
        "brand[0:6]"
      ]
    },
    {
      "cell_type": "code",
      "execution_count": 15,
      "id": "a9840d60",
      "metadata": {
        "colab": {
          "base_uri": "https://localhost:8080/"
        },
        "id": "a9840d60",
        "outputId": "32bc7b0c-5999-4572-baba-213044bc6fb8"
      },
      "outputs": [
        {
          "output_type": "execute_result",
          "data": {
            "text/plain": [
              "array([' Intel Celeron N4000', ' Intel Core i5-8250U',\n",
              "       ' Intel Core i5-8250U', ' Intel Core i3-7020U',\n",
              "       ' Intel Core i7-8550U'], dtype=object)"
            ]
          },
          "metadata": {},
          "execution_count": 15
        }
      ],
      "source": [
        "processor_type= df_perf_with_graphics_card['processor_type'].values\n",
        "processor_type[0:5]"
      ]
    },
    {
      "cell_type": "code",
      "execution_count": 16,
      "id": "cfbfe830",
      "metadata": {
        "colab": {
          "base_uri": "https://localhost:8080/"
        },
        "id": "cfbfe830",
        "outputId": "c9522c48-98f5-4110-fbc4-0a05f684b2c8"
      },
      "outputs": [
        {
          "output_type": "execute_result",
          "data": {
            "text/plain": [
              "array([' Intel HD Graphics 600', ' Intel UHD Graphics 620',\n",
              "       ' NVIDIA GeForce MX150 (2 GB)'], dtype=object)"
            ]
          },
          "metadata": {},
          "execution_count": 16
        }
      ],
      "source": [
        "graphics_card = df_perf_with_graphics_card['graphics_card'].values\n",
        "graphics_card[0:3]"
      ]
    },
    {
      "cell_type": "markdown",
      "id": "fa8c84dc",
      "metadata": {
        "id": "fa8c84dc"
      },
      "source": [
        "Векторизуем видеокарту с помощью Tf-Idf Vectorizer"
      ]
    },
    {
      "cell_type": "code",
      "execution_count": 17,
      "id": "93c4e00a",
      "metadata": {
        "colab": {
          "base_uri": "https://localhost:8080/"
        },
        "id": "93c4e00a",
        "outputId": "4fed6837-4d9e-44cc-c04d-43b95bbab180"
      },
      "outputs": [
        {
          "output_type": "execute_result",
          "data": {
            "text/plain": [
              "<205x57 sparse matrix of type '<class 'numpy.float64'>'\n",
              "\twith 837 stored elements in Compressed Sparse Row format>"
            ]
          },
          "metadata": {},
          "execution_count": 17
        }
      ],
      "source": [
        "tfidfv = TfidfVectorizer()\n",
        "descr_matrix = tfidfv.fit_transform(graphics_card)\n",
        "descr_matrix"
      ]
    },
    {
      "cell_type": "markdown",
      "id": "731375b1",
      "metadata": {
        "id": "731375b1"
      },
      "source": [
        "И с помощью CountVectorizer:"
      ]
    },
    {
      "cell_type": "code",
      "execution_count": 18,
      "id": "b29ec11e",
      "metadata": {
        "colab": {
          "base_uri": "https://localhost:8080/"
        },
        "id": "b29ec11e",
        "outputId": "960ad63b-841f-48d5-a25c-7adeefe5aefc"
      },
      "outputs": [
        {
          "output_type": "execute_result",
          "data": {
            "text/plain": [
              "<205x57 sparse matrix of type '<class 'numpy.int64'>'\n",
              "\twith 837 stored elements in Compressed Sparse Row format>"
            ]
          },
          "metadata": {},
          "execution_count": 18
        }
      ],
      "source": [
        "countv = CountVectorizer()\n",
        "graphics_card_matrix_co = countv.fit_transform(graphics_card)\n",
        "graphics_card_matrix_co"
      ]
    },
    {
      "cell_type": "code",
      "execution_count": 19,
      "id": "a847c044",
      "metadata": {
        "id": "a847c044"
      },
      "outputs": [],
      "source": [
        "class SimpleKNNRecommender:\n",
        "    \n",
        "    def __init__(self, X_matrix, X_names, X_notes, X_descr):\n",
        "        \"\"\"\n",
        "        Входные параметры:\n",
        "        X_matrix - обучающая выборка (матрица объект-признак)\n",
        "        X_ids - массив идентификаторов объектов\n",
        "        X_title - массив названий объектов\n",
        "        X_overview - массив описаний объектов\n",
        "        \"\"\"\n",
        "        #Сохраняем параметры в переменных объекта\n",
        "        self._X_matrix = X_matrix\n",
        "        self.df = pd.DataFrame(\n",
        "            {'brand': pd.Series(X_names, dtype='str'),\n",
        "            'processor_type': pd.Series(X_notes, dtype='str'),\n",
        "            'graphics_card': pd.Series(X_descr, dtype='str'),\n",
        "            'Dist': pd.Series([], dtype='float')})\n",
        "            \n",
        "            \n",
        "    def recommend_for_single_object(self, K: int, \\\n",
        "                X_matrix_object, cos_flag = True, manh_flag = False):\n",
        "        \"\"\"\n",
        "        Метод формирования рекомендаций для одного объекта.\n",
        "        Входные параметры:\n",
        "        K - количество рекомендуемых соседей \n",
        "        X_matrix_object - строка матрицы объект-признак, соответствующая объекту\n",
        "        cos_flag - флаг вычисления косинусного расстояния\n",
        "        manh_flag - флаг вычисления манхэттэнского расстояния\n",
        "        Возвращаемое значение: K найденных соседей\n",
        "        \"\"\"\n",
        "        \n",
        "        scale = 1000000\n",
        "        # Вычисляем косинусную близость\n",
        "        if cos_flag:\n",
        "            dist = cosine_similarity(self._X_matrix, X_matrix_object)\n",
        "            self.df['Dist'] = dist * scale\n",
        "            res = self.df.sort_values(by='Dist', ascending=False)\n",
        "            # Не учитываем рекомендации с единичным расстоянием,\n",
        "            # так как это искомый объект\n",
        "            res = res[res['Dist'] < scale]\n",
        "        \n",
        "        else:\n",
        "            if manh_flag:\n",
        "                dist = manhattan_distances(self._X_matrix, X_matrix_object)\n",
        "            else:\n",
        "                dist = euclidean_distances(self._X_matrix, X_matrix_object)\n",
        "            self.df['Dist'] = dist * scale\n",
        "            res = self.df.sort_values(by='Dist', ascending=True)\n",
        "            # Не учитываем рекомендации с единичным расстоянием,\n",
        "            # так как это искомый объект\n",
        "            res = res[res['Dist'] > 0.0]            \n",
        "        \n",
        "        # Оставляем К первых рекомендаций\n",
        "        res = res.head(K)\n",
        "        return res"
      ]
    },
    {
      "cell_type": "markdown",
      "id": "cbb70a35",
      "metadata": {
        "id": "cbb70a35"
      },
      "source": [
        "Выберем тестовый образец, на основе которого мы будем давать рекомендации:"
      ]
    },
    {
      "cell_type": "code",
      "execution_count": 23,
      "id": "3ea901bc",
      "metadata": {
        "colab": {
          "base_uri": "https://localhost:8080/",
          "height": 35
        },
        "id": "3ea901bc",
        "outputId": "f319a691-a32a-47cd-82e2-eadb4a62d203"
      },
      "outputs": [
        {
          "output_type": "execute_result",
          "data": {
            "text/plain": [
              "'Huawei'"
            ],
            "application/vnd.google.colaboratory.intrinsic+json": {
              "type": "string"
            }
          },
          "metadata": {},
          "execution_count": 23
        }
      ],
      "source": [
        "test_name = 7\n",
        "brand[test_name]"
      ]
    },
    {
      "cell_type": "markdown",
      "id": "674347a9",
      "metadata": {
        "id": "674347a9"
      },
      "source": [
        "Зададим его матрицу: "
      ]
    },
    {
      "cell_type": "code",
      "execution_count": 24,
      "id": "c1688ec3",
      "metadata": {
        "colab": {
          "base_uri": "https://localhost:8080/"
        },
        "id": "c1688ec3",
        "outputId": "79ef7dc9-2ae7-445b-d708-8a4d64a7cdd8"
      },
      "outputs": [
        {
          "output_type": "execute_result",
          "data": {
            "text/plain": [
              "<1x57 sparse matrix of type '<class 'numpy.float64'>'\n",
              "\twith 4 stored elements in Compressed Sparse Row format>"
            ]
          },
          "metadata": {},
          "execution_count": 24
        }
      ],
      "source": [
        "test_matrix = descr_matrix[test_name]\n",
        "test_matrix"
      ]
    },
    {
      "cell_type": "code",
      "execution_count": 25,
      "id": "1451af04",
      "metadata": {
        "id": "1451af04"
      },
      "outputs": [],
      "source": [
        "skr1 = SimpleKNNRecommender(descr_matrix, brand, processor_type, graphics_card)"
      ]
    },
    {
      "cell_type": "code",
      "execution_count": 26,
      "id": "4c847d06",
      "metadata": {
        "colab": {
          "base_uri": "https://localhost:8080/"
        },
        "id": "4c847d06",
        "outputId": "99aa6cb3-5e92-4ef5-84bb-b764296d062d"
      },
      "outputs": [
        {
          "output_type": "execute_result",
          "data": {
            "text/plain": [
              "brand                                   Huawei\n",
              "laptop_name                         MateBook D\n",
              "display_size                              15.6\n",
              "processor_type             Intel Core i5-8250U\n",
              "graphics_card      NVIDIA GeForce MX150 (2 GB)\n",
              "disk_space                 128 GB SSD/1 TB HDD\n",
              "discount_price                          2449.0\n",
              "old_price                               2799.0\n",
              "ratings_5max                           4.4 / 5\n",
              "Name: 7, dtype: object"
            ]
          },
          "metadata": {},
          "execution_count": 26
        }
      ],
      "source": [
        "test = df_perf_with_graphics_card.iloc[test_name]\n",
        "test"
      ]
    },
    {
      "cell_type": "markdown",
      "id": "88bc21d5",
      "metadata": {
        "id": "88bc21d5"
      },
      "source": [
        "Делаем рекомендацию на основании видеокарты векторизованного Tf-Idf и косинусного  расстояния:"
      ]
    },
    {
      "cell_type": "code",
      "execution_count": 27,
      "id": "deed3ac7",
      "metadata": {
        "colab": {
          "base_uri": "https://localhost:8080/",
          "height": 520
        },
        "id": "deed3ac7",
        "outputId": "9c4c22b5-2060-4046-fbf8-ef79eaee2680"
      },
      "outputs": [
        {
          "output_type": "execute_result",
          "data": {
            "text/plain": [
              "    brand        processor_type                 graphics_card           Dist\n",
              "148  Asus   Intel Core i7-8550U   NVIDIA GeForce MX130 (2 GB)  521728.255476\n",
              "151    HP   Intel Core i5-8250U   NVIDIA GeForce MX130 (2 GB)  521728.255476\n",
              "48     HP   Intel Core i7-8565U   NVIDIA GeForce MX130 (4 GB)  521728.255476\n",
              "49     HP   Intel Core i7-8565U   NVIDIA GeForce MX130 (4 GB)  521728.255476\n",
              "51   Asus   Intel Core i7-8550U   NVIDIA GeForce MX130 (2 GB)  521728.255476\n",
              "87   Dell   Intel Core i7-8565U   NVIDIA GeForce MX130 (4 GB)  521728.255476\n",
              "53   Acer   Intel Core i7-8565U   NVIDIA GeForce MX130 (2 GB)  521728.255476\n",
              "150    HP   Intel Core i5-8250U   NVIDIA GeForce MX130 (2 GB)  521728.255476\n",
              "58     HP   Intel Core i5-8265U   NVIDIA GeForce MX130 (2 GB)  521728.255476\n",
              "183  Acer   Intel Core i7-8550U   NVIDIA GeForce MX130 (2 GB)  521728.255476\n",
              "149  Asus   Intel Core i5-8250U   NVIDIA GeForce MX130 (2 GB)  521728.255476\n",
              "95     HP   Intel Core i5-8265U   NVIDIA GeForce MX130 (2 GB)  521728.255476\n",
              "72   Acer   Intel Core i5-8250U   NVIDIA GeForce MX130 (2 GB)  521728.255476\n",
              "125  Dell   Intel Core i5-8265U   NVIDIA GeForce MX130 (2 GB)  521728.255476\n",
              "126  Dell   Intel Core i7-8565U   NVIDIA GeForce MX130 (2 GB)  521728.255476"
            ],
            "text/html": [
              "\n",
              "  <div id=\"df-c2a07a44-9559-4a9d-b579-e209a7d4d5a5\">\n",
              "    <div class=\"colab-df-container\">\n",
              "      <div>\n",
              "<style scoped>\n",
              "    .dataframe tbody tr th:only-of-type {\n",
              "        vertical-align: middle;\n",
              "    }\n",
              "\n",
              "    .dataframe tbody tr th {\n",
              "        vertical-align: top;\n",
              "    }\n",
              "\n",
              "    .dataframe thead th {\n",
              "        text-align: right;\n",
              "    }\n",
              "</style>\n",
              "<table border=\"1\" class=\"dataframe\">\n",
              "  <thead>\n",
              "    <tr style=\"text-align: right;\">\n",
              "      <th></th>\n",
              "      <th>brand</th>\n",
              "      <th>processor_type</th>\n",
              "      <th>graphics_card</th>\n",
              "      <th>Dist</th>\n",
              "    </tr>\n",
              "  </thead>\n",
              "  <tbody>\n",
              "    <tr>\n",
              "      <th>148</th>\n",
              "      <td>Asus</td>\n",
              "      <td>Intel Core i7-8550U</td>\n",
              "      <td>NVIDIA GeForce MX130 (2 GB)</td>\n",
              "      <td>521728.255476</td>\n",
              "    </tr>\n",
              "    <tr>\n",
              "      <th>151</th>\n",
              "      <td>HP</td>\n",
              "      <td>Intel Core i5-8250U</td>\n",
              "      <td>NVIDIA GeForce MX130 (2 GB)</td>\n",
              "      <td>521728.255476</td>\n",
              "    </tr>\n",
              "    <tr>\n",
              "      <th>48</th>\n",
              "      <td>HP</td>\n",
              "      <td>Intel Core i7-8565U</td>\n",
              "      <td>NVIDIA GeForce MX130 (4 GB)</td>\n",
              "      <td>521728.255476</td>\n",
              "    </tr>\n",
              "    <tr>\n",
              "      <th>49</th>\n",
              "      <td>HP</td>\n",
              "      <td>Intel Core i7-8565U</td>\n",
              "      <td>NVIDIA GeForce MX130 (4 GB)</td>\n",
              "      <td>521728.255476</td>\n",
              "    </tr>\n",
              "    <tr>\n",
              "      <th>51</th>\n",
              "      <td>Asus</td>\n",
              "      <td>Intel Core i7-8550U</td>\n",
              "      <td>NVIDIA GeForce MX130 (2 GB)</td>\n",
              "      <td>521728.255476</td>\n",
              "    </tr>\n",
              "    <tr>\n",
              "      <th>87</th>\n",
              "      <td>Dell</td>\n",
              "      <td>Intel Core i7-8565U</td>\n",
              "      <td>NVIDIA GeForce MX130 (4 GB)</td>\n",
              "      <td>521728.255476</td>\n",
              "    </tr>\n",
              "    <tr>\n",
              "      <th>53</th>\n",
              "      <td>Acer</td>\n",
              "      <td>Intel Core i7-8565U</td>\n",
              "      <td>NVIDIA GeForce MX130 (2 GB)</td>\n",
              "      <td>521728.255476</td>\n",
              "    </tr>\n",
              "    <tr>\n",
              "      <th>150</th>\n",
              "      <td>HP</td>\n",
              "      <td>Intel Core i5-8250U</td>\n",
              "      <td>NVIDIA GeForce MX130 (2 GB)</td>\n",
              "      <td>521728.255476</td>\n",
              "    </tr>\n",
              "    <tr>\n",
              "      <th>58</th>\n",
              "      <td>HP</td>\n",
              "      <td>Intel Core i5-8265U</td>\n",
              "      <td>NVIDIA GeForce MX130 (2 GB)</td>\n",
              "      <td>521728.255476</td>\n",
              "    </tr>\n",
              "    <tr>\n",
              "      <th>183</th>\n",
              "      <td>Acer</td>\n",
              "      <td>Intel Core i7-8550U</td>\n",
              "      <td>NVIDIA GeForce MX130 (2 GB)</td>\n",
              "      <td>521728.255476</td>\n",
              "    </tr>\n",
              "    <tr>\n",
              "      <th>149</th>\n",
              "      <td>Asus</td>\n",
              "      <td>Intel Core i5-8250U</td>\n",
              "      <td>NVIDIA GeForce MX130 (2 GB)</td>\n",
              "      <td>521728.255476</td>\n",
              "    </tr>\n",
              "    <tr>\n",
              "      <th>95</th>\n",
              "      <td>HP</td>\n",
              "      <td>Intel Core i5-8265U</td>\n",
              "      <td>NVIDIA GeForce MX130 (2 GB)</td>\n",
              "      <td>521728.255476</td>\n",
              "    </tr>\n",
              "    <tr>\n",
              "      <th>72</th>\n",
              "      <td>Acer</td>\n",
              "      <td>Intel Core i5-8250U</td>\n",
              "      <td>NVIDIA GeForce MX130 (2 GB)</td>\n",
              "      <td>521728.255476</td>\n",
              "    </tr>\n",
              "    <tr>\n",
              "      <th>125</th>\n",
              "      <td>Dell</td>\n",
              "      <td>Intel Core i5-8265U</td>\n",
              "      <td>NVIDIA GeForce MX130 (2 GB)</td>\n",
              "      <td>521728.255476</td>\n",
              "    </tr>\n",
              "    <tr>\n",
              "      <th>126</th>\n",
              "      <td>Dell</td>\n",
              "      <td>Intel Core i7-8565U</td>\n",
              "      <td>NVIDIA GeForce MX130 (2 GB)</td>\n",
              "      <td>521728.255476</td>\n",
              "    </tr>\n",
              "  </tbody>\n",
              "</table>\n",
              "</div>\n",
              "      <button class=\"colab-df-convert\" onclick=\"convertToInteractive('df-c2a07a44-9559-4a9d-b579-e209a7d4d5a5')\"\n",
              "              title=\"Convert this dataframe to an interactive table.\"\n",
              "              style=\"display:none;\">\n",
              "        \n",
              "  <svg xmlns=\"http://www.w3.org/2000/svg\" height=\"24px\"viewBox=\"0 0 24 24\"\n",
              "       width=\"24px\">\n",
              "    <path d=\"M0 0h24v24H0V0z\" fill=\"none\"/>\n",
              "    <path d=\"M18.56 5.44l.94 2.06.94-2.06 2.06-.94-2.06-.94-.94-2.06-.94 2.06-2.06.94zm-11 1L8.5 8.5l.94-2.06 2.06-.94-2.06-.94L8.5 2.5l-.94 2.06-2.06.94zm10 10l.94 2.06.94-2.06 2.06-.94-2.06-.94-.94-2.06-.94 2.06-2.06.94z\"/><path d=\"M17.41 7.96l-1.37-1.37c-.4-.4-.92-.59-1.43-.59-.52 0-1.04.2-1.43.59L10.3 9.45l-7.72 7.72c-.78.78-.78 2.05 0 2.83L4 21.41c.39.39.9.59 1.41.59.51 0 1.02-.2 1.41-.59l7.78-7.78 2.81-2.81c.8-.78.8-2.07 0-2.86zM5.41 20L4 18.59l7.72-7.72 1.47 1.35L5.41 20z\"/>\n",
              "  </svg>\n",
              "      </button>\n",
              "      \n",
              "  <style>\n",
              "    .colab-df-container {\n",
              "      display:flex;\n",
              "      flex-wrap:wrap;\n",
              "      gap: 12px;\n",
              "    }\n",
              "\n",
              "    .colab-df-convert {\n",
              "      background-color: #E8F0FE;\n",
              "      border: none;\n",
              "      border-radius: 50%;\n",
              "      cursor: pointer;\n",
              "      display: none;\n",
              "      fill: #1967D2;\n",
              "      height: 32px;\n",
              "      padding: 0 0 0 0;\n",
              "      width: 32px;\n",
              "    }\n",
              "\n",
              "    .colab-df-convert:hover {\n",
              "      background-color: #E2EBFA;\n",
              "      box-shadow: 0px 1px 2px rgba(60, 64, 67, 0.3), 0px 1px 3px 1px rgba(60, 64, 67, 0.15);\n",
              "      fill: #174EA6;\n",
              "    }\n",
              "\n",
              "    [theme=dark] .colab-df-convert {\n",
              "      background-color: #3B4455;\n",
              "      fill: #D2E3FC;\n",
              "    }\n",
              "\n",
              "    [theme=dark] .colab-df-convert:hover {\n",
              "      background-color: #434B5C;\n",
              "      box-shadow: 0px 1px 3px 1px rgba(0, 0, 0, 0.15);\n",
              "      filter: drop-shadow(0px 1px 2px rgba(0, 0, 0, 0.3));\n",
              "      fill: #FFFFFF;\n",
              "    }\n",
              "  </style>\n",
              "\n",
              "      <script>\n",
              "        const buttonEl =\n",
              "          document.querySelector('#df-c2a07a44-9559-4a9d-b579-e209a7d4d5a5 button.colab-df-convert');\n",
              "        buttonEl.style.display =\n",
              "          google.colab.kernel.accessAllowed ? 'block' : 'none';\n",
              "\n",
              "        async function convertToInteractive(key) {\n",
              "          const element = document.querySelector('#df-c2a07a44-9559-4a9d-b579-e209a7d4d5a5');\n",
              "          const dataTable =\n",
              "            await google.colab.kernel.invokeFunction('convertToInteractive',\n",
              "                                                     [key], {});\n",
              "          if (!dataTable) return;\n",
              "\n",
              "          const docLinkHtml = 'Like what you see? Visit the ' +\n",
              "            '<a target=\"_blank\" href=https://colab.research.google.com/notebooks/data_table.ipynb>data table notebook</a>'\n",
              "            + ' to learn more about interactive tables.';\n",
              "          element.innerHTML = '';\n",
              "          dataTable['output_type'] = 'display_data';\n",
              "          await google.colab.output.renderOutput(dataTable, element);\n",
              "          const docLink = document.createElement('div');\n",
              "          docLink.innerHTML = docLinkHtml;\n",
              "          element.appendChild(docLink);\n",
              "        }\n",
              "      </script>\n",
              "    </div>\n",
              "  </div>\n",
              "  "
            ]
          },
          "metadata": {},
          "execution_count": 27
        }
      ],
      "source": [
        "rec1 = skr1.recommend_for_single_object(15, test_matrix)\n",
        "rec1"
      ]
    },
    {
      "cell_type": "code",
      "execution_count": 37,
      "id": "dbfbdcbc",
      "metadata": {
        "colab": {
          "base_uri": "https://localhost:8080/"
        },
        "id": "dbfbdcbc",
        "outputId": "cc0bd464-97c8-4a9e-adee-08553cad0363"
      },
      "outputs": [
        {
          "output_type": "execute_result",
          "data": {
            "text/plain": [
              "<1x57 sparse matrix of type '<class 'numpy.int64'>'\n",
              "\twith 4 stored elements in Compressed Sparse Row format>"
            ]
          },
          "metadata": {},
          "execution_count": 37
        }
      ],
      "source": [
        "test_matrix_co = graphics_card_matrix_co[test_name]\n",
        "test_matrix_co"
      ]
    },
    {
      "cell_type": "code",
      "execution_count": 38,
      "id": "e15234a2",
      "metadata": {
        "id": "e15234a2"
      },
      "outputs": [],
      "source": [
        "skr2 = SimpleKNNRecommender(graphics_card_matrix_co, brand, processor_type, graphics_card)"
      ]
    },
    {
      "cell_type": "markdown",
      "id": "1211d046",
      "metadata": {
        "id": "1211d046"
      },
      "source": [
        "Делаем рекомендации по видеокартам векторизованным CountVectorizer и на основе Евклидова расстояния:"
      ]
    },
    {
      "cell_type": "code",
      "execution_count": 39,
      "id": "8ac989cf",
      "metadata": {
        "colab": {
          "base_uri": "https://localhost:8080/",
          "height": 520
        },
        "id": "8ac989cf",
        "outputId": "7863b659-7c8a-4d75-d475-adddfe879f2b"
      },
      "outputs": [
        {
          "output_type": "execute_result",
          "data": {
            "text/plain": [
              "         brand        processor_type            graphics_card          Dist\n",
              "85        Dell   Intel Celeron N4000   Intel UHD Graphics 600  1.414214e+06\n",
              "73      Lenovo   Intel Celeron N4000   Intel UHD Graphics 600  1.414214e+06\n",
              "69        Dell   Intel Core i3-7020U    Intel HD Graphics 620  1.414214e+06\n",
              "109  Microsoft   Intel Core i5-7200U    Intel HD Graphics 620  1.414214e+06\n",
              "108       Acer   Intel Celeron N3350    Intel HD Graphics 505  1.414214e+06\n",
              "42       Apple         Intel Core M3    Intel HD Graphics 615  1.414214e+06\n",
              "129         HP   Intel Celeron N4000   Intel UHD Graphics 600  1.414214e+06\n",
              "142         HP   Intel Core i7-7500U    Intel HD Graphics 620  1.414214e+06\n",
              "106         HP   Intel Celeron N3060    Intel HD Graphics 400  1.414214e+06\n",
              "146      Apple         Intel Core M3    Intel HD Graphics 615  1.414214e+06\n",
              "89        Acer   Intel Core i3-7020U    Intel HD Graphics 620  1.414214e+06\n",
              "198         HP   Intel Core i7-8550U    Intel HD Graphics 620  1.414214e+06\n",
              "159       Asus   Intel Core i5-8250U    Intel HD Graphics 620  1.414214e+06\n",
              "160     Lenovo   Intel Core i3-8130U    Intel HD Graphics 620  1.414214e+06\n",
              "74      Lenovo   Intel Celeron N4000   Intel UHD Graphics 600  1.414214e+06"
            ],
            "text/html": [
              "\n",
              "  <div id=\"df-a9339f0e-0a05-43c5-851e-883a3ab51863\">\n",
              "    <div class=\"colab-df-container\">\n",
              "      <div>\n",
              "<style scoped>\n",
              "    .dataframe tbody tr th:only-of-type {\n",
              "        vertical-align: middle;\n",
              "    }\n",
              "\n",
              "    .dataframe tbody tr th {\n",
              "        vertical-align: top;\n",
              "    }\n",
              "\n",
              "    .dataframe thead th {\n",
              "        text-align: right;\n",
              "    }\n",
              "</style>\n",
              "<table border=\"1\" class=\"dataframe\">\n",
              "  <thead>\n",
              "    <tr style=\"text-align: right;\">\n",
              "      <th></th>\n",
              "      <th>brand</th>\n",
              "      <th>processor_type</th>\n",
              "      <th>graphics_card</th>\n",
              "      <th>Dist</th>\n",
              "    </tr>\n",
              "  </thead>\n",
              "  <tbody>\n",
              "    <tr>\n",
              "      <th>85</th>\n",
              "      <td>Dell</td>\n",
              "      <td>Intel Celeron N4000</td>\n",
              "      <td>Intel UHD Graphics 600</td>\n",
              "      <td>1.414214e+06</td>\n",
              "    </tr>\n",
              "    <tr>\n",
              "      <th>73</th>\n",
              "      <td>Lenovo</td>\n",
              "      <td>Intel Celeron N4000</td>\n",
              "      <td>Intel UHD Graphics 600</td>\n",
              "      <td>1.414214e+06</td>\n",
              "    </tr>\n",
              "    <tr>\n",
              "      <th>69</th>\n",
              "      <td>Dell</td>\n",
              "      <td>Intel Core i3-7020U</td>\n",
              "      <td>Intel HD Graphics 620</td>\n",
              "      <td>1.414214e+06</td>\n",
              "    </tr>\n",
              "    <tr>\n",
              "      <th>109</th>\n",
              "      <td>Microsoft</td>\n",
              "      <td>Intel Core i5-7200U</td>\n",
              "      <td>Intel HD Graphics 620</td>\n",
              "      <td>1.414214e+06</td>\n",
              "    </tr>\n",
              "    <tr>\n",
              "      <th>108</th>\n",
              "      <td>Acer</td>\n",
              "      <td>Intel Celeron N3350</td>\n",
              "      <td>Intel HD Graphics 505</td>\n",
              "      <td>1.414214e+06</td>\n",
              "    </tr>\n",
              "    <tr>\n",
              "      <th>42</th>\n",
              "      <td>Apple</td>\n",
              "      <td>Intel Core M3</td>\n",
              "      <td>Intel HD Graphics 615</td>\n",
              "      <td>1.414214e+06</td>\n",
              "    </tr>\n",
              "    <tr>\n",
              "      <th>129</th>\n",
              "      <td>HP</td>\n",
              "      <td>Intel Celeron N4000</td>\n",
              "      <td>Intel UHD Graphics 600</td>\n",
              "      <td>1.414214e+06</td>\n",
              "    </tr>\n",
              "    <tr>\n",
              "      <th>142</th>\n",
              "      <td>HP</td>\n",
              "      <td>Intel Core i7-7500U</td>\n",
              "      <td>Intel HD Graphics 620</td>\n",
              "      <td>1.414214e+06</td>\n",
              "    </tr>\n",
              "    <tr>\n",
              "      <th>106</th>\n",
              "      <td>HP</td>\n",
              "      <td>Intel Celeron N3060</td>\n",
              "      <td>Intel HD Graphics 400</td>\n",
              "      <td>1.414214e+06</td>\n",
              "    </tr>\n",
              "    <tr>\n",
              "      <th>146</th>\n",
              "      <td>Apple</td>\n",
              "      <td>Intel Core M3</td>\n",
              "      <td>Intel HD Graphics 615</td>\n",
              "      <td>1.414214e+06</td>\n",
              "    </tr>\n",
              "    <tr>\n",
              "      <th>89</th>\n",
              "      <td>Acer</td>\n",
              "      <td>Intel Core i3-7020U</td>\n",
              "      <td>Intel HD Graphics 620</td>\n",
              "      <td>1.414214e+06</td>\n",
              "    </tr>\n",
              "    <tr>\n",
              "      <th>198</th>\n",
              "      <td>HP</td>\n",
              "      <td>Intel Core i7-8550U</td>\n",
              "      <td>Intel HD Graphics 620</td>\n",
              "      <td>1.414214e+06</td>\n",
              "    </tr>\n",
              "    <tr>\n",
              "      <th>159</th>\n",
              "      <td>Asus</td>\n",
              "      <td>Intel Core i5-8250U</td>\n",
              "      <td>Intel HD Graphics 620</td>\n",
              "      <td>1.414214e+06</td>\n",
              "    </tr>\n",
              "    <tr>\n",
              "      <th>160</th>\n",
              "      <td>Lenovo</td>\n",
              "      <td>Intel Core i3-8130U</td>\n",
              "      <td>Intel HD Graphics 620</td>\n",
              "      <td>1.414214e+06</td>\n",
              "    </tr>\n",
              "    <tr>\n",
              "      <th>74</th>\n",
              "      <td>Lenovo</td>\n",
              "      <td>Intel Celeron N4000</td>\n",
              "      <td>Intel UHD Graphics 600</td>\n",
              "      <td>1.414214e+06</td>\n",
              "    </tr>\n",
              "  </tbody>\n",
              "</table>\n",
              "</div>\n",
              "      <button class=\"colab-df-convert\" onclick=\"convertToInteractive('df-a9339f0e-0a05-43c5-851e-883a3ab51863')\"\n",
              "              title=\"Convert this dataframe to an interactive table.\"\n",
              "              style=\"display:none;\">\n",
              "        \n",
              "  <svg xmlns=\"http://www.w3.org/2000/svg\" height=\"24px\"viewBox=\"0 0 24 24\"\n",
              "       width=\"24px\">\n",
              "    <path d=\"M0 0h24v24H0V0z\" fill=\"none\"/>\n",
              "    <path d=\"M18.56 5.44l.94 2.06.94-2.06 2.06-.94-2.06-.94-.94-2.06-.94 2.06-2.06.94zm-11 1L8.5 8.5l.94-2.06 2.06-.94-2.06-.94L8.5 2.5l-.94 2.06-2.06.94zm10 10l.94 2.06.94-2.06 2.06-.94-2.06-.94-.94-2.06-.94 2.06-2.06.94z\"/><path d=\"M17.41 7.96l-1.37-1.37c-.4-.4-.92-.59-1.43-.59-.52 0-1.04.2-1.43.59L10.3 9.45l-7.72 7.72c-.78.78-.78 2.05 0 2.83L4 21.41c.39.39.9.59 1.41.59.51 0 1.02-.2 1.41-.59l7.78-7.78 2.81-2.81c.8-.78.8-2.07 0-2.86zM5.41 20L4 18.59l7.72-7.72 1.47 1.35L5.41 20z\"/>\n",
              "  </svg>\n",
              "      </button>\n",
              "      \n",
              "  <style>\n",
              "    .colab-df-container {\n",
              "      display:flex;\n",
              "      flex-wrap:wrap;\n",
              "      gap: 12px;\n",
              "    }\n",
              "\n",
              "    .colab-df-convert {\n",
              "      background-color: #E8F0FE;\n",
              "      border: none;\n",
              "      border-radius: 50%;\n",
              "      cursor: pointer;\n",
              "      display: none;\n",
              "      fill: #1967D2;\n",
              "      height: 32px;\n",
              "      padding: 0 0 0 0;\n",
              "      width: 32px;\n",
              "    }\n",
              "\n",
              "    .colab-df-convert:hover {\n",
              "      background-color: #E2EBFA;\n",
              "      box-shadow: 0px 1px 2px rgba(60, 64, 67, 0.3), 0px 1px 3px 1px rgba(60, 64, 67, 0.15);\n",
              "      fill: #174EA6;\n",
              "    }\n",
              "\n",
              "    [theme=dark] .colab-df-convert {\n",
              "      background-color: #3B4455;\n",
              "      fill: #D2E3FC;\n",
              "    }\n",
              "\n",
              "    [theme=dark] .colab-df-convert:hover {\n",
              "      background-color: #434B5C;\n",
              "      box-shadow: 0px 1px 3px 1px rgba(0, 0, 0, 0.15);\n",
              "      filter: drop-shadow(0px 1px 2px rgba(0, 0, 0, 0.3));\n",
              "      fill: #FFFFFF;\n",
              "    }\n",
              "  </style>\n",
              "\n",
              "      <script>\n",
              "        const buttonEl =\n",
              "          document.querySelector('#df-a9339f0e-0a05-43c5-851e-883a3ab51863 button.colab-df-convert');\n",
              "        buttonEl.style.display =\n",
              "          google.colab.kernel.accessAllowed ? 'block' : 'none';\n",
              "\n",
              "        async function convertToInteractive(key) {\n",
              "          const element = document.querySelector('#df-a9339f0e-0a05-43c5-851e-883a3ab51863');\n",
              "          const dataTable =\n",
              "            await google.colab.kernel.invokeFunction('convertToInteractive',\n",
              "                                                     [key], {});\n",
              "          if (!dataTable) return;\n",
              "\n",
              "          const docLinkHtml = 'Like what you see? Visit the ' +\n",
              "            '<a target=\"_blank\" href=https://colab.research.google.com/notebooks/data_table.ipynb>data table notebook</a>'\n",
              "            + ' to learn more about interactive tables.';\n",
              "          element.innerHTML = '';\n",
              "          dataTable['output_type'] = 'display_data';\n",
              "          await google.colab.output.renderOutput(dataTable, element);\n",
              "          const docLink = document.createElement('div');\n",
              "          docLink.innerHTML = docLinkHtml;\n",
              "          element.appendChild(docLink);\n",
              "        }\n",
              "      </script>\n",
              "    </div>\n",
              "  </div>\n",
              "  "
            ]
          },
          "metadata": {},
          "execution_count": 39
        }
      ],
      "source": [
        "rec2 = skr2.recommend_for_single_object(15, graphics_card_matrix_co, cos_flag = False)\n",
        "rec2"
      ]
    },
    {
      "cell_type": "code",
      "execution_count": null,
      "id": "19b0dbb5",
      "metadata": {
        "id": "19b0dbb5"
      },
      "outputs": [],
      "source": [
        ""
      ]
    }
  ],
  "metadata": {
    "kernelspec": {
      "display_name": "Python 3 (ipykernel)",
      "language": "python",
      "name": "python3"
    },
    "language_info": {
      "codemirror_mode": {
        "name": "ipython",
        "version": 3
      },
      "file_extension": ".py",
      "mimetype": "text/x-python",
      "name": "python",
      "nbconvert_exporter": "python",
      "pygments_lexer": "ipython3",
      "version": "3.10.0"
    },
    "colab": {
      "name": "Lab4.ipynb",
      "provenance": [],
      "include_colab_link": true
    }
  },
  "nbformat": 4,
  "nbformat_minor": 5
}